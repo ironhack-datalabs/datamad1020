{
 "cells": [
  {
   "cell_type": "markdown",
   "metadata": {},
   "source": [
    "# Web Scraping Lab\n",
    "\n",
    "You will find in this notebook some web scraping exercises to practice your scraping skills using `requests` and `Beautiful Soup`.\n",
    "\n",
    "**Tips:**\n",
    "\n",
    "- Check the [response status code](https://http.cat/) for each request to ensure you have obtained the intended content.\n",
    "- Look at the HTML code in each request to understand the kind of info you are getting and its format.\n",
    "- Check for patterns in the response text to extract the data/info requested in each question.\n",
    "- Visit each url and take a look at its source through Chrome DevTools. You'll need to identify the html tags, special class names etc. used for the html content you are expected to extract.\n",
    "- Check out the css selectors."
   ]
  },
  {
   "cell_type": "markdown",
   "metadata": {},
   "source": [
    "### Useful Resources\n",
    "- [Requests library](http://docs.python-requests.org/en/master/#the-user-guide) documentation \n",
    "- [Beautiful Soup Doc](https://www.crummy.com/software/BeautifulSoup/bs4/doc/)\n",
    "- [List of HTTP status codes](https://en.wikipedia.org/wiki/List_of_HTTP_status_codes)\n",
    "- [HTML basics](http://www.simplehtmlguide.com/cheatsheet.php)\n",
    "- [CSS basics](https://www.cssbasics.com/#page_start)"
   ]
  },
  {
   "cell_type": "markdown",
   "metadata": {},
   "source": [
    "#### First of all, gathering our tools."
   ]
  },
  {
   "cell_type": "code",
   "execution_count": 1,
   "metadata": {},
   "outputs": [],
   "source": [
    "import requests\n",
    "from bs4 import BeautifulSoup\n",
    "import pandas as pd\n",
    "import json\n",
    "import re\n",
    "import numpy as np"
   ]
  },
  {
   "cell_type": "markdown",
   "metadata": {},
   "source": [
    "#### Download, parse (using BeautifulSoup), and print the content from the Trending Developers page from GitHub:"
   ]
  },
  {
   "cell_type": "code",
   "execution_count": 2,
   "metadata": {},
   "outputs": [],
   "source": [
    "# This is the url you will scrape in this exercise\n",
    "url = 'https://github.com/trending/developers'\n",
    "trend_dev = requests.get(url)\n",
    "soup = BeautifulSoup(trend_dev.text)"
   ]
  },
  {
   "cell_type": "code",
   "execution_count": 3,
   "metadata": {},
   "outputs": [
    {
     "name": "stdout",
     "output_type": "stream",
     "text": [
      "\n",
      "<!DOCTYPE html>\n",
      "\n",
      "<html lang=\"en\">\n",
      "<head>\n",
      "<meta charset=\"utf-8\"/>\n",
      "<link href=\"https://github.githubassets.com\" rel=\"dns-prefetch\"/>\n",
      "<link href=\"https://avatars0.githubusercontent.com\" rel=\"dns-prefetc\n"
     ]
    }
   ],
   "source": [
    "#The data in soup.contents[3] is too long, so I only print the first 200 character\n",
    "print(str(soup)[:200])"
   ]
  },
  {
   "cell_type": "markdown",
   "metadata": {},
   "source": [
    "#### Display the names of the trending developers retrieved in the previous step.\n",
    "\n",
    "Your output should be a Python list of developer names. Each name should not contain any html tag.\n",
    "\n",
    "**Instructions:**\n",
    "\n",
    "1. Find out the html tag and class names used for the developer names. You can achieve this using Chrome DevTools.\n",
    "\n",
    "1. Use BeautifulSoup to extract all the html elements that contain the developer names.\n",
    "\n",
    "1. Use string manipulation techniques to replace whitespaces and linebreaks (i.e. `\\n`) in the *text* of each html element. Use a list to store the clean names.\n",
    "\n",
    "1. Print the list of names.\n",
    "\n",
    "Your output should look like below (with different names):\n",
    "\n",
    "```\n",
    "['trimstray (@trimstray)',\n",
    " 'joewalnes (JoeWalnes)',\n",
    " 'charlax (Charles-AxelDein)',\n",
    " 'ForrestKnight (ForrestKnight)',\n",
    " 'revery-ui (revery-ui)',\n",
    " 'alibaba (Alibaba)',\n",
    " 'Microsoft (Microsoft)',\n",
    " 'github (GitHub)',\n",
    " 'facebook (Facebook)',\n",
    " 'boazsegev (Bo)',\n",
    " 'google (Google)',\n",
    " 'cloudfetch',\n",
    " 'sindresorhus (SindreSorhus)',\n",
    " 'tensorflow',\n",
    " 'apache (TheApacheSoftwareFoundation)',\n",
    " 'DevonCrawford (DevonCrawford)',\n",
    " 'ARMmbed (ArmMbed)',\n",
    " 'vuejs (vuejs)',\n",
    " 'fastai (fast.ai)',\n",
    " 'QiShaoXuan (Qi)',\n",
    " 'joelparkerhenderson (JoelParkerHenderson)',\n",
    " 'torvalds (LinusTorvalds)',\n",
    " 'CyC2018',\n",
    " 'komeiji-satori (神楽坂覚々)',\n",
    " 'script-8']\n",
    " ```"
   ]
  },
  {
   "cell_type": "code",
   "execution_count": 4,
   "metadata": {},
   "outputs": [
    {
     "name": "stdout",
     "output_type": "stream",
     "text": [
      "['Laurent (laurent22)', 'DannyRyan (djrtwo)', 'ArdaTanrıkulu (ardatan)', 'DotanSimha (dotansimha)', 'FelixAngelov (felangel)', 'AlisdairMcDiarmid (alisdair)', 'GlebBahmutov (bahmutov)', 'AntonBabenko (antonbabenko)', 'FlorianRoth (Neo23x0)', 'TannerLinsley (tannerlinsley)', 'NicolásBevacqua (bevacqua)', 'FrostMing (frostming)', 'FelixLange (fjl)', 'KevinPapst (kevinpapst)', 'TobiasKlauser (tklauser)', 'MathiasBynens (mathiasbynens)', 'FonsvanderPlas (fonsp)', 'MiekGieben (miekg)', 'RomainRigaux (romainr)', 'BradFitzpatrick (bradfitz)', 'MichaelShilman (shilman)', 'LiamDeBeasi (liamdebeasi)', 'JeanMertz (JeanMertz)', 'IngoBürk (Airblader)', 'TobiasReich (electerious)']\n"
     ]
    }
   ],
   "source": [
    "devs = soup.select(\"h1\")\n",
    "\n",
    "#Getting the names\n",
    "devs_names = [devs[i].text.replace(\"\\n\",\"\").replace(\" \",\"\")\n",
    "              for i in range(1,len(devs)) if 'class=\"h3' in str(devs[i]).split()]\n",
    "devs_ids = soup.select(\"p\")\n",
    "#Getting the account name\n",
    "devs_id = [devs_ids[i].text.replace(\"\\n\",\"\").replace(\" \",\"\")\n",
    "              for i in range(1,len(devs_ids)) if 'class=\"f4' in str(devs_ids[i]).split()]\n",
    "\n",
    "#Formating the output\n",
    "dev_complete=[]\n",
    "for n,ids in zip(devs_names,devs_id):\n",
    "    dev_complete.append(n+\" (\"+ids+\")\")\n",
    "\n",
    "print(dev_complete)"
   ]
  },
  {
   "cell_type": "markdown",
   "metadata": {},
   "source": [
    "#### Display the trending Python repositories in GitHub\n",
    "\n",
    "The steps to solve this problem is similar to the previous one except that you need to find out the repository names instead of developer names."
   ]
  },
  {
   "cell_type": "code",
   "execution_count": 5,
   "metadata": {},
   "outputs": [],
   "source": [
    "# This is the url you will scrape in this exercise\n",
    "url = 'https://github.com/trending/python?since=daily'\n",
    "trend_py = requests.get(url)\n",
    "soup = BeautifulSoup(trend_py.text)"
   ]
  },
  {
   "cell_type": "code",
   "execution_count": 6,
   "metadata": {},
   "outputs": [
    {
     "name": "stdout",
     "output_type": "stream",
     "text": [
      "['MobSF', 'mxrch', 'gto76', 'jofpin', 'apache', 'swisskyrepo', 'OWASP', 'facebookresearch', 'jerry-git', 'ethereum', 'facebookresearch', 'ethereum', 'PaddlePaddle', 'teja156', 'ssut', 'pytorch', 'facebookresearch', 'floodsung', 'dask', 'deepset-ai', 'aws-samples', 'openatx', 'moranzcw', 'aiogram']\n"
     ]
    }
   ],
   "source": [
    "repo_py = soup.select(\"span\")\n",
    "text_repo_py = [repo_py[i+2].text.replace(\"\\n\",\"\").replace(\" \",\"\")[:-1] \n",
    "                for i in range(3,len(repo_py)) if \"Built\" in repo_py[i].text.split() ]\n",
    "text_repo_py=text_repo_py[:-1]\n",
    "print(text_repo_py)"
   ]
  },
  {
   "cell_type": "markdown",
   "metadata": {},
   "source": [
    "#### Display all the image links from Walt Disney wikipedia page"
   ]
  },
  {
   "cell_type": "code",
   "execution_count": 7,
   "metadata": {},
   "outputs": [],
   "source": [
    "# This is the url you will scrape in this exercise\n",
    "url = 'https://en.wikipedia.org/wiki/Walt_Disney'\n",
    "disney = requests.get(url)\n",
    "soup = BeautifulSoup(disney.text)"
   ]
  },
  {
   "cell_type": "code",
   "execution_count": 8,
   "metadata": {
    "scrolled": true
   },
   "outputs": [
    {
     "name": "stdout",
     "output_type": "stream",
     "text": [
      "['upload.wikimedia.org/wikipedia/en/thumb/e/e7/Cscr-featured.svg/20px-Cscr-featured.svg.png', 'upload.wikimedia.org/wikipedia/en/thumb/8/8c/Extended-protection-shackle.svg/20px-Extended-protection-shackle.svg.png', 'upload.wikimedia.org/wikipedia/commons/thumb/d/df/Walt_Disney_1946.JPG/220px-Walt_Disney_1946.JPG', 'upload.wikimedia.org/wikipedia/commons/thumb/8/87/Walt_Disney_1942_signature.svg/150px-Walt_Disney_1942_signature.svg.png']\n"
     ]
    }
   ],
   "source": [
    "disney_img = soup.select(\"img\")\n",
    "wiki_images = [i.get(\"src\").replace(\"//\",\"\") for i in disney_img if i.get(\"src\")[:4] == \"//up\"] #only the valid images\n",
    "\n",
    "print(wiki_images[:4])"
   ]
  },
  {
   "cell_type": "markdown",
   "metadata": {},
   "source": [
    "#### Retrieve all links to pages on Wikipedia that refer to some kind of Python."
   ]
  },
  {
   "cell_type": "code",
   "execution_count": 9,
   "metadata": {},
   "outputs": [],
   "source": [
    "# This is the url you will scrape in this exercise\n",
    "url ='https://en.wikipedia.org/wiki/Python' \n",
    "wikipython = requests.get(url)\n",
    "soup = BeautifulSoup(wikipython.text)"
   ]
  },
  {
   "cell_type": "code",
   "execution_count": 10,
   "metadata": {},
   "outputs": [
    {
     "name": "stdout",
     "output_type": "stream",
     "text": [
      "['/wiki/Python_(genus)', '/wiki/Python_(genus)', '/wiki/Python_(programming_language)', '/wiki/CMU_Common_Lisp', '/wiki/PERQ#PERQ_3', '/wiki/Python_of_Aenus', '/wiki/Python_(painter)', '/wiki/Python_of_Byzantium', '/wiki/Python_of_Catana', '/wiki/Python_Anghelo', '/wiki/Python_(Efteling)', '/wiki/Python_(Busch_Gardens_Tampa_Bay)', '/wiki/Python_(Coney_Island,_Cincinnati,_Ohio)', '/wiki/Python_(automobile_maker)', '/wiki/Python_(Ford_prototype)', '/wiki/Python_(missile)', '/wiki/Python_(nuclear_primary)', '/wiki/Colt_Python', '/wiki/PYTHON', '/wiki/Python_(film)', '/wiki/Python_(mythology)', '/wiki/Monty_Python', '/wiki/Python_(Monty)_Pictures', '/wiki/Python_(Monty)_Pictures', '/wiki/Cython', '/wiki/Pyton', '/wiki/Pithon']\n"
     ]
    }
   ],
   "source": [
    "wiki_py = soup.select(\"ul\",id=\"mw-parser-output\") \n",
    "temp_wiki_url=[wiki_py[i].find_all(\"a\") for i in range(0, len(wiki_py))]\n",
    "\n",
    "wiki_urls =[]\n",
    "for lista in temp_wiki_url: \n",
    "    for ll in lista:\n",
    "        if str(lista[0])[:25] == '<a href=\"/wiki/Category:D': #Break if it finishes the body of the wiki page\n",
    "            break          \n",
    "        if str(ll)[:15] == '<a href=\"/wiki/':\n",
    "            wiki_urls.append(str(ll).split('\"')[1])\n",
    " \n",
    "    if str(lista[0])[:25] == '<a href=\"/wiki/Category:D':\n",
    "        break\n",
    "\n",
    "print(wiki_urls)        "
   ]
  },
  {
   "cell_type": "markdown",
   "metadata": {},
   "source": [
    "#### Number of Titles that have changed in the United States Code since its last release point "
   ]
  },
  {
   "cell_type": "code",
   "execution_count": 11,
   "metadata": {},
   "outputs": [],
   "source": [
    "# This is the url you will scrape in this exercise\n",
    "url = 'http://uscode.house.gov/download/download.shtml'\n",
    "ustitles = requests.get(url)\n",
    "soup = BeautifulSoup(ustitles.text)"
   ]
  },
  {
   "cell_type": "code",
   "execution_count": 12,
   "metadata": {},
   "outputs": [
    {
     "name": "stdout",
     "output_type": "stream",
     "text": [
      "['Title 8 - Aliens and Nationality', 'Title 11 - Bankruptcy ', 'Title 15 - Commerce and Trade', 'Title 18 - Crimes and Criminal Procedure ', 'Title 25 - Indians', 'Title 31 - Money and Finance ', 'Title 32 - National Guard ', \"Title 38 - Veterans' Benefits \", 'Title 42 - The Public Health and Welfare', 'Title 47 - Telecommunications', 'Title 51 - National and Commercial Space Programs ']\n"
     ]
    }
   ],
   "source": [
    "changed = soup.findAll(\"div\", {\"class\": \"usctitlechanged\"})\n",
    "print([x.text.replace(\"\\n\",\"\").replace(\"  \",\"\").replace(\"٭\",\"\") for x in changed])"
   ]
  },
  {
   "cell_type": "markdown",
   "metadata": {},
   "source": [
    "#### A Python list with the top ten FBI's Most Wanted names "
   ]
  },
  {
   "cell_type": "code",
   "execution_count": 13,
   "metadata": {},
   "outputs": [],
   "source": [
    "# This is the url you will scrape in this exercise\n",
    "url = 'https://www.fbi.gov/wanted/topten'\n",
    "wanted = requests.get(url)\n",
    "soup = BeautifulSoup(wanted.text)"
   ]
  },
  {
   "cell_type": "code",
   "execution_count": 14,
   "metadata": {},
   "outputs": [
    {
     "name": "stdout",
     "output_type": "stream",
     "text": [
      "['ARNOLDO JIMENEZ', 'JASON DEREK BROWN', 'ALEXIS FLORES', 'JOSE RODOLFO VILLARREAL-HERNANDEZ', 'EUGENE PALMER', 'RAFAEL CARO-QUINTERO', 'ROBERT WILLIAM FISHER', 'BHADRESHKUMAR CHETANBHAI PATEL', 'ALEJANDRO ROSALES CASTILLO', 'YASER ABDEL SAID']\n"
     ]
    }
   ],
   "source": [
    "fbi = soup.findAll(\"h3\", {\"class\": \"title\"})\n",
    "print([x.text.replace(\"\\n\",\"\") for x in fbi])"
   ]
  },
  {
   "cell_type": "markdown",
   "metadata": {},
   "source": [
    "#### List all language names and number of related articles in the order they appear in wikipedia.org"
   ]
  },
  {
   "cell_type": "code",
   "execution_count": 15,
   "metadata": {},
   "outputs": [],
   "source": [
    "# This is the url you will scrape in this exercise\n",
    "url = 'https://www.wikipedia.org/'\n",
    "wiki_lang = requests.get(url)\n",
    "soup = BeautifulSoup(wiki_lang.text)"
   ]
  },
  {
   "cell_type": "code",
   "execution_count": 16,
   "metadata": {},
   "outputs": [
    {
     "name": "stdout",
     "output_type": "stream",
     "text": [
      "['English , 6\\xa0183\\xa0000', 'EspaÃ±ol , 1\\xa0637\\xa0000', 'æ\\x97¥æ\\x9c¬èª\\x9e , 1\\xa0235\\xa0000', 'Deutsch , 2\\xa0495\\xa0000', 'Ð\\xa0Ñ\\x83Ñ\\x81Ñ\\x81ÐºÐ¸Ð¹ , 1\\xa0672\\xa0000', 'FranÃ§ais , 2\\xa0262\\xa0000', 'Italiano , 1\\xa0645\\xa0000', 'ä¸\\xadæ\\x96\\x87 , 1\\xa0155\\xa0000', 'PortuguÃªs , 1\\xa0045\\xa0000', 'Polski , 1\\xa0435\\xa0000']\n"
     ]
    }
   ],
   "source": [
    "langs=[]\n",
    "for i in range(1,11):\n",
    "    lang = soup.findAll(\"div\", {\"class\": \"central-featured-lang lang\"+str(i)})\n",
    "    langs.append(lang[0].text.replace(\"\\n\\n\",\"\").replace(\"\\n\",\" , \").split(\"+\")[0])\n",
    "    \n",
    "print(langs)  #the print is the ugliest thing that can be printed"
   ]
  },
  {
   "cell_type": "markdown",
   "metadata": {},
   "source": [
    "#### A list with the different kind of datasets available in data.gov.uk "
   ]
  },
  {
   "cell_type": "code",
   "execution_count": 17,
   "metadata": {},
   "outputs": [],
   "source": [
    "# This is the url you will scrape in this exercise  govuk-link\n",
    "url = 'https://data.gov.uk/'\n",
    "ukdata = requests.get(url)\n",
    "soup = BeautifulSoup(ukdata.text)"
   ]
  },
  {
   "cell_type": "code",
   "execution_count": 18,
   "metadata": {},
   "outputs": [
    {
     "name": "stdout",
     "output_type": "stream",
     "text": [
      "['Business and economy', 'Crime and justice', 'Defence', 'Education', 'Environment', 'Government', 'Government spending', 'Health', 'Mapping', 'Society', 'Towns and cities', 'Transport']\n"
     ]
    }
   ],
   "source": [
    "databases = soup.findAll(\"a\", {\"class\": \"govuk-link\"})\n",
    "\n",
    "uk_db = [x.text for x in databases if x.get(\"href\")[:7] == '/search' ]\n",
    "\n",
    "print(uk_db)"
   ]
  },
  {
   "cell_type": "markdown",
   "metadata": {},
   "source": [
    "#### Top 10 languages by number of native speakers stored in a Pandas Dataframe"
   ]
  },
  {
   "cell_type": "code",
   "execution_count": 19,
   "metadata": {},
   "outputs": [],
   "source": [
    "# This is the url you will scrape in this exercise\n",
    "url = 'https://en.wikipedia.org/wiki/List_of_languages_by_number_of_native_speakers'\n",
    "wiki_nat_lang = requests.get(url)\n",
    "soup = BeautifulSoup(wiki_nat_lang.text)"
   ]
  },
  {
   "cell_type": "code",
   "execution_count": 20,
   "metadata": {},
   "outputs": [
    {
     "data": {
      "text/html": [
       "<div>\n",
       "<style scoped>\n",
       "    .dataframe tbody tr th:only-of-type {\n",
       "        vertical-align: middle;\n",
       "    }\n",
       "\n",
       "    .dataframe tbody tr th {\n",
       "        vertical-align: top;\n",
       "    }\n",
       "\n",
       "    .dataframe thead th {\n",
       "        text-align: right;\n",
       "    }\n",
       "</style>\n",
       "<table border=\"1\" class=\"dataframe\">\n",
       "  <thead>\n",
       "    <tr style=\"text-align: right;\">\n",
       "      <th></th>\n",
       "      <th>Rank</th>\n",
       "      <th>Language</th>\n",
       "      <th>Speakers(millions)</th>\n",
       "      <th>% of World pop.(March 2019)[8]</th>\n",
       "      <th>Language family</th>\n",
       "      <th>Branch</th>\n",
       "    </tr>\n",
       "  </thead>\n",
       "  <tbody>\n",
       "    <tr>\n",
       "      <th>0</th>\n",
       "      <td>1</td>\n",
       "      <td>Mandarin Chinese</td>\n",
       "      <td>918</td>\n",
       "      <td>11.922</td>\n",
       "      <td>Sino-Tibetan</td>\n",
       "      <td>Sinitic</td>\n",
       "    </tr>\n",
       "    <tr>\n",
       "      <th>1</th>\n",
       "      <td>2</td>\n",
       "      <td>Spanish</td>\n",
       "      <td>480</td>\n",
       "      <td>5.994</td>\n",
       "      <td>Indo-European</td>\n",
       "      <td>Romance</td>\n",
       "    </tr>\n",
       "    <tr>\n",
       "      <th>2</th>\n",
       "      <td>3</td>\n",
       "      <td>English</td>\n",
       "      <td>379</td>\n",
       "      <td>4.922</td>\n",
       "      <td>Indo-European</td>\n",
       "      <td>Germanic</td>\n",
       "    </tr>\n",
       "    <tr>\n",
       "      <th>3</th>\n",
       "      <td>4</td>\n",
       "      <td>Hindi (Sanskritised Hindustani)[9]</td>\n",
       "      <td>341</td>\n",
       "      <td>4.429</td>\n",
       "      <td>Indo-European</td>\n",
       "      <td>Indo-Aryan</td>\n",
       "    </tr>\n",
       "    <tr>\n",
       "      <th>4</th>\n",
       "      <td>5</td>\n",
       "      <td>Bengali</td>\n",
       "      <td>228</td>\n",
       "      <td>2.961</td>\n",
       "      <td>Indo-European</td>\n",
       "      <td>Indo-Aryan</td>\n",
       "    </tr>\n",
       "    <tr>\n",
       "      <th>5</th>\n",
       "      <td>6</td>\n",
       "      <td>Portuguese</td>\n",
       "      <td>221</td>\n",
       "      <td>2.870</td>\n",
       "      <td>Indo-European</td>\n",
       "      <td>Romance</td>\n",
       "    </tr>\n",
       "    <tr>\n",
       "      <th>6</th>\n",
       "      <td>7</td>\n",
       "      <td>Russian</td>\n",
       "      <td>154</td>\n",
       "      <td>2.000</td>\n",
       "      <td>Indo-European</td>\n",
       "      <td>Balto-Slavic</td>\n",
       "    </tr>\n",
       "    <tr>\n",
       "      <th>7</th>\n",
       "      <td>8</td>\n",
       "      <td>Japanese</td>\n",
       "      <td>128</td>\n",
       "      <td>1.662</td>\n",
       "      <td>Japonic</td>\n",
       "      <td>Japanese</td>\n",
       "    </tr>\n",
       "    <tr>\n",
       "      <th>8</th>\n",
       "      <td>9</td>\n",
       "      <td>Western Punjabi[10]</td>\n",
       "      <td>92.7</td>\n",
       "      <td>1.204</td>\n",
       "      <td>Indo-European</td>\n",
       "      <td>Indo-Aryan</td>\n",
       "    </tr>\n",
       "    <tr>\n",
       "      <th>9</th>\n",
       "      <td>10</td>\n",
       "      <td>Marathi</td>\n",
       "      <td>83.1</td>\n",
       "      <td>1.079</td>\n",
       "      <td>Indo-European</td>\n",
       "      <td>Indo-Aryan</td>\n",
       "    </tr>\n",
       "  </tbody>\n",
       "</table>\n",
       "</div>"
      ],
      "text/plain": [
       "  Rank                            Language Speakers(millions)  \\\n",
       "0    1                    Mandarin Chinese                918   \n",
       "1    2                             Spanish                480   \n",
       "2    3                             English                379   \n",
       "3    4  Hindi (Sanskritised Hindustani)[9]                341   \n",
       "4    5                             Bengali                228   \n",
       "5    6                          Portuguese                221   \n",
       "6    7                             Russian                154   \n",
       "7    8                            Japanese                128   \n",
       "8    9                 Western Punjabi[10]               92.7   \n",
       "9   10                             Marathi               83.1   \n",
       "\n",
       "  % of World pop.(March 2019)[8] Language family        Branch  \n",
       "0                         11.922    Sino-Tibetan       Sinitic  \n",
       "1                          5.994   Indo-European       Romance  \n",
       "2                          4.922   Indo-European      Germanic  \n",
       "3                          4.429   Indo-European    Indo-Aryan  \n",
       "4                          2.961   Indo-European    Indo-Aryan  \n",
       "5                          2.870   Indo-European       Romance  \n",
       "6                          2.000   Indo-European  Balto-Slavic  \n",
       "7                          1.662         Japonic      Japanese  \n",
       "8                          1.204   Indo-European    Indo-Aryan  \n",
       "9                          1.079   Indo-European    Indo-Aryan  "
      ]
     },
     "execution_count": 20,
     "metadata": {},
     "output_type": "execute_result"
    }
   ],
   "source": [
    "lang_tab = soup.find_all(\"table\", class_=\"wikitable sortable\")\n",
    "\n",
    "#Getting the header\n",
    "head_raw = lang_tab[0].find_all('th')\n",
    "head = [el.text.strip() for el in head_raw]\n",
    "\n",
    "#Getting the table data\n",
    "tds = lang_tab[0].find_all('td')\n",
    "data_raw=[]\n",
    "for x in tds:\n",
    "    data_raw.append(x.text.strip().split(\"\\n\"))\n",
    "#Reshaping it to match the header\n",
    "data=np.array(data_raw).flatten().reshape(int(len(data_raw)/len(head)),len(head))\n",
    "#Obtaining the dataframe\n",
    "df=pd.DataFrame(data,columns=head)\n",
    "df.head(10)"
   ]
  },
  {
   "cell_type": "markdown",
   "metadata": {},
   "source": [
    "### Stepping up the game"
   ]
  },
  {
   "cell_type": "markdown",
   "metadata": {},
   "source": [
    "####  20 latest earthquakes info (date, time, latitude, longitude and region name) by the EMSC as a pandas dataframe"
   ]
  },
  {
   "cell_type": "code",
   "execution_count": 21,
   "metadata": {},
   "outputs": [],
   "source": [
    "# This is the url you will scrape in this exercise\n",
    "url = 'https://www.emsc-csem.org/Earthquake/'\n",
    "earthquake = requests.get(url)\n",
    "soup = BeautifulSoup(earthquake.text)"
   ]
  },
  {
   "cell_type": "code",
   "execution_count": 22,
   "metadata": {},
   "outputs": [
    {
     "data": {
      "text/html": [
       "<div>\n",
       "<style scoped>\n",
       "    .dataframe tbody tr th:only-of-type {\n",
       "        vertical-align: middle;\n",
       "    }\n",
       "\n",
       "    .dataframe tbody tr th {\n",
       "        vertical-align: top;\n",
       "    }\n",
       "\n",
       "    .dataframe thead th {\n",
       "        text-align: right;\n",
       "    }\n",
       "</style>\n",
       "<table border=\"1\" class=\"dataframe\">\n",
       "  <thead>\n",
       "    <tr style=\"text-align: right;\">\n",
       "      <th></th>\n",
       "      <th>date</th>\n",
       "      <th>hour</th>\n",
       "      <th>N</th>\n",
       "      <th>E</th>\n",
       "      <th>region</th>\n",
       "    </tr>\n",
       "  </thead>\n",
       "  <tbody>\n",
       "    <tr>\n",
       "      <th>0</th>\n",
       "      <td>Fearthquake2020-11-05</td>\n",
       "      <td>22:39:45.516min</td>\n",
       "      <td>ago42.97</td>\n",
       "      <td>0.18</td>\n",
       "      <td>PYRENEES2020-11-05 22:54</td>\n",
       "    </tr>\n",
       "    <tr>\n",
       "      <th>1</th>\n",
       "      <td>earthquake2020-11-05</td>\n",
       "      <td>22:36:04.919min</td>\n",
       "      <td>ago19.16</td>\n",
       "      <td>155.48</td>\n",
       "      <td>ISLAND OF</td>\n",
       "    </tr>\n",
       "    <tr>\n",
       "      <th>2</th>\n",
       "      <td>Fearthquake2020-11-05</td>\n",
       "      <td>22:29:15.126min</td>\n",
       "      <td>ago37.88</td>\n",
       "      <td>26.90</td>\n",
       "      <td>DODECANESE ISLANDS,</td>\n",
       "    </tr>\n",
       "    <tr>\n",
       "      <th>3</th>\n",
       "      <td>earthquake2020-11-05</td>\n",
       "      <td>22:23:00.933min</td>\n",
       "      <td>ago36.28</td>\n",
       "      <td>143.70</td>\n",
       "      <td>VICTORIA, AUSTRALIA2020-11-05</td>\n",
       "    </tr>\n",
       "    <tr>\n",
       "      <th>4</th>\n",
       "      <td>earthquake2020-11-05</td>\n",
       "      <td>22:21:43.634min</td>\n",
       "      <td>ago36.47</td>\n",
       "      <td>117.95</td>\n",
       "      <td>CENTRAL CALIFORNIA2020-11-05</td>\n",
       "    </tr>\n",
       "  </tbody>\n",
       "</table>\n",
       "</div>"
      ],
      "text/plain": [
       "                    date             hour         N       E  \\\n",
       "0  Fearthquake2020-11-05  22:39:45.516min  ago42.97    0.18   \n",
       "1   earthquake2020-11-05  22:36:04.919min  ago19.16  155.48   \n",
       "2  Fearthquake2020-11-05  22:29:15.126min  ago37.88   26.90   \n",
       "3   earthquake2020-11-05  22:23:00.933min  ago36.28  143.70   \n",
       "4   earthquake2020-11-05  22:21:43.634min  ago36.47  117.95   \n",
       "\n",
       "                          region  \n",
       "0       PYRENEES2020-11-05 22:54  \n",
       "1                      ISLAND OF  \n",
       "2            DODECANESE ISLANDS,  \n",
       "3  VICTORIA, AUSTRALIA2020-11-05  \n",
       "4   CENTRAL CALIFORNIA2020-11-05  "
      ]
     },
     "execution_count": 22,
     "metadata": {},
     "output_type": "execute_result"
    }
   ],
   "source": [
    "earthq_tab_data = soup.find_all(\"tbody\", id=\"tbody\")\n",
    "#select the columns needed\n",
    "cols = [0,1,2,4,7,8]\n",
    "\n",
    "#obtain the data\n",
    "data_raw = earthq_tab_data[0].find_all('tr')\n",
    "list_data=[]\n",
    "for i in range(0,20):\n",
    "        row =data_raw[i].text.split()\n",
    "        row=list(map(row.__getitem__, cols))\n",
    "        temporal=row[:-2]\n",
    "        #join the strings of the region\n",
    "        temporal.append(row[-2]+\" \"+row[-1])\n",
    "        list_data.append(temporal)\n",
    "        \n",
    "df=pd.DataFrame(list_data,columns=[\"date\",\"hour\",\"N\",\"E\",\"region\"])\n",
    "df.head()   #Needs additional cleaning to select only the date, quit the \"ago\" in N and some dates in region"
   ]
  },
  {
   "cell_type": "markdown",
   "metadata": {},
   "source": [
    "#### IMDB's Top 250 data (movie name, Initial release, director name and stars) as a pandas dataframe"
   ]
  },
  {
   "cell_type": "code",
   "execution_count": 23,
   "metadata": {},
   "outputs": [],
   "source": [
    "# This is the url you will scrape in this exercise \n",
    "url = 'https://www.imdb.com/chart/top'"
   ]
  },
  {
   "cell_type": "code",
   "execution_count": null,
   "metadata": {},
   "outputs": [],
   "source": []
  },
  {
   "cell_type": "markdown",
   "metadata": {},
   "source": [
    "#### Movie name, year and a brief summary of the top 10 random movies (IMDB) as a pandas dataframe."
   ]
  },
  {
   "cell_type": "code",
   "execution_count": 24,
   "metadata": {},
   "outputs": [],
   "source": [
    "#This is the url you will scrape in this exercise\n",
    "url = 'http://www.imdb.com/chart/top'"
   ]
  },
  {
   "cell_type": "code",
   "execution_count": null,
   "metadata": {},
   "outputs": [],
   "source": []
  },
  {
   "cell_type": "markdown",
   "metadata": {},
   "source": [
    "#### Find the live weather report (temperature, wind speed, description and weather) of a given city."
   ]
  },
  {
   "cell_type": "code",
   "execution_count": 25,
   "metadata": {},
   "outputs": [],
   "source": [
    "#https://openweathermap.org/current"
   ]
  },
  {
   "cell_type": "code",
   "execution_count": 26,
   "metadata": {},
   "outputs": [],
   "source": [
    "def weather(city):\n",
    "    pass"
   ]
  },
  {
   "cell_type": "markdown",
   "metadata": {},
   "source": [
    "#### Book name,price and stock availability as a pandas dataframe."
   ]
  },
  {
   "cell_type": "code",
   "execution_count": 27,
   "metadata": {},
   "outputs": [],
   "source": [
    "# This is the url you will scrape in this exercise. \n",
    "# It is a fictional bookstore created to be scraped. \n",
    "url = 'http://books.toscrape.com/'"
   ]
  },
  {
   "cell_type": "code",
   "execution_count": null,
   "metadata": {},
   "outputs": [],
   "source": []
  }
 ],
 "metadata": {
  "kernelspec": {
   "display_name": "Python 3",
   "language": "python",
   "name": "python3"
  },
  "language_info": {
   "codemirror_mode": {
    "name": "ipython",
    "version": 3
   },
   "file_extension": ".py",
   "mimetype": "text/x-python",
   "name": "python",
   "nbconvert_exporter": "python",
   "pygments_lexer": "ipython3",
   "version": "3.8.5"
  }
 },
 "nbformat": 4,
 "nbformat_minor": 2
}
