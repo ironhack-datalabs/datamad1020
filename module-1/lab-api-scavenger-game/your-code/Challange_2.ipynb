{
 "cells": [
  {
   "cell_type": "code",
   "execution_count": 1,
   "metadata": {},
   "outputs": [],
   "source": [
    "from dotenv import load_dotenv\n",
    "import os\n",
    "import re\n",
    "import pandas as pd\n",
    "import requests"
   ]
  },
  {
   "cell_type": "code",
   "execution_count": 2,
   "metadata": {},
   "outputs": [
    {
     "data": {
      "text/plain": [
       "True"
      ]
     },
     "execution_count": 2,
     "metadata": {},
     "output_type": "execute_result"
    }
   ],
   "source": [
    "load_dotenv()"
   ]
  },
  {
   "cell_type": "code",
   "execution_count": 3,
   "metadata": {},
   "outputs": [],
   "source": [
    "gh_token = os.getenv(\"API_KEY\")"
   ]
  },
  {
   "cell_type": "code",
   "execution_count": 4,
   "metadata": {},
   "outputs": [],
   "source": [
    "\n",
    "url = \"https://api.github.com\"\n",
    "headers = {\n",
    "    \"Authorization\": f\"token {gh_token}\"\n",
    "}"
   ]
  },
  {
   "cell_type": "code",
   "execution_count": 5,
   "metadata": {},
   "outputs": [],
   "source": [
    "\n",
    "endpoint = \"/repos/{owner}/{repo}\"\n",
    "repo_info = {\n",
    "    \"owner\":\"ironhack-datalabs\",\n",
    "    \"repo\":\"datamad1020\"\n",
    "}\n",
    "parameters = {\n",
    "    \"state\":\"all\"\n",
    "}"
   ]
  },
  {
   "cell_type": "code",
   "execution_count": 6,
   "metadata": {},
   "outputs": [],
   "source": [
    "data = requests.get(url+endpoint.format(**repo_info), \n",
    "                    headers=headers,\n",
    "                    params=parameters)"
   ]
  },
  {
   "cell_type": "code",
   "execution_count": 7,
   "metadata": {},
   "outputs": [],
   "source": [
    "data = data.json()"
   ]
  },
  {
   "cell_type": "code",
   "execution_count": 8,
   "metadata": {},
   "outputs": [
    {
     "data": {
      "text/plain": [
       "dict_keys(['id', 'node_id', 'name', 'full_name', 'private', 'owner', 'html_url', 'description', 'fork', 'url', 'forks_url', 'keys_url', 'collaborators_url', 'teams_url', 'hooks_url', 'issue_events_url', 'events_url', 'assignees_url', 'branches_url', 'tags_url', 'blobs_url', 'git_tags_url', 'git_refs_url', 'trees_url', 'statuses_url', 'languages_url', 'stargazers_url', 'contributors_url', 'subscribers_url', 'subscription_url', 'commits_url', 'git_commits_url', 'comments_url', 'issue_comment_url', 'contents_url', 'compare_url', 'merges_url', 'archive_url', 'downloads_url', 'issues_url', 'pulls_url', 'milestones_url', 'notifications_url', 'labels_url', 'releases_url', 'deployments_url', 'created_at', 'updated_at', 'pushed_at', 'git_url', 'ssh_url', 'clone_url', 'svn_url', 'homepage', 'size', 'stargazers_count', 'watchers_count', 'language', 'has_issues', 'has_projects', 'has_downloads', 'has_wiki', 'has_pages', 'forks_count', 'mirror_url', 'archived', 'disabled', 'open_issues_count', 'license', 'forks', 'open_issues', 'watchers', 'default_branch', 'permissions', 'temp_clone_token', 'organization', 'network_count', 'subscribers_count'])"
      ]
     },
     "execution_count": 8,
     "metadata": {},
     "output_type": "execute_result"
    }
   ],
   "source": [
    "data.keys()"
   ]
  },
  {
   "cell_type": "code",
   "execution_count": 9,
   "metadata": {},
   "outputs": [
    {
     "name": "stdout",
     "output_type": "stream",
     "text": [
      "https://api.github.com/repos/ironhack-datalabs/datamad1020/commits{/sha}\n"
     ]
    }
   ],
   "source": [
    "comm=data['commits_url']\n",
    "print(comm)"
   ]
  },
  {
   "cell_type": "code",
   "execution_count": 10,
   "metadata": {},
   "outputs": [],
   "source": [
    "end = {\"/sha\":\"\"}\n",
    "parameters = {\"state\":\"all\"}"
   ]
  },
  {
   "cell_type": "code",
   "execution_count": 11,
   "metadata": {},
   "outputs": [
    {
     "name": "stdout",
     "output_type": "stream",
     "text": [
      "https://api.github.com/repos/ironhack-datalabs/datamad1020/commits\n"
     ]
    }
   ],
   "source": [
    "commits=requests.get(comm.format(**end),\n",
    "                    headers=headers,\n",
    "                    params=parameters)\n",
    "print (comm.format(**end))"
   ]
  },
  {
   "cell_type": "code",
   "execution_count": 12,
   "metadata": {},
   "outputs": [],
   "source": [
    "commits =commits.json()"
   ]
  },
  {
   "cell_type": "code",
   "execution_count": 13,
   "metadata": {},
   "outputs": [
    {
     "data": {
      "text/plain": [
       "dict_keys(['sha', 'node_id', 'commit', 'url', 'html_url', 'comments_url', 'author', 'committer', 'parents'])"
      ]
     },
     "execution_count": 13,
     "metadata": {},
     "output_type": "execute_result"
    }
   ],
   "source": [
    "commits[0].keys()"
   ]
  },
  {
   "cell_type": "code",
   "execution_count": 14,
   "metadata": {},
   "outputs": [
    {
     "data": {
      "text/plain": [
       "'2020-11-05'"
      ]
     },
     "execution_count": 14,
     "metadata": {},
     "output_type": "execute_result"
    }
   ],
   "source": [
    "commits[0]['commit']['committer']['date'].split(\"T\")[0]"
   ]
  },
  {
   "cell_type": "code",
   "execution_count": 15,
   "metadata": {},
   "outputs": [
    {
     "name": "stdout",
     "output_type": "stream",
     "text": [
      "19\n"
     ]
    }
   ],
   "source": [
    "n_commits=0\n",
    "commit_objects=[]\n",
    "dates=[]\n",
    "for k,v in enumerate(commits):\n",
    "    dates.append(commits[k]['commit']['committer']['date'].split(\"T\")[0])\n",
    "    n_commits+=1\n",
    "    commit_objects.append(commits[k]['commit'])\n",
    "print (n_commits)"
   ]
  },
  {
   "cell_type": "code",
   "execution_count": 16,
   "metadata": {},
   "outputs": [],
   "source": [
    "dictionary = dict(zip(dates, commit_objects))\n",
    "commits_last_week=[]\n",
    "n_commits_last_week=0\n",
    "for k,v in dictionary.items():\n",
    "    if k.split(\"-\")[1]==\"10\":\n",
    "        if k.split(\"-\")[2] in [\"26\",\"27\",\"28\",\"29\",\"30\"]:\n",
    "            commits_last_week.append(v)\n",
    "            n_commits_last_week+=1\n",
    " "
   ]
  },
  {
   "cell_type": "code",
   "execution_count": 20,
   "metadata": {},
   "outputs": [
    {
     "name": "stdout",
     "output_type": "stream",
     "text": [
      "The number of commits made from 26th to 30th of October  was 2 commits, and they arein the fallowing list:\n",
      "\n",
      "[{'author': {'name': 'Felipe Ferrero', 'email': 'ferrero.felipe@gmail.com', 'date': '2020-10-30T12:20:15Z'}, 'committer': {'name': 'Felipe Ferrero', 'email': 'ferrero.felipe@gmail.com', 'date': '2020-10-30T12:20:15Z'}, 'message': 'update pandas project', 'tree': {'sha': '913b41247b9697a3f4ba9ebfc9954c4c1758d929', 'url': 'https://api.github.com/repos/ironhack-datalabs/datamad1020/git/trees/913b41247b9697a3f4ba9ebfc9954c4c1758d929'}, 'url': 'https://api.github.com/repos/ironhack-datalabs/datamad1020/git/commits/9fd479b3809659be0fd7382674093e9147e9e347', 'comment_count': 0, 'verification': {'verified': False, 'reason': 'unsigned', 'signature': None, 'payload': None}}, {'author': {'name': 'Felipe Ferrero', 'email': 'ferrero.felipe@gmail.com', 'date': '2020-10-29T13:27:54Z'}, 'committer': {'name': 'Felipe Ferrero', 'email': 'ferrero.felipe@gmail.com', 'date': '2020-10-29T13:27:54Z'}, 'message': 'changed lab-matplotlib to module 1', 'tree': {'sha': 'c5657031894a5322856c25a7a237278419f0350b', 'url': 'https://api.github.com/repos/ironhack-datalabs/datamad1020/git/trees/c5657031894a5322856c25a7a237278419f0350b'}, 'url': 'https://api.github.com/repos/ironhack-datalabs/datamad1020/git/commits/5bd92b0079749f9cb1d897d77da9935afe6cd497', 'comment_count': 0, 'verification': {'verified': False, 'reason': 'unsigned', 'signature': None, 'payload': None}}]\n"
     ]
    }
   ],
   "source": [
    "print(\"The number of commits made from 26th to 30th of October  was\",n_commits_last_week, \"commits, and they arein the fallowing list:\\n\")\n",
    "\n",
    "print(commits_last_week)\n"
   ]
  }
 ],
 "metadata": {
  "kernelspec": {
   "display_name": "Python 3",
   "language": "python",
   "name": "python3.8"
  },
  "language_info": {
   "codemirror_mode": {
    "name": "ipython",
    "version": 3
   },
   "file_extension": ".py",
   "mimetype": "text/x-python",
   "name": "python",
   "nbconvert_exporter": "python",
   "pygments_lexer": "ipython3",
   "version": "3.8.6"
  }
 },
 "nbformat": 4,
 "nbformat_minor": 4
}
