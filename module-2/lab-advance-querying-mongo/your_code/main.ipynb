{
 "cells": [
  {
   "cell_type": "markdown",
   "metadata": {},
   "source": [
    "# Advanced Querying Mongo"
   ]
  },
  {
   "cell_type": "markdown",
   "metadata": {},
   "source": [
    "Importing libraries and setting up connection"
   ]
  },
  {
   "cell_type": "code",
   "execution_count": 30,
   "metadata": {},
   "outputs": [],
   "source": [
    "#import sys\n",
    "#!{sys.executable} -m pip install pymongo\n",
    "from pymongo import MongoClient\n",
    "client = MongoClient()\n",
    "db = client.get_database(\"companies\")\n"
   ]
  },
  {
   "cell_type": "markdown",
   "metadata": {},
   "source": [
    "### 1. All the companies whose name match 'Babelgum'. Retrieve only their `name` field."
   ]
  },
  {
   "cell_type": "code",
   "execution_count": 31,
   "metadata": {},
   "outputs": [
    {
     "name": "stdout",
     "output_type": "stream",
     "text": [
      "[{'name': 'Babelgum'}]\n"
     ]
    }
   ],
   "source": [
    "# Your Code\n",
    "\n",
    "filter_query1 = {\"name\":\"Babelgum\"}\n",
    "project_query1 = {\"_id\":0, \"name\":1}\n",
    "\n",
    "query1 = list(db.companies.find(filter_query1,project_query1))\n",
    "print(query1)"
   ]
  },
  {
   "cell_type": "markdown",
   "metadata": {},
   "source": [
    "### 2. All the companies that have more than 5000 employees. Limit the search to 20 companies and sort them by **number of employees**."
   ]
  },
  {
   "cell_type": "code",
   "execution_count": 32,
   "metadata": {},
   "outputs": [
    {
     "name": "stdout",
     "output_type": "stream",
     "text": [
      "[{'name': 'Nintendo', 'number_of_employees': 5080}, {'name': 'Hexaware Technologies', 'number_of_employees': 5200}, {'name': 'Facebook', 'number_of_employees': 5299}, {'name': 'OpenText', 'number_of_employees': 5300}, {'name': 'CPM Braxis', 'number_of_employees': 5400}, {'name': 'LSI', 'number_of_employees': 5400}, {'name': 'Microchip Technologies', 'number_of_employees': 5500}, {'name': 'Mediaset', 'number_of_employees': 5729}, {'name': 'Mindray Medical International', 'number_of_employees': 5763}, {'name': 'Tata Communications', 'number_of_employees': 6000}, {'name': 'Baidu', 'number_of_employees': 6000}, {'name': 'Dentsu', 'number_of_employees': 6000}, {'name': 'Atmel', 'number_of_employees': 6000}, {'name': 'Acxiom', 'number_of_employees': 6200}, {'name': 'Acxiom', 'number_of_employees': 6200}, {'name': 'SRA International', 'number_of_employees': 6400}, {'name': \"Moody's\", 'number_of_employees': 6800}, {'name': 'ManTech', 'number_of_employees': 7000}, {'name': 'Adobe Systems', 'number_of_employees': 7173}, {'name': 'Broadcom', 'number_of_employees': 7400}]\n"
     ]
    }
   ],
   "source": [
    "# Your Code\n",
    "\n",
    "filter_query2 = {\"number_of_employees\": {\"$gt\":5000}}\n",
    "project_query2 = {\"_id\":0, \"name\":1, \"number_of_employees\":1}\n",
    "\n",
    "query2= list(db.companies.find(filter_query2,project_query2).sort(\"number_of_employees\",1).limit(20))\n",
    "print(query2)"
   ]
  },
  {
   "cell_type": "markdown",
   "metadata": {},
   "source": [
    "### 3. All the companies founded between 2000 and 2005, both years included. Retrieve only the `name` and `founded_year` fields."
   ]
  },
  {
   "cell_type": "code",
   "execution_count": 33,
   "metadata": {},
   "outputs": [
    {
     "name": "stdout",
     "output_type": "stream",
     "text": [
      "[{'name': 'Wetpaint', 'founded_year': 2005}, {'name': 'Zoho', 'founded_year': 2005}, {'name': 'Omnidrive', 'founded_year': 2005}, {'name': 'Digg', 'founded_year': 2004}, {'name': 'Gizmoz', 'founded_year': 2003}, {'name': 'StumbleUpon', 'founded_year': 2002}, {'name': 'Helio', 'founded_year': 2005}, {'name': 'Facebook', 'founded_year': 2004}, {'name': 'Plaxo', 'founded_year': 2002}, {'name': 'Technorati', 'founded_year': 2002}]\n"
     ]
    }
   ],
   "source": [
    "# Your Code\n",
    "\n",
    "filter_query3 = {\"founded_year\": {\"$gte\":2000, \"$lte\":2005}}\n",
    "project_query3 = {\"_id\":0,\"name\":1, \"founded_year\":1}\n",
    "\n",
    "query3= list(db.companies.find(filter_query3,project_query3).limit(10))\n",
    "print(query3)"
   ]
  },
  {
   "cell_type": "markdown",
   "metadata": {},
   "source": [
    "### 4. All the companies that had a Valuation Amount of more than 100.000.000 and have been founded before 2010. Retrieve only the `name` and `ipo` fields."
   ]
  },
  {
   "cell_type": "code",
   "execution_count": 71,
   "metadata": {},
   "outputs": [
    {
     "name": "stdout",
     "output_type": "stream",
     "text": [
      "[{'_id': ObjectId('52cdef7c4bab8bd675297d8e'), 'name': 'Facebook', 'ipo': {'valuation_amount': 104000000000, 'valuation_currency_code': 'USD', 'pub_year': 2012, 'pub_month': 5, 'pub_day': 18, 'stock_symbol': 'NASDAQ:FB'}}]\n"
     ]
    }
   ],
   "source": [
    "# Your Code\n",
    "\n",
    "#What was written in mongodb:\n",
    "#filter = {$and: [ {\"ipo.valuation_amount\": {$gt: 100000000}}, {founded_year: {$lt: 2010}} ] }\n",
    "#project = {name: 1, ipo: 1}\n",
    "    \n",
    "filter_query4 = {\"$and\": [ {\"ipo.valuation_amount\": {\"$gt\": 100000000}}, {\"founded_year\": {\"$lt\": 2010}} ] }\n",
    "project_query4 = {\"name\": 1, \"ipo\": 1}\n",
    "\n",
    "query4 = list(db.companies.find(filter_query4, project_query4))\n",
    "#print(query4)\n"
   ]
  },
  {
   "cell_type": "markdown",
   "metadata": {},
   "source": [
    "### 5. All the companies that have less than 1000 employees and have been founded before 2005. Order them by the number of employees and limit the search to 10 companies."
   ]
  },
  {
   "cell_type": "code",
   "execution_count": 22,
   "metadata": {},
   "outputs": [],
   "source": [
    "# Your Code\n",
    "#What was written in mongodb:\n",
    "#filter = {$and: [ {number_of_employees: {$lt: 1000} },{founded_year: {$lt: 2005} } ] }\n",
    "#sort = {number_of_employees: -1}\n",
    "#limit = 10\n",
    "    \n",
    "filter_query5 = {\"$and\": [ {\"number_of_employees\": {\"$lt\": 1000} }, {\"founded_year\":{\"$lt\": 2005} } ] }\n",
    "\n",
    "query5 = list(db.companies.find(filter_query5).sort(\"number_of_employees\", -1).limit(10))\n",
    "#print(query5)\n"
   ]
  },
  {
   "cell_type": "markdown",
   "metadata": {},
   "source": [
    "### 6. All the companies that don't include the `partners` field."
   ]
  },
  {
   "cell_type": "code",
   "execution_count": 38,
   "metadata": {},
   "outputs": [
    {
     "name": "stdout",
     "output_type": "stream",
     "text": [
      "[{'_id': ObjectId('52cdef7c4bab8bd675297d8b'), 'name': 'AdventNet', 'permalink': 'abc3', 'crunchbase_url': 'http://www.crunchbase.com/company/adventnet', 'homepage_url': 'http://adventnet.com', 'blog_url': '', 'blog_feed_url': '', 'twitter_username': 'manageengine', 'category_code': 'enterprise', 'number_of_employees': 600, 'founded_year': 1996, 'deadpooled_year': 2, 'tag_list': '', 'alias_list': 'Zoho ManageEngine ', 'email_address': 'pr@adventnet.com', 'phone_number': '925-924-9500', 'description': 'Server Management Software', 'created_at': datetime.datetime(2007, 5, 25, 19, 24, 22), 'updated_at': 'Wed Oct 31 18:26:09 UTC 2012', 'overview': '<p>AdventNet is now <a href=\"/company/zoho-manageengine\" title=\"Zoho ManageEngine\" rel=\"nofollow\">Zoho ManageEngine</a>.</p>\\n\\n<p>Founded in 1996, AdventNet has served a diverse range of enterprise IT, networking and telecom customers.</p>\\n\\n<p>AdventNet supplies server and network management software.</p>', 'image': {'available_sizes': [[[150, 55], 'assets/images/resized/0001/9732/19732v1-max-150x150.png'], [[150, 55], 'assets/images/resized/0001/9732/19732v1-max-250x250.png'], [[150, 55], 'assets/images/resized/0001/9732/19732v1-max-450x450.png']]}, 'products': [], 'relationships': [{'is_past': True, 'title': 'CEO and Co-Founder', 'person': {'first_name': 'Sridhar', 'last_name': 'Vembu', 'permalink': 'sridhar-vembu'}}, {'is_past': True, 'title': 'VP of Business Dev', 'person': {'first_name': 'Neil', 'last_name': 'Butani', 'permalink': 'neil-butani'}}, {'is_past': True, 'title': 'Usabiliy Engineer', 'person': {'first_name': 'Bharath', 'last_name': 'Balasubramanian', 'permalink': 'bharath-balasibramanian'}}, {'is_past': True, 'title': 'Director of Engineering', 'person': {'first_name': 'Rajendran', 'last_name': 'Dandapani', 'permalink': 'rajendran-dandapani'}}, {'is_past': True, 'title': 'Market Analyst', 'person': {'first_name': 'Aravind', 'last_name': 'Natarajan', 'permalink': 'aravind-natarajan'}}, {'is_past': True, 'title': 'Director of Product Management', 'person': {'first_name': 'Hyther', 'last_name': 'Nizam', 'permalink': 'hyther-nizam'}}, {'is_past': True, 'title': 'Western Regional OEM Sales Manager', 'person': {'first_name': 'Ian', 'last_name': 'Wenig', 'permalink': 'ian-wenig'}}], 'competitions': [], 'providerships': [{'title': 'DHFH', 'is_past': True, 'provider': {'name': 'A Small Orange', 'permalink': 'a-small-orange'}}], 'total_money_raised': '$0', 'funding_rounds': [], 'investments': [], 'acquisition': None, 'acquisitions': [], 'offices': [{'description': 'Headquarters', 'address1': '4900 Hopyard Rd.', 'address2': 'Suite 310', 'zip_code': '94588', 'city': 'Pleasanton', 'state_code': 'CA', 'country_code': 'USA', 'latitude': 37.692934, 'longitude': -121.904945}], 'milestones': [], 'video_embeds': [], 'screenshots': [{'available_sizes': [[[150, 94], 'assets/images/resized/0004/3400/43400v1-max-150x150.png'], [[250, 156], 'assets/images/resized/0004/3400/43400v1-max-250x250.png'], [[450, 282], 'assets/images/resized/0004/3400/43400v1-max-450x450.png']], 'attribution': None}], 'external_links': [], 'partners': []}]\n"
     ]
    }
   ],
   "source": [
    "# Your Code\n",
    "#What was written in mongodb:\n",
    "#filter = {partners: {$exists: \"false\"}}\n",
    "\n",
    "filter_query6 = {\"partners\": {\"$exists\": \"false\"}}\n",
    "\n",
    "query6 = list(db.companies.find(filter_query6).limit(1))\n",
    "print(query6)\n"
   ]
  },
  {
   "cell_type": "markdown",
   "metadata": {},
   "source": [
    "### 7. All the companies that have a null type of value on the `category_code` field."
   ]
  },
  {
   "cell_type": "code",
   "execution_count": 40,
   "metadata": {},
   "outputs": [
    {
     "name": "stdout",
     "output_type": "stream",
     "text": [
      "[{'_id': ObjectId('52cdef7c4bab8bd6752980f6'), 'name': 'Collective', 'permalink': 'collective', 'crunchbase_url': 'http://www.crunchbase.com/company/collective', 'homepage_url': None, 'blog_url': None, 'blog_feed_url': None, 'twitter_username': None, 'category_code': None, 'number_of_employees': None, 'founded_year': None, 'founded_month': None, 'founded_day': None, 'deadpooled_year': None, 'deadpooled_month': None, 'deadpooled_day': None, 'deadpooled_url': None, 'tag_list': None, 'alias_list': None, 'email_address': None, 'phone_number': None, 'description': None, 'created_at': 'Thu Sep 26 13:15:02 UTC 2013', 'updated_at': 'Thu Sep 26 13:15:02 UTC 2013', 'overview': None, 'image': None, 'products': [], 'relationships': [], 'competitions': [], 'providerships': [], 'total_money_raised': '$0', 'funding_rounds': [], 'investments': [], 'acquisition': None, 'acquisitions': [], 'offices': [], 'milestones': [], 'ipo': None, 'video_embeds': [], 'screenshots': [], 'external_links': [], 'partners': []}]\n"
     ]
    }
   ],
   "source": [
    "# Your Code\n",
    "#What was written in mongodb:\n",
    "#filter = { category_code: { $type: \"null\" }}\n",
    "\n",
    "filter_query7 = {\"category_code\": { \"$type\": \"null\" }}\n",
    "\n",
    "query7= list(db.companies.find(filter_query7).limit(1))\n",
    "print(query7)"
   ]
  },
  {
   "cell_type": "markdown",
   "metadata": {},
   "source": [
    "### 8. All the companies that have at least 100 employees but less than 1000. Retrieve only the `name` and `number of employees` fields."
   ]
  },
  {
   "cell_type": "code",
   "execution_count": 41,
   "metadata": {},
   "outputs": [
    {
     "name": "stdout",
     "output_type": "stream",
     "text": [
      "[{'_id': ObjectId('52cdef7c4bab8bd675297d8b'), 'name': 'AdventNet', 'number_of_employees': 600}, {'_id': ObjectId('52cdef7c4bab8bd675297da8'), 'name': 'OpenX', 'number_of_employees': 305}]\n"
     ]
    }
   ],
   "source": [
    "# Your Code\n",
    "\n",
    "#What was written in mongodb:\n",
    "#filter = {number_of_employees:{$gte:100, $lte:1000}}\n",
    "#project = {name:1, number_of_employees:1}\n",
    "\n",
    "filter_query8 = {\"number_of_employees\":{\"$gte\":100, \"$lte\":1000}}\n",
    "project_query8 = {\"name\":1, \"number_of_employees\":1}\n",
    "\n",
    "query8= list(db.companies.find(filter_query8, project_query8).limit(2))\n",
    "print(query8)"
   ]
  },
  {
   "cell_type": "markdown",
   "metadata": {},
   "source": [
    "### 9. Order all the companies by their IPO price in a descending order."
   ]
  },
  {
   "cell_type": "code",
   "execution_count": 44,
   "metadata": {},
   "outputs": [],
   "source": [
    "# Your Code\n",
    "#What was written in mongodb:\n",
    "#sort = {\"ipo.valuation_amount\": -1}\n",
    "\n",
    "query9= list(db.companies.find().sort(\"ipo.valuation_amount\", -1))\n",
    "#print(query9)"
   ]
  },
  {
   "cell_type": "markdown",
   "metadata": {},
   "source": [
    "### 10. Retrieve the 10 companies with more employees, order by the `number of employees`"
   ]
  },
  {
   "cell_type": "code",
   "execution_count": 49,
   "metadata": {},
   "outputs": [],
   "source": [
    "# Your Code\n",
    "#What was written in mongodb:\n",
    "#filter = {number_of_employees: {$gt:0}}\n",
    "#sort = {number_of_employees: -1}\n",
    "#limit = 10\n",
    "\n",
    "filter_query10 = {\"number_of_employees\":{\"$gt\":0}}\n",
    "\n",
    "query10= list(db.companies.find(filter_query10).sort(\"number_of_employees\", -1).limit(10))\n",
    "#print(query10)"
   ]
  },
  {
   "cell_type": "markdown",
   "metadata": {},
   "source": [
    "### 11. All the companies founded on the second semester of the year. Limit your search to 1000 companies."
   ]
  },
  {
   "cell_type": "code",
   "execution_count": 51,
   "metadata": {},
   "outputs": [],
   "source": [
    "# Your Code\n",
    "\n",
    "#What was written in mongodb:\n",
    "#filter = {founded_month: {$gte:7}}\n",
    "#limit = 1000\n",
    "\n",
    "filter_query11 = {\"founded_month\": {\"$gte\":7}}\n",
    "\n",
    "query11= list(db.companies.find(filter_query11).limit(1000))\n",
    "#print(query11)"
   ]
  },
  {
   "cell_type": "markdown",
   "metadata": {},
   "source": [
    "### 12. All the companies founded before 2000 that have an acquisition amount of more than 10.000.00"
   ]
  },
  {
   "cell_type": "code",
   "execution_count": 53,
   "metadata": {},
   "outputs": [],
   "source": [
    "# Your Code\n",
    "\n",
    "#What was written in mongodb:\n",
    "#filter = {$and: [{founded_year: {$lt:2000}}, {\"acquisition.price_amount\": {$gt:1000000}} ] }\n",
    "\n",
    "filter_query12 = {\"$and\": [{\"founded_year\": {\"$lt\":2000}}, {\"acquisition.price_amount\": {\"$gt\":1000000}} ] }\n",
    "\n",
    "query12= list(db.companies.find(filter_query12))\n",
    "#print(query12)"
   ]
  },
  {
   "cell_type": "markdown",
   "metadata": {},
   "source": [
    "### 13. All the companies that have been acquired after 2010, order by the acquisition amount, and retrieve only their `name` and `acquisition` field."
   ]
  },
  {
   "cell_type": "code",
   "execution_count": 55,
   "metadata": {},
   "outputs": [],
   "source": [
    "# Your Code\n",
    "\n",
    "#What was written in mongodb:\n",
    "#filter = {\"acquisition.acquired_year\": {$gt:2010}}\n",
    "#project = {name:1, acquisition:1}\n",
    "#sort = {\"acquisition.price_amount\": -1}\n",
    "\n",
    "filter_query13 = {\"acquisition.acquired_year\": {\"$gt\":2010}}\n",
    "project_query13 = {\"name\":1, \"acquisition\":1}\n",
    "\n",
    "query13= list(db.companies.find(filter_query13, project_query13).sort(\"acquisition.price_amount\", -1))\n",
    "#print(query13)"
   ]
  },
  {
   "cell_type": "markdown",
   "metadata": {},
   "source": [
    "### 14. Order the companies by their `founded year`, retrieving only their `name` and `founded year`."
   ]
  },
  {
   "cell_type": "code",
   "execution_count": 57,
   "metadata": {},
   "outputs": [],
   "source": [
    "# Your Code\n",
    "#What was written in mongodb:\n",
    "#filter = {founded_year: {$exists: \"True\"}}\n",
    "#project = {name:1, founded_year:1}\n",
    "#sort = {founded_year: -1}\n",
    "\n",
    "filter_query14 = {\"founded_year\": {\"$exists\": \"True\"}}\n",
    "project_query14 = {\"name\":1, \"founded_year\":1}\n",
    "\n",
    "query14= list(db.companies.find(filter_query14, project_query14).sort(\"founded_year\", -1))\n",
    "#print(query14)"
   ]
  },
  {
   "cell_type": "markdown",
   "metadata": {},
   "source": [
    "### 15. All the companies that have been founded on the first seven days of the month, including the seventh. Sort them by their `acquisition price` in a descending order. Limit the search to 10 documents."
   ]
  },
  {
   "cell_type": "code",
   "execution_count": 61,
   "metadata": {},
   "outputs": [],
   "source": [
    "# Your Code\n",
    "\n",
    "#What was written in mongodb:\n",
    "#filter= {founded_day: {$gte:1, $lte: 7}}\n",
    "#sort = {\"acquisitions.price_amount\": -1}\n",
    "#limit= 10\n",
    "\n",
    "filter_query15 = {\"founded_day\": {\"$gte\":1, \"$lte\": 7}}\n",
    "\n",
    "query15= list(db.companies.find(filter_query15).sort(\"acquisitions.price_amount\", -1))\n",
    "#print(query15)"
   ]
  },
  {
   "cell_type": "markdown",
   "metadata": {},
   "source": [
    "### 16. All the companies on the 'web' `category` that have more than 4000 employees. Sort them by the amount of employees in ascending order."
   ]
  },
  {
   "cell_type": "code",
   "execution_count": 63,
   "metadata": {},
   "outputs": [],
   "source": [
    "# Your Code\n",
    "\n",
    "#What was written in mongodb:\n",
    "#filter = {$and:[ {category_code: \"web\"}, {number_of_employees: {$gt: 4000}} ] }\n",
    "#sort = {\"number_of_employees\": 1}\n",
    "\n",
    "filter_query16 = {\"$and\":[ {\"category_code\": \"web\"}, {\"number_of_employees\": {\"$gt\": 4000}} ] }\n",
    "\n",
    "query16= list(db.companies.find(filter_query16).sort(\"number_of_employees\", 1))\n",
    "#print(query16)"
   ]
  },
  {
   "cell_type": "markdown",
   "metadata": {},
   "source": [
    "### 17. All the companies whose acquisition amount is more than 10.000.000, and currency is 'EUR'."
   ]
  },
  {
   "cell_type": "code",
   "execution_count": 65,
   "metadata": {},
   "outputs": [],
   "source": [
    "# Your Code\n",
    "\n",
    "#What was written in mongodb:\n",
    "#filter = {$and:[ {\"acquisition.price_amount\": {$gt: 10000000}}, {\"acquisition.price_currency_code\" : \"EUR\"} ] }\n",
    "\n",
    "filter_query17 = {\"$and\":[ {\"acquisition.price_amount\": {\"$gt\": 10000000}}, {\"acquisition.price_currency_code\" : \"EUR\"} ] }\n",
    "\n",
    "query17= list(db.companies.find(filter_query17))\n",
    "#print(query17)"
   ]
  },
  {
   "cell_type": "markdown",
   "metadata": {},
   "source": [
    "### 18. All the companies that have been acquired on the first trimester of the year. Limit the search to 10 companies, and retrieve only their `name` and `acquisition` fields."
   ]
  },
  {
   "cell_type": "code",
   "execution_count": 67,
   "metadata": {},
   "outputs": [],
   "source": [
    "# Your Code\n",
    "\n",
    "#What was written in mongodb:\n",
    "#filter = {\"acquisition.acquired_month\": {$lte: 3}}\n",
    "#project = {name: 1, acquisition:1}\n",
    "#limit = 10\n",
    "\n",
    "filter_query18 = {\"acquisition.acquired_month\": {\"$lte\": 3}}\n",
    "project_query18 = {\"name\": 1, \"acquisition\":1}\n",
    "\n",
    "query18= list(db.companies.find(filter_query18, project_query18).limit(10))\n",
    "#print(query18)"
   ]
  },
  {
   "cell_type": "markdown",
   "metadata": {},
   "source": [
    "# Bonus\n",
    "### 19. All the companies that have been founded between 2000 and 2010, but have not been acquired before 2011."
   ]
  },
  {
   "cell_type": "code",
   "execution_count": 70,
   "metadata": {},
   "outputs": [],
   "source": [
    "# Your Code\n",
    "\n",
    "#What was written in mongodb:\n",
    "#filter = {$and:[ {founded_year: {$gt: 2000, $lt: 2010}}, {\"acquisition.acquired_year\": {$gt: 2011}} ] }\n",
    "\n",
    "filter_query19 = {\"$and\":[ {\"founded_year\": {\"$gt\": 2000, \"$lt\": 2010}}, {\"acquisition.acquired_year\": {\"$gt\": 2011}} ] }\n",
    "\n",
    "query19= list(db.companies.find(filter_query19))\n",
    "#print(query19)"
   ]
  },
  {
   "cell_type": "markdown",
   "metadata": {},
   "source": [
    "### 20. All the companies that have been 'deadpooled' after the third year."
   ]
  },
  {
   "cell_type": "code",
   "execution_count": null,
   "metadata": {},
   "outputs": [],
   "source": [
    "# Your Code\n",
    "\n",
    "#What was written in mongodb:\n",
    "{$substract: [\"$deadpooled_year\", \"$founded_year\", {$lte: 3}] }\n",
    "No he sabido como resolverlo."
   ]
  }
 ],
 "metadata": {
  "kernelspec": {
   "display_name": "Python 3",
   "language": "python",
   "name": "python3"
  },
  "language_info": {
   "codemirror_mode": {
    "name": "ipython",
    "version": 3
   },
   "file_extension": ".py",
   "mimetype": "text/x-python",
   "name": "python",
   "nbconvert_exporter": "python",
   "pygments_lexer": "ipython3",
   "version": "3.8.6"
  }
 },
 "nbformat": 4,
 "nbformat_minor": 2
}
