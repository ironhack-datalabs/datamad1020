{
 "cells": [
  {
   "cell_type": "markdown",
   "metadata": {},
   "source": [
    "# Challenge 2 - API scavenger game"
   ]
  },
  {
   "cell_type": "code",
   "execution_count": 1,
   "metadata": {},
   "outputs": [],
   "source": [
    "from dotenv import load_dotenv\n",
    "import os\n",
    "import requests\n",
    "import datetime\n"
   ]
  },
  {
   "cell_type": "code",
   "execution_count": 2,
   "metadata": {},
   "outputs": [
    {
     "data": {
      "text/plain": [
       "'57f'"
      ]
     },
     "execution_count": 2,
     "metadata": {},
     "output_type": "execute_result"
    }
   ],
   "source": [
    "load_dotenv()\n",
    "gtoken = os.getenv(\"GIT_PASS\")\n",
    "gtoken[-3:]"
   ]
  },
  {
   "cell_type": "code",
   "execution_count": 3,
   "metadata": {},
   "outputs": [
    {
     "data": {
      "text/plain": [
       "<Response [200]>"
      ]
     },
     "execution_count": 3,
     "metadata": {},
     "output_type": "execute_result"
    }
   ],
   "source": [
    "# /git/commits/\n",
    "\n",
    "url = \"https://api.github.com\"\n",
    "\n",
    "#TOKEN\n",
    "headers = {\n",
    "    \"Authorization\": f\"token {gtoken}\"\n",
    "}\n",
    "#PARAMS\n",
    "parameters = {\n",
    "    \"state\":\"all\"\n",
    "}\n",
    "\n",
    "endpoint = \"/repos/ironhack-datalabs/datamad1020/commits\"\n",
    "\n",
    "data = requests.get(url+endpoint, \n",
    "                    headers=headers,\n",
    "                    params=parameters)\n",
    "data\n"
   ]
  },
  {
   "cell_type": "code",
   "execution_count": 4,
   "metadata": {},
   "outputs": [],
   "source": [
    "data = data.json()"
   ]
  },
  {
   "cell_type": "code",
   "execution_count": 5,
   "metadata": {},
   "outputs": [
    {
     "name": "stdout",
     "output_type": "stream",
     "text": [
      "dict_keys(['sha', 'node_id', 'commit', 'url', 'html_url', 'comments_url', 'author', 'committer', 'parents'])\n",
      "dict_keys(['author', 'committer', 'message', 'tree', 'url', 'comment_count', 'verification'])\n"
     ]
    }
   ],
   "source": [
    "print(data[0].keys())\n",
    "print(data[0][\"commit\"].keys())"
   ]
  },
  {
   "cell_type": "code",
   "execution_count": 6,
   "metadata": {},
   "outputs": [
    {
     "name": "stdout",
     "output_type": "stream",
     "text": [
      "Number of comits in the past week: 3\n"
     ]
    }
   ],
   "source": [
    "today = datetime.date.today()\n",
    "commits = 0\n",
    "\n",
    "for el in data:\n",
    "    time = el[\"commit\"][\"author\"][\"date\"].split(\"T\")[0].split(\"-\")\n",
    "    time=datetime.date(int(time[0]), int(time[1]), int(time[2]))\n",
    "    diff_time=today-time\n",
    "    if diff_time.days <= 7:\n",
    "        commits += 1\n",
    "        \n",
    "print(f\"Number of comits in the past week: {commits}\")       "
   ]
  },
  {
   "cell_type": "code",
   "execution_count": 7,
   "metadata": {},
   "outputs": [],
   "source": []
  },
  {
   "cell_type": "code",
   "execution_count": null,
   "metadata": {},
   "outputs": [],
   "source": []
  },
  {
   "cell_type": "code",
   "execution_count": null,
   "metadata": {},
   "outputs": [],
   "source": [
    "\n"
   ]
  },
  {
   "cell_type": "code",
   "execution_count": null,
   "metadata": {},
   "outputs": [],
   "source": []
  },
  {
   "cell_type": "code",
   "execution_count": null,
   "metadata": {},
   "outputs": [],
   "source": []
  }
 ],
 "metadata": {
  "kernelspec": {
   "display_name": "Python 3",
   "language": "python",
   "name": "python3"
  },
  "language_info": {
   "codemirror_mode": {
    "name": "ipython",
    "version": 3
   },
   "file_extension": ".py",
   "mimetype": "text/x-python",
   "name": "python",
   "nbconvert_exporter": "python",
   "pygments_lexer": "ipython3",
   "version": "3.8.5"
  }
 },
 "nbformat": 4,
 "nbformat_minor": 4
}
