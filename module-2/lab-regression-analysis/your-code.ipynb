{
 "cells": [
  {
   "cell_type": "markdown",
   "metadata": {},
   "source": [
    "# Lab: Regression Analysis"
   ]
  },
  {
   "cell_type": "markdown",
   "metadata": {},
   "source": [
    "### Before you start:\n",
    "\n",
    "* Read the README.md file\n",
    "* Comment as much as you can and use the resources (README.md file) \n",
    "\n",
    "Happy learning!"
   ]
  },
  {
   "cell_type": "markdown",
   "metadata": {},
   "source": [
    "## Challenge 1\n",
    "I work at a coding bootcamp, and I have developed a theory that the younger my students are, the more often they are late to class. In order to test my hypothesis, I have collected some data in the following table:\n",
    "\n",
    "| StudentID | Age | Tardies |\n",
    "|--------|-----|------------|\n",
    "| 1      | 17  | 10         |\n",
    "| 2      | 51  | 1          |\n",
    "| 3      | 27  | 5          |\n",
    "| 4      | 21  | 9         |\n",
    "| 5      | 36  |  4         |\n",
    "| 6      | 48  |  2         |\n",
    "| 7      | 19  |  9         |\n",
    "| 8      | 26  | 6          |\n",
    "| 9      | 54  |  0         |\n",
    "| 10     | 30  |  3         |"
   ]
  },
  {
   "cell_type": "markdown",
   "metadata": {},
   "source": [
    "Use this command to create a dataframe with the data provided in the table. \n",
    "~~~~\n",
    "student_data = pd.DataFrame({'X': [x_values], 'Y': [y_values]})\n",
    "~~~~"
   ]
  },
  {
   "cell_type": "code",
   "execution_count": 1,
   "metadata": {},
   "outputs": [],
   "source": [
    "import pandas as pd\n",
    "import matplotlib.pyplot as plt\n",
    "import numpy as np\n",
    "from sklearn.metrics import r2_score, mean_squared_error\n",
    "from sklearn.linear_model import LinearRegression\n",
    "\n",
    "import statsmodels.api as smf"
   ]
  },
  {
   "cell_type": "code",
   "execution_count": 2,
   "metadata": {},
   "outputs": [],
   "source": [
    "student_data = pd.DataFrame({'X': [17,51,27,21,36,48,19,26,54,30], \n",
    "                             'Y': [10,1,5,9,4,2,9,6,0,3]})"
   ]
  },
  {
   "cell_type": "markdown",
   "metadata": {},
   "source": [
    "Draw a dispersion diagram (scatter plot) for the data."
   ]
  },
  {
   "cell_type": "code",
   "execution_count": 3,
   "metadata": {},
   "outputs": [
    {
     "data": {
      "image/png": "[encoded data removed]",
      "text/plain": [
       "<Figure size 432x288 with 1 Axes>"
      ]
     },
     "metadata": {
      "needs_background": "light"
     },
     "output_type": "display_data"
    }
   ],
   "source": [
    "plt.scatter(student_data[\"X\"],student_data[\"Y\"])\n",
    "plt.xlabel(\"Age\")\n",
    "plt.ylabel(\"Tardies\")\n",
    "plt.grid(True);"
   ]
  },
  {
   "cell_type": "markdown",
   "metadata": {},
   "source": [
    "Do you see a trend? Can you make any hypotheses about the relationship between age and number of tardies?"
   ]
  },
  {
   "cell_type": "code",
   "execution_count": 4,
   "metadata": {},
   "outputs": [],
   "source": [
    "# There seems to be an anticorrelation between the age and the number of tardies"
   ]
  },
  {
   "cell_type": "markdown",
   "metadata": {},
   "source": [
    "Calculate the covariance and correlation of the variables in your plot. What is the difference between these two measures? Compare their values. What do they tell you in this case? Add your responses as comments after your code."
   ]
  },
  {
   "cell_type": "code",
   "execution_count": 5,
   "metadata": {},
   "outputs": [
    {
     "name": "stdout",
     "output_type": "stream",
     "text": [
      "Covariance = -45.57,  Correlation = -0.94\n"
     ]
    }
   ],
   "source": [
    "# Whith numpu.cov we van solve this exercise easily\n",
    "# The main diagonal stands for the variance of X and Y\n",
    "# The other values are the covariance\n",
    "\n",
    "covar = np.cov(student_data[\"X\"],student_data[\"Y\"])[0][1]\n",
    "corr = covar / np.sqrt(np.cov(student_data[\"X\"],student_data[\"Y\"])[0][0] *\n",
    "                      np.cov(student_data[\"X\"],student_data[\"Y\"])[1][1])\n",
    "\n",
    "print(f\"Covariance = {round(covar,2)},  Correlation = {round(corr,2)}\")\n",
    "\n",
    "# The covariance is negative indicating anticorrelation. It represents the joint\n",
    "# variation with respect to its means of the age and the number of tardies.\n",
    "#\n",
    "# The correlation is very close to -1, indicating a high anticorrelation between the age\n",
    "# and the number of tardies."
   ]
  },
  {
   "cell_type": "markdown",
   "metadata": {},
   "source": [
    "Build a regression model for this data. What will be your outcome variable? What type of regression are you using? Add your responses as comments after your code."
   ]
  },
  {
   "cell_type": "code",
   "execution_count": 6,
   "metadata": {},
   "outputs": [
    {
     "data": {
      "text/plain": [
       "LinearRegression()"
      ]
     },
     "execution_count": 6,
     "metadata": {},
     "output_type": "execute_result"
    }
   ],
   "source": [
    "# I am using the scikit-learn model LinearRegression as I want to obtain\n",
    "# the linear regression between the age and the number of tardies.\n",
    "lr = LinearRegression(fit_intercept=True)\n",
    "lr.fit(student_data[\"X\"].to_frame(),student_data[\"Y\"])"
   ]
  },
  {
   "cell_type": "markdown",
   "metadata": {},
   "source": [
    "Plot your regression model on your scatter plot."
   ]
  },
  {
   "cell_type": "code",
   "execution_count": 7,
   "metadata": {},
   "outputs": [
    {
     "data": {
      "image/png": "[encoded data removed]",
      "text/plain": [
       "<Figure size 432x288 with 1 Axes>"
      ]
     },
     "metadata": {
      "needs_background": "light"
     },
     "output_type": "display_data"
    }
   ],
   "source": [
    "x=np.array(student_data[\"X\"])\n",
    "y=np.array(student_data[\"Y\"])\n",
    "xr=x.reshape(-1, 1)\n",
    "plt.scatter(x,y,label=\"Data\")\n",
    "plt.plot(x,lr.predict(x.reshape(-1, 1)),color=\"red\",label=\"Lin. Reg.\")\n",
    "plt.legend()\n",
    "plt.xlabel(\"Age\")\n",
    "plt.ylabel(\"Tardies\")\n",
    "plt.grid(True);"
   ]
  },
  {
   "cell_type": "markdown",
   "metadata": {},
   "source": [
    "Interpret the results of your model. What can conclusions can you draw from your model and how confident in these conclusions are you? Can we say that age is a good predictor of tardiness? Add your responses as comments after your code."
   ]
  },
  {
   "cell_type": "code",
   "execution_count": 8,
   "metadata": {},
   "outputs": [
    {
     "name": "stdout",
     "output_type": "stream",
     "text": [
      "R2 score =  0.8820265558250109\n",
      "MSE =  1.3319201847356268\n"
     ]
    }
   ],
   "source": [
    "# The representation of the linear regression goes between the data, providing a good \n",
    "# fit with relatively low errors in general.\n",
    "\n",
    "# To support this here I calculate the R2 score and the mean squared error\n",
    "# R2 of almos 90% indicates a very good fit\n",
    "# The MSE is low. As it is squared, big deviations causes big errors, so this is \n",
    "# another check\n",
    "print(\"R2 score = \",r2_score(y_pred=lr.predict(x.reshape(-1, 1)), y_true=y) )\n",
    "print(\"MSE = \",mean_squared_error(y_pred=lr.predict(x.reshape(-1, 1)), y_true=y) )"
   ]
  },
  {
   "cell_type": "markdown",
   "metadata": {},
   "source": [
    "## Challenge 2\n",
    "For the second part of this lab, we will use the vehicles.csv data set. You can find a copy of the dataset in the git hub folder. This dataset includes variables related to vehicle characteristics, including the model, make, and energy efficiency standards, as well as each car's CO2 emissions. As discussed in class the goal of this exercise is to predict vehicles' CO2 emissions based on several independent variables. "
   ]
  },
  {
   "cell_type": "code",
   "execution_count": 9,
   "metadata": {},
   "outputs": [
    {
     "data": {
      "text/html": [
       "<div>\n",
       "<style scoped>\n",
       "    .dataframe tbody tr th:only-of-type {\n",
       "        vertical-align: middle;\n",
       "    }\n",
       "\n",
       "    .dataframe tbody tr th {\n",
       "        vertical-align: top;\n",
       "    }\n",
       "\n",
       "    .dataframe thead th {\n",
       "        text-align: right;\n",
       "    }\n",
       "</style>\n",
       "<table border=\"1\" class=\"dataframe\">\n",
       "  <thead>\n",
       "    <tr style=\"text-align: right;\">\n",
       "      <th></th>\n",
       "      <th>Make</th>\n",
       "      <th>Model</th>\n",
       "      <th>Year</th>\n",
       "      <th>Engine Displacement</th>\n",
       "      <th>Cylinders</th>\n",
       "      <th>Transmission</th>\n",
       "      <th>Drivetrain</th>\n",
       "      <th>Vehicle Class</th>\n",
       "      <th>Fuel Type</th>\n",
       "      <th>Fuel Barrels/Year</th>\n",
       "      <th>City MPG</th>\n",
       "      <th>Highway MPG</th>\n",
       "      <th>Combined MPG</th>\n",
       "      <th>CO2 Emission Grams/Mile</th>\n",
       "      <th>Fuel Cost/Year</th>\n",
       "    </tr>\n",
       "  </thead>\n",
       "  <tbody>\n",
       "    <tr>\n",
       "      <th>0</th>\n",
       "      <td>AM General</td>\n",
       "      <td>DJ Po Vehicle 2WD</td>\n",
       "      <td>1984</td>\n",
       "      <td>2.5</td>\n",
       "      <td>4.0</td>\n",
       "      <td>Automatic 3-spd</td>\n",
       "      <td>2-Wheel Drive</td>\n",
       "      <td>Special Purpose Vehicle 2WD</td>\n",
       "      <td>Regular</td>\n",
       "      <td>19.388824</td>\n",
       "      <td>18</td>\n",
       "      <td>17</td>\n",
       "      <td>17</td>\n",
       "      <td>522.764706</td>\n",
       "      <td>1950</td>\n",
       "    </tr>\n",
       "    <tr>\n",
       "      <th>1</th>\n",
       "      <td>AM General</td>\n",
       "      <td>FJ8c Post Office</td>\n",
       "      <td>1984</td>\n",
       "      <td>4.2</td>\n",
       "      <td>6.0</td>\n",
       "      <td>Automatic 3-spd</td>\n",
       "      <td>2-Wheel Drive</td>\n",
       "      <td>Special Purpose Vehicle 2WD</td>\n",
       "      <td>Regular</td>\n",
       "      <td>25.354615</td>\n",
       "      <td>13</td>\n",
       "      <td>13</td>\n",
       "      <td>13</td>\n",
       "      <td>683.615385</td>\n",
       "      <td>2550</td>\n",
       "    </tr>\n",
       "    <tr>\n",
       "      <th>2</th>\n",
       "      <td>AM General</td>\n",
       "      <td>Post Office DJ5 2WD</td>\n",
       "      <td>1985</td>\n",
       "      <td>2.5</td>\n",
       "      <td>4.0</td>\n",
       "      <td>Automatic 3-spd</td>\n",
       "      <td>Rear-Wheel Drive</td>\n",
       "      <td>Special Purpose Vehicle 2WD</td>\n",
       "      <td>Regular</td>\n",
       "      <td>20.600625</td>\n",
       "      <td>16</td>\n",
       "      <td>17</td>\n",
       "      <td>16</td>\n",
       "      <td>555.437500</td>\n",
       "      <td>2100</td>\n",
       "    </tr>\n",
       "    <tr>\n",
       "      <th>3</th>\n",
       "      <td>AM General</td>\n",
       "      <td>Post Office DJ8 2WD</td>\n",
       "      <td>1985</td>\n",
       "      <td>4.2</td>\n",
       "      <td>6.0</td>\n",
       "      <td>Automatic 3-spd</td>\n",
       "      <td>Rear-Wheel Drive</td>\n",
       "      <td>Special Purpose Vehicle 2WD</td>\n",
       "      <td>Regular</td>\n",
       "      <td>25.354615</td>\n",
       "      <td>13</td>\n",
       "      <td>13</td>\n",
       "      <td>13</td>\n",
       "      <td>683.615385</td>\n",
       "      <td>2550</td>\n",
       "    </tr>\n",
       "    <tr>\n",
       "      <th>4</th>\n",
       "      <td>ASC Incorporated</td>\n",
       "      <td>GNX</td>\n",
       "      <td>1987</td>\n",
       "      <td>3.8</td>\n",
       "      <td>6.0</td>\n",
       "      <td>Automatic 4-spd</td>\n",
       "      <td>Rear-Wheel Drive</td>\n",
       "      <td>Midsize Cars</td>\n",
       "      <td>Premium</td>\n",
       "      <td>20.600625</td>\n",
       "      <td>14</td>\n",
       "      <td>21</td>\n",
       "      <td>16</td>\n",
       "      <td>555.437500</td>\n",
       "      <td>2550</td>\n",
       "    </tr>\n",
       "  </tbody>\n",
       "</table>\n",
       "</div>"
      ],
      "text/plain": [
       "               Make                Model  Year  Engine Displacement  \\\n",
       "0        AM General    DJ Po Vehicle 2WD  1984                  2.5   \n",
       "1        AM General     FJ8c Post Office  1984                  4.2   \n",
       "2        AM General  Post Office DJ5 2WD  1985                  2.5   \n",
       "3        AM General  Post Office DJ8 2WD  1985                  4.2   \n",
       "4  ASC Incorporated                  GNX  1987                  3.8   \n",
       "\n",
       "   Cylinders     Transmission        Drivetrain                Vehicle Class  \\\n",
       "0        4.0  Automatic 3-spd     2-Wheel Drive  Special Purpose Vehicle 2WD   \n",
       "1        6.0  Automatic 3-spd     2-Wheel Drive  Special Purpose Vehicle 2WD   \n",
       "2        4.0  Automatic 3-spd  Rear-Wheel Drive  Special Purpose Vehicle 2WD   \n",
       "3        6.0  Automatic 3-spd  Rear-Wheel Drive  Special Purpose Vehicle 2WD   \n",
       "4        6.0  Automatic 4-spd  Rear-Wheel Drive                 Midsize Cars   \n",
       "\n",
       "  Fuel Type  Fuel Barrels/Year  City MPG  Highway MPG  Combined MPG  \\\n",
       "0   Regular          19.388824        18           17            17   \n",
       "1   Regular          25.354615        13           13            13   \n",
       "2   Regular          20.600625        16           17            16   \n",
       "3   Regular          25.354615        13           13            13   \n",
       "4   Premium          20.600625        14           21            16   \n",
       "\n",
       "   CO2 Emission Grams/Mile  Fuel Cost/Year  \n",
       "0               522.764706            1950  \n",
       "1               683.615385            2550  \n",
       "2               555.437500            2100  \n",
       "3               683.615385            2550  \n",
       "4               555.437500            2550  "
      ]
     },
     "execution_count": 9,
     "metadata": {},
     "output_type": "execute_result"
    }
   ],
   "source": [
    "# Import any libraries you may need & the data\n",
    "vehicles = pd.read_csv(\"vehicles.csv\")\n",
    "vehicles.head()"
   ]
  },
  {
   "cell_type": "markdown",
   "metadata": {},
   "source": [
    "Let's use the following variables for our analysis: Year, Cylinders, Fuel Barrels/Year, Combined MPG, and Fuel Cost/Year. We will use 'CO2 Emission Grams/Mile' as our outcome variable. \n",
    "\n",
    "Calculate the correlations between each of these variables and the outcome. Which variable do you think will be the most important in determining CO2 emissions? Which provides the least amount of helpful information for determining CO2 emissions? Add your responses as comments after your code."
   ]
  },
  {
   "cell_type": "code",
   "execution_count": 10,
   "metadata": {},
   "outputs": [
    {
     "data": {
      "text/html": [
       "<div>\n",
       "<style scoped>\n",
       "    .dataframe tbody tr th:only-of-type {\n",
       "        vertical-align: middle;\n",
       "    }\n",
       "\n",
       "    .dataframe tbody tr th {\n",
       "        vertical-align: top;\n",
       "    }\n",
       "\n",
       "    .dataframe thead th {\n",
       "        text-align: right;\n",
       "    }\n",
       "</style>\n",
       "<table border=\"1\" class=\"dataframe\">\n",
       "  <thead>\n",
       "    <tr style=\"text-align: right;\">\n",
       "      <th></th>\n",
       "      <th>Year</th>\n",
       "      <th>Cylinders</th>\n",
       "      <th>Fuel Barrels/Year</th>\n",
       "      <th>Combined MPG</th>\n",
       "      <th>Fuel Cost/Year</th>\n",
       "      <th>CO2 Emission Grams/Mile</th>\n",
       "    </tr>\n",
       "  </thead>\n",
       "  <tbody>\n",
       "    <tr>\n",
       "      <th>Year</th>\n",
       "      <td>1.000000</td>\n",
       "      <td>0.082469</td>\n",
       "      <td>-0.221084</td>\n",
       "      <td>0.204751</td>\n",
       "      <td>-0.091913</td>\n",
       "      <td>-0.222300</td>\n",
       "    </tr>\n",
       "    <tr>\n",
       "      <th>Cylinders</th>\n",
       "      <td>0.082469</td>\n",
       "      <td>1.000000</td>\n",
       "      <td>0.739517</td>\n",
       "      <td>-0.698648</td>\n",
       "      <td>0.778153</td>\n",
       "      <td>0.752393</td>\n",
       "    </tr>\n",
       "    <tr>\n",
       "      <th>Fuel Barrels/Year</th>\n",
       "      <td>-0.221084</td>\n",
       "      <td>0.739517</td>\n",
       "      <td>1.000000</td>\n",
       "      <td>-0.909743</td>\n",
       "      <td>0.916208</td>\n",
       "      <td>0.986189</td>\n",
       "    </tr>\n",
       "    <tr>\n",
       "      <th>Combined MPG</th>\n",
       "      <td>0.204751</td>\n",
       "      <td>-0.698648</td>\n",
       "      <td>-0.909743</td>\n",
       "      <td>1.000000</td>\n",
       "      <td>-0.875185</td>\n",
       "      <td>-0.926229</td>\n",
       "    </tr>\n",
       "    <tr>\n",
       "      <th>Fuel Cost/Year</th>\n",
       "      <td>-0.091913</td>\n",
       "      <td>0.778153</td>\n",
       "      <td>0.916208</td>\n",
       "      <td>-0.875185</td>\n",
       "      <td>1.000000</td>\n",
       "      <td>0.930865</td>\n",
       "    </tr>\n",
       "    <tr>\n",
       "      <th>CO2 Emission Grams/Mile</th>\n",
       "      <td>-0.222300</td>\n",
       "      <td>0.752393</td>\n",
       "      <td>0.986189</td>\n",
       "      <td>-0.926229</td>\n",
       "      <td>0.930865</td>\n",
       "      <td>1.000000</td>\n",
       "    </tr>\n",
       "  </tbody>\n",
       "</table>\n",
       "</div>"
      ],
      "text/plain": [
       "                             Year  Cylinders  Fuel Barrels/Year  Combined MPG  \\\n",
       "Year                     1.000000   0.082469          -0.221084      0.204751   \n",
       "Cylinders                0.082469   1.000000           0.739517     -0.698648   \n",
       "Fuel Barrels/Year       -0.221084   0.739517           1.000000     -0.909743   \n",
       "Combined MPG             0.204751  -0.698648          -0.909743      1.000000   \n",
       "Fuel Cost/Year          -0.091913   0.778153           0.916208     -0.875185   \n",
       "CO2 Emission Grams/Mile -0.222300   0.752393           0.986189     -0.926229   \n",
       "\n",
       "                         Fuel Cost/Year  CO2 Emission Grams/Mile  \n",
       "Year                          -0.091913                -0.222300  \n",
       "Cylinders                      0.778153                 0.752393  \n",
       "Fuel Barrels/Year              0.916208                 0.986189  \n",
       "Combined MPG                  -0.875185                -0.926229  \n",
       "Fuel Cost/Year                 1.000000                 0.930865  \n",
       "CO2 Emission Grams/Mile        0.930865                 1.000000  "
      ]
     },
     "execution_count": 10,
     "metadata": {},
     "output_type": "execute_result"
    }
   ],
   "source": [
    "# Your response here. \n",
    "x = vehicles[[\"Year\", \"Cylinders\", \"Fuel Barrels/Year\", \"Combined MPG\", \"Fuel Cost/Year\"]]\n",
    "y = vehicles['CO2 Emission Grams/Mile']\n",
    "\n",
    "# Correlation coefficients\n",
    "pd.concat([x,y],axis=1).corr()\n",
    "\n",
    "# The most important in deremining the CO2 emission will be the Fuel Barrels/Year (corr=0.986), followed by \n",
    "# Fuel Cost/Year(corr=0.931) and Combined MPG (corr=-0.926) .\n",
    "\n",
    "# The least important one is going to be the Year, with a correlation of -0.222"
   ]
  },
  {
   "cell_type": "markdown",
   "metadata": {},
   "source": [
    "Build a regression model for this data. What type of regression are you using? Add your responses as comments after your code."
   ]
  },
  {
   "cell_type": "code",
   "execution_count": 11,
   "metadata": {},
   "outputs": [],
   "source": [
    "#lm2 = LinearRegression(fit_intercept=True)\n",
    "#lm2.fit(x,y)\n",
    "x = smf.add_constant(x)\n",
    "mod = smf.OLS(y,x)\n",
    "multi_lm = mod.fit()\n",
    "\n",
    "# I am using the statsmodels.regression.linear_model.OLS (ordinary least squares), because it is a method\n",
    "# that can show the summary."
   ]
  },
  {
   "cell_type": "markdown",
   "metadata": {},
   "source": [
    "Print your regression summary, and interpret the results. What are the most important varibles in your model and why? What can conclusions can you draw from your model and how confident in these conclusions are you? Add your responses as comments after your code."
   ]
  },
  {
   "cell_type": "code",
   "execution_count": 12,
   "metadata": {},
   "outputs": [
    {
     "data": {
      "text/html": [
       "<table class=\"simpletable\">\n",
       "<caption>OLS Regression Results</caption>\n",
       "<tr>\n",
       "  <th>Dep. Variable:</th>    <td>CO2 Emission Grams/Mile</td> <th>  R-squared:         </th>  <td>   0.981</td>  \n",
       "</tr>\n",
       "<tr>\n",
       "  <th>Model:</th>                      <td>OLS</td>           <th>  Adj. R-squared:    </th>  <td>   0.981</td>  \n",
       "</tr>\n",
       "<tr>\n",
       "  <th>Method:</th>                <td>Least Squares</td>      <th>  F-statistic:       </th>  <td>3.687e+05</td> \n",
       "</tr>\n",
       "<tr>\n",
       "  <th>Date:</th>                <td>Mon, 23 Nov 2020</td>     <th>  Prob (F-statistic):</th>   <td>  0.00</td>   \n",
       "</tr>\n",
       "<tr>\n",
       "  <th>Time:</th>                    <td>17:48:21</td>         <th>  Log-Likelihood:    </th> <td>-1.5173e+05</td>\n",
       "</tr>\n",
       "<tr>\n",
       "  <th>No. Observations:</th>         <td> 35952</td>          <th>  AIC:               </th>  <td>3.035e+05</td> \n",
       "</tr>\n",
       "<tr>\n",
       "  <th>Df Residuals:</th>             <td> 35946</td>          <th>  BIC:               </th>  <td>3.035e+05</td> \n",
       "</tr>\n",
       "<tr>\n",
       "  <th>Df Model:</th>                 <td>     5</td>          <th>                     </th>      <td> </td>     \n",
       "</tr>\n",
       "<tr>\n",
       "  <th>Covariance Type:</th>         <td>nonrobust</td>        <th>                     </th>      <td> </td>     \n",
       "</tr>\n",
       "</table>\n",
       "<table class=\"simpletable\">\n",
       "<tr>\n",
       "          <td></td>             <th>coef</th>     <th>std err</th>      <th>t</th>      <th>P>|t|</th>  <th>[0.025</th>    <th>0.975]</th>  \n",
       "</tr>\n",
       "<tr>\n",
       "  <th>const</th>             <td>  769.8883</td> <td>   19.392</td> <td>   39.702</td> <td> 0.000</td> <td>  731.880</td> <td>  807.897</td>\n",
       "</tr>\n",
       "<tr>\n",
       "  <th>Year</th>              <td>   -0.3206</td> <td>    0.010</td> <td>  -33.060</td> <td> 0.000</td> <td>   -0.340</td> <td>   -0.302</td>\n",
       "</tr>\n",
       "<tr>\n",
       "  <th>Cylinders</th>         <td>    1.8788</td> <td>    0.083</td> <td>   22.598</td> <td> 0.000</td> <td>    1.716</td> <td>    2.042</td>\n",
       "</tr>\n",
       "<tr>\n",
       "  <th>Fuel Barrels/Year</th> <td>   19.0529</td> <td>    0.061</td> <td>  311.600</td> <td> 0.000</td> <td>   18.933</td> <td>   19.173</td>\n",
       "</tr>\n",
       "<tr>\n",
       "  <th>Combined MPG</th>      <td>   -3.0404</td> <td>    0.042</td> <td>  -71.645</td> <td> 0.000</td> <td>   -3.124</td> <td>   -2.957</td>\n",
       "</tr>\n",
       "<tr>\n",
       "  <th>Fuel Cost/Year</th>    <td>    0.0323</td> <td>    0.000</td> <td>   67.025</td> <td> 0.000</td> <td>    0.031</td> <td>    0.033</td>\n",
       "</tr>\n",
       "</table>\n",
       "<table class=\"simpletable\">\n",
       "<tr>\n",
       "  <th>Omnibus:</th>       <td>71055.645</td> <th>  Durbin-Watson:     </th>   <td>   0.747</td>   \n",
       "</tr>\n",
       "<tr>\n",
       "  <th>Prob(Omnibus):</th>  <td> 0.000</td>   <th>  Jarque-Bera (JB):  </th> <td>246941260.782</td>\n",
       "</tr>\n",
       "<tr>\n",
       "  <th>Skew:</th>           <td>15.902</td>   <th>  Prob(JB):          </th>   <td>    0.00</td>   \n",
       "</tr>\n",
       "<tr>\n",
       "  <th>Kurtosis:</th>       <td>407.766</td>  <th>  Cond. No.          </th>   <td>6.20e+05</td>   \n",
       "</tr>\n",
       "</table><br/><br/>Notes:<br/>[1] Standard Errors assume that the covariance matrix of the errors is correctly specified.<br/>[2] The condition number is large, 6.2e+05. This might indicate that there are<br/>strong multicollinearity or other numerical problems."
      ],
      "text/plain": [
       "<class 'statsmodels.iolib.summary.Summary'>\n",
       "\"\"\"\n",
       "                               OLS Regression Results                              \n",
       "===================================================================================\n",
       "Dep. Variable:     CO2 Emission Grams/Mile   R-squared:                       0.981\n",
       "Model:                                 OLS   Adj. R-squared:                  0.981\n",
       "Method:                      Least Squares   F-statistic:                 3.687e+05\n",
       "Date:                     Mon, 23 Nov 2020   Prob (F-statistic):               0.00\n",
       "Time:                             17:48:21   Log-Likelihood:            -1.5173e+05\n",
       "No. Observations:                    35952   AIC:                         3.035e+05\n",
       "Df Residuals:                        35946   BIC:                         3.035e+05\n",
       "Df Model:                                5                                         \n",
       "Covariance Type:                 nonrobust                                         \n",
       "=====================================================================================\n",
       "                        coef    std err          t      P>|t|      [0.025      0.975]\n",
       "-------------------------------------------------------------------------------------\n",
       "const               769.8883     19.392     39.702      0.000     731.880     807.897\n",
       "Year                 -0.3206      0.010    -33.060      0.000      -0.340      -0.302\n",
       "Cylinders             1.8788      0.083     22.598      0.000       1.716       2.042\n",
       "Fuel Barrels/Year    19.0529      0.061    311.600      0.000      18.933      19.173\n",
       "Combined MPG         -3.0404      0.042    -71.645      0.000      -3.124      -2.957\n",
       "Fuel Cost/Year        0.0323      0.000     67.025      0.000       0.031       0.033\n",
       "==============================================================================\n",
       "Omnibus:                    71055.645   Durbin-Watson:                   0.747\n",
       "Prob(Omnibus):                  0.000   Jarque-Bera (JB):        246941260.782\n",
       "Skew:                          15.902   Prob(JB):                         0.00\n",
       "Kurtosis:                     407.766   Cond. No.                     6.20e+05\n",
       "==============================================================================\n",
       "\n",
       "Notes:\n",
       "[1] Standard Errors assume that the covariance matrix of the errors is correctly specified.\n",
       "[2] The condition number is large, 6.2e+05. This might indicate that there are\n",
       "strong multicollinearity or other numerical problems.\n",
       "\"\"\""
      ]
     },
     "execution_count": 12,
     "metadata": {},
     "output_type": "execute_result"
    }
   ],
   "source": [
    "# The R**2 value show a value very close to 1, indicating a very good fit\n",
    "# The summary t statistics show how significant is the variable in the model.\n",
    "# The most important ones are Fuel Barrels/Year, Combined MPG and Fuel Cost/Year, in that order\n",
    "# The Combined MPG is an anticorrelation.\n",
    "multi_lm.summary()"
   ]
  },
  {
   "cell_type": "markdown",
   "metadata": {},
   "source": [
    "## Bonus Challenge: Error Analysis"
   ]
  },
  {
   "cell_type": "markdown",
   "metadata": {},
   "source": [
    "I am suspicious about the last few parties I have thrown: it seems that the more people I invite the more people are unable to attend. To know if my hunch is supported by data, I have decided to do an analysis. I have collected my data in the table below, where X is the number of people I invited, and Y is the number of people who attended. \n",
    "\n",
    "|  X |  Y |\n",
    "|----|----|\n",
    "| 1  |  1 |\n",
    "| 3  |  2 |\n",
    "| 4  |  4 |\n",
    "| 6  |  4 |\n",
    "| 8  |  5 |\n",
    "| 9  |  7 |\n",
    "| 11 |  8 |\n",
    "| 14 |  13 |"
   ]
  },
  {
   "cell_type": "markdown",
   "metadata": {},
   "source": [
    "We want to know if the relationship modeled by the two random variables is linear or not, and therefore if it is appropriate to model it with a linear regression. \n",
    "First, build a dataframe with the data. "
   ]
  },
  {
   "cell_type": "code",
   "execution_count": 13,
   "metadata": {},
   "outputs": [],
   "source": [
    "df = pd.DataFrame({'X': [1,3,4,6,8,9,11,14], \n",
    "                  'Y': [1,2,4,4,5,7,8,13]})"
   ]
  },
  {
   "cell_type": "markdown",
   "metadata": {},
   "source": [
    "Draw a dispersion diagram (scatter plot) for the data, and fit a regression line."
   ]
  },
  {
   "cell_type": "code",
   "execution_count": 14,
   "metadata": {},
   "outputs": [
    {
     "data": {
      "image/png": "[encoded data removed]",
      "text/plain": [
       "<Figure size 432x288 with 1 Axes>"
      ]
     },
     "metadata": {
      "needs_background": "light"
     },
     "output_type": "display_data"
    }
   ],
   "source": [
    "plt.scatter(df[\"X\"],df[\"Y\"])\n",
    "plt.xlabel(\"X\")\n",
    "plt.ylabel(\"Y\")\n",
    "plt.grid(True);"
   ]
  },
  {
   "cell_type": "markdown",
   "metadata": {},
   "source": [
    "What do you see? What does this plot tell you about the likely relationship between the variables? Print the results from your regression."
   ]
  },
  {
   "cell_type": "code",
   "execution_count": 15,
   "metadata": {},
   "outputs": [
    {
     "name": "stderr",
     "output_type": "stream",
     "text": [
      "/home/ordovas/anaconda3/envs/ironhack/lib/python3.8/site-packages/scipy/stats/stats.py:1603: UserWarning: kurtosistest only valid for n>=20 ... continuing anyway, n=8\n",
      "  warnings.warn(\"kurtosistest only valid for n>=20 ... continuing \"\n"
     ]
    },
    {
     "data": {
      "text/html": [
       "<table class=\"simpletable\">\n",
       "<caption>OLS Regression Results</caption>\n",
       "<tr>\n",
       "  <th>Dep. Variable:</th>            <td>Y</td>        <th>  R-squared:         </th> <td>   0.932</td>\n",
       "</tr>\n",
       "<tr>\n",
       "  <th>Model:</th>                   <td>OLS</td>       <th>  Adj. R-squared:    </th> <td>   0.920</td>\n",
       "</tr>\n",
       "<tr>\n",
       "  <th>Method:</th>             <td>Least Squares</td>  <th>  F-statistic:       </th> <td>   81.81</td>\n",
       "</tr>\n",
       "<tr>\n",
       "  <th>Date:</th>             <td>Mon, 23 Nov 2020</td> <th>  Prob (F-statistic):</th> <td>0.000102</td>\n",
       "</tr>\n",
       "<tr>\n",
       "  <th>Time:</th>                 <td>17:48:21</td>     <th>  Log-Likelihood:    </th> <td> -10.800</td>\n",
       "</tr>\n",
       "<tr>\n",
       "  <th>No. Observations:</th>      <td>     8</td>      <th>  AIC:               </th> <td>   25.60</td>\n",
       "</tr>\n",
       "<tr>\n",
       "  <th>Df Residuals:</th>          <td>     6</td>      <th>  BIC:               </th> <td>   25.76</td>\n",
       "</tr>\n",
       "<tr>\n",
       "  <th>Df Model:</th>              <td>     1</td>      <th>                     </th>     <td> </td>   \n",
       "</tr>\n",
       "<tr>\n",
       "  <th>Covariance Type:</th>      <td>nonrobust</td>    <th>                     </th>     <td> </td>   \n",
       "</tr>\n",
       "</table>\n",
       "<table class=\"simpletable\">\n",
       "<tr>\n",
       "    <td></td>       <th>coef</th>     <th>std err</th>      <th>t</th>      <th>P>|t|</th>  <th>[0.025</th>    <th>0.975]</th>  \n",
       "</tr>\n",
       "<tr>\n",
       "  <th>const</th> <td>   -0.4394</td> <td>    0.759</td> <td>   -0.579</td> <td> 0.584</td> <td>   -2.297</td> <td>    1.418</td>\n",
       "</tr>\n",
       "<tr>\n",
       "  <th>X</th>     <td>    0.8485</td> <td>    0.094</td> <td>    9.045</td> <td> 0.000</td> <td>    0.619</td> <td>    1.078</td>\n",
       "</tr>\n",
       "</table>\n",
       "<table class=\"simpletable\">\n",
       "<tr>\n",
       "  <th>Omnibus:</th>       <td> 0.556</td> <th>  Durbin-Watson:     </th> <td>   1.867</td>\n",
       "</tr>\n",
       "<tr>\n",
       "  <th>Prob(Omnibus):</th> <td> 0.757</td> <th>  Jarque-Bera (JB):  </th> <td>   0.514</td>\n",
       "</tr>\n",
       "<tr>\n",
       "  <th>Skew:</th>          <td> 0.261</td> <th>  Prob(JB):          </th> <td>   0.773</td>\n",
       "</tr>\n",
       "<tr>\n",
       "  <th>Kurtosis:</th>      <td> 1.873</td> <th>  Cond. No.          </th> <td>    16.3</td>\n",
       "</tr>\n",
       "</table><br/><br/>Notes:<br/>[1] Standard Errors assume that the covariance matrix of the errors is correctly specified."
      ],
      "text/plain": [
       "<class 'statsmodels.iolib.summary.Summary'>\n",
       "\"\"\"\n",
       "                            OLS Regression Results                            \n",
       "==============================================================================\n",
       "Dep. Variable:                      Y   R-squared:                       0.932\n",
       "Model:                            OLS   Adj. R-squared:                  0.920\n",
       "Method:                 Least Squares   F-statistic:                     81.81\n",
       "Date:                Mon, 23 Nov 2020   Prob (F-statistic):           0.000102\n",
       "Time:                        17:48:21   Log-Likelihood:                -10.800\n",
       "No. Observations:                   8   AIC:                             25.60\n",
       "Df Residuals:                       6   BIC:                             25.76\n",
       "Df Model:                           1                                         \n",
       "Covariance Type:            nonrobust                                         \n",
       "==============================================================================\n",
       "                 coef    std err          t      P>|t|      [0.025      0.975]\n",
       "------------------------------------------------------------------------------\n",
       "const         -0.4394      0.759     -0.579      0.584      -2.297       1.418\n",
       "X              0.8485      0.094      9.045      0.000       0.619       1.078\n",
       "==============================================================================\n",
       "Omnibus:                        0.556   Durbin-Watson:                   1.867\n",
       "Prob(Omnibus):                  0.757   Jarque-Bera (JB):                0.514\n",
       "Skew:                           0.261   Prob(JB):                        0.773\n",
       "Kurtosis:                       1.873   Cond. No.                         16.3\n",
       "==============================================================================\n",
       "\n",
       "Notes:\n",
       "[1] Standard Errors assume that the covariance matrix of the errors is correctly specified.\n",
       "\"\"\""
      ]
     },
     "execution_count": 15,
     "metadata": {},
     "output_type": "execute_result"
    }
   ],
   "source": [
    "# Apparently there seems to be a correlation between X and Y\n",
    "x = df[\"X\"]\n",
    "y = df[\"Y\"]\n",
    "x = smf.add_constant(x)\n",
    "lm2 = smf.OLS(y,x).fit(intercept=True)\n",
    "lm2.summary()"
   ]
  },
  {
   "cell_type": "markdown",
   "metadata": {},
   "source": [
    "Do you see any problematic points, or outliers, in your data? Remove these points and recalculate your regression. Print the new dispersion diagram with your new model and the results of your model. "
   ]
  },
  {
   "cell_type": "code",
   "execution_count": 16,
   "metadata": {},
   "outputs": [
    {
     "data": {
      "image/png": "[encoded data removed]",
      "text/plain": [
       "<Figure size 432x288 with 1 Axes>"
      ]
     },
     "metadata": {
      "needs_background": "light"
     },
     "output_type": "display_data"
    }
   ],
   "source": [
    "plt.scatter(df[\"X\"],df[\"Y\"])\n",
    "plt.plot(df[\"X\"],lm2.predict(x),color=\"red\")\n",
    "plt.xlabel(\"X\")\n",
    "plt.ylabel(\"Y\")\n",
    "plt.grid(True);"
   ]
  },
  {
   "cell_type": "code",
   "execution_count": 17,
   "metadata": {},
   "outputs": [
    {
     "data": {
      "image/png": "[encoded data removed]",
      "text/plain": [
       "<Figure size 432x288 with 1 Axes>"
      ]
     },
     "metadata": {
      "needs_background": "light"
     },
     "output_type": "display_data"
    }
   ],
   "source": [
    "# I ignored the last datapoint as it seems to be an outlier.\n",
    "x2 = df[\"X\"][0:-1]\n",
    "y2 = df[\"Y\"][0:-1]\n",
    "x2 = smf.add_constant(x2)\n",
    "lm2_2 = smf.OLS(y2,x2).fit(intercept=True)\n",
    "\n",
    "# The regression seems to follow better for the other datapoints\n",
    "plt.scatter(df[\"X\"],df[\"Y\"])\n",
    "plt.plot(df[\"X\"],lm2_2.predict(x),color=\"red\")\n",
    "plt.xlabel(\"X\")\n",
    "plt.ylabel(\"Y\")\n",
    "plt.grid(True);"
   ]
  },
  {
   "cell_type": "code",
   "execution_count": 18,
   "metadata": {},
   "outputs": [
    {
     "name": "stderr",
     "output_type": "stream",
     "text": [
      "/home/ordovas/anaconda3/envs/ironhack/lib/python3.8/site-packages/statsmodels/stats/stattools.py:74: ValueWarning: omni_normtest is not valid with less than 8 observations; 7 samples were given.\n",
      "  warn(\"omni_normtest is not valid with less than 8 observations; %i \"\n"
     ]
    },
    {
     "data": {
      "text/html": [
       "<table class=\"simpletable\">\n",
       "<caption>OLS Regression Results</caption>\n",
       "<tr>\n",
       "  <th>Dep. Variable:</th>            <td>Y</td>        <th>  R-squared:         </th> <td>   0.943</td>\n",
       "</tr>\n",
       "<tr>\n",
       "  <th>Model:</th>                   <td>OLS</td>       <th>  Adj. R-squared:    </th> <td>   0.932</td>\n",
       "</tr>\n",
       "<tr>\n",
       "  <th>Method:</th>             <td>Least Squares</td>  <th>  F-statistic:       </th> <td>   83.31</td>\n",
       "</tr>\n",
       "<tr>\n",
       "  <th>Date:</th>             <td>Mon, 23 Nov 2020</td> <th>  Prob (F-statistic):</th> <td>0.000264</td>\n",
       "</tr>\n",
       "<tr>\n",
       "  <th>Time:</th>                 <td>17:48:22</td>     <th>  Log-Likelihood:    </th> <td> -5.7771</td>\n",
       "</tr>\n",
       "<tr>\n",
       "  <th>No. Observations:</th>      <td>     7</td>      <th>  AIC:               </th> <td>   15.55</td>\n",
       "</tr>\n",
       "<tr>\n",
       "  <th>Df Residuals:</th>          <td>     5</td>      <th>  BIC:               </th> <td>   15.45</td>\n",
       "</tr>\n",
       "<tr>\n",
       "  <th>Df Model:</th>              <td>     1</td>      <th>                     </th>     <td> </td>   \n",
       "</tr>\n",
       "<tr>\n",
       "  <th>Covariance Type:</th>      <td>nonrobust</td>    <th>                     </th>     <td> </td>   \n",
       "</tr>\n",
       "</table>\n",
       "<table class=\"simpletable\">\n",
       "<tr>\n",
       "    <td></td>       <th>coef</th>     <th>std err</th>      <th>t</th>      <th>P>|t|</th>  <th>[0.025</th>    <th>0.975]</th>  \n",
       "</tr>\n",
       "<tr>\n",
       "  <th>const</th> <td>    0.3233</td> <td>    0.513</td> <td>    0.630</td> <td> 0.556</td> <td>   -0.996</td> <td>    1.642</td>\n",
       "</tr>\n",
       "<tr>\n",
       "  <th>X</th>     <td>    0.6842</td> <td>    0.075</td> <td>    9.127</td> <td> 0.000</td> <td>    0.492</td> <td>    0.877</td>\n",
       "</tr>\n",
       "</table>\n",
       "<table class=\"simpletable\">\n",
       "<tr>\n",
       "  <th>Omnibus:</th>       <td>   nan</td> <th>  Durbin-Watson:     </th> <td>   2.689</td>\n",
       "</tr>\n",
       "<tr>\n",
       "  <th>Prob(Omnibus):</th> <td>   nan</td> <th>  Jarque-Bera (JB):  </th> <td>   0.379</td>\n",
       "</tr>\n",
       "<tr>\n",
       "  <th>Skew:</th>          <td> 0.284</td> <th>  Prob(JB):          </th> <td>   0.827</td>\n",
       "</tr>\n",
       "<tr>\n",
       "  <th>Kurtosis:</th>      <td> 2.012</td> <th>  Cond. No.          </th> <td>    14.5</td>\n",
       "</tr>\n",
       "</table><br/><br/>Notes:<br/>[1] Standard Errors assume that the covariance matrix of the errors is correctly specified."
      ],
      "text/plain": [
       "<class 'statsmodels.iolib.summary.Summary'>\n",
       "\"\"\"\n",
       "                            OLS Regression Results                            \n",
       "==============================================================================\n",
       "Dep. Variable:                      Y   R-squared:                       0.943\n",
       "Model:                            OLS   Adj. R-squared:                  0.932\n",
       "Method:                 Least Squares   F-statistic:                     83.31\n",
       "Date:                Mon, 23 Nov 2020   Prob (F-statistic):           0.000264\n",
       "Time:                        17:48:22   Log-Likelihood:                -5.7771\n",
       "No. Observations:                   7   AIC:                             15.55\n",
       "Df Residuals:                       5   BIC:                             15.45\n",
       "Df Model:                           1                                         \n",
       "Covariance Type:            nonrobust                                         \n",
       "==============================================================================\n",
       "                 coef    std err          t      P>|t|      [0.025      0.975]\n",
       "------------------------------------------------------------------------------\n",
       "const          0.3233      0.513      0.630      0.556      -0.996       1.642\n",
       "X              0.6842      0.075      9.127      0.000       0.492       0.877\n",
       "==============================================================================\n",
       "Omnibus:                          nan   Durbin-Watson:                   2.689\n",
       "Prob(Omnibus):                    nan   Jarque-Bera (JB):                0.379\n",
       "Skew:                           0.284   Prob(JB):                        0.827\n",
       "Kurtosis:                       2.012   Cond. No.                         14.5\n",
       "==============================================================================\n",
       "\n",
       "Notes:\n",
       "[1] Standard Errors assume that the covariance matrix of the errors is correctly specified.\n",
       "\"\"\""
      ]
     },
     "execution_count": 18,
     "metadata": {},
     "output_type": "execute_result"
    }
   ],
   "source": [
    "lm2_2.summary()"
   ]
  },
  {
   "cell_type": "markdown",
   "metadata": {},
   "source": [
    "What changed? Based on the results of the two models and your graphs, what can you say about the form of the data with the problematic point and without it?"
   ]
  },
  {
   "cell_type": "code",
   "execution_count": 19,
   "metadata": {},
   "outputs": [],
   "source": [
    "# The R2 value increased from 0.932 to 0.943, indicating a better fit of the rest of the datapoints"
   ]
  }
 ],
 "metadata": {
  "kernelspec": {
   "display_name": "Python 3",
   "language": "python",
   "name": "python3"
  },
  "language_info": {
   "codemirror_mode": {
    "name": "ipython",
    "version": 3
   },
   "file_extension": ".py",
   "mimetype": "text/x-python",
   "name": "python",
   "nbconvert_exporter": "python",
   "pygments_lexer": "ipython3",
   "version": "3.8.5"
  }
 },
 "nbformat": 4,
 "nbformat_minor": 2
}
