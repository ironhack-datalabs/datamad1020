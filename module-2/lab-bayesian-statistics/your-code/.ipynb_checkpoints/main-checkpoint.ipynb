{
 "cells": [
  {
   "cell_type": "markdown",
   "metadata": {},
   "source": [
    "# Intro to Bayesian Statistics Lab\n",
    "\n",
    "Complete the following set of exercises to solidify your knowledge of Bayesian statistics and Bayesian data analysis."
   ]
  },
  {
   "cell_type": "code",
   "execution_count": 2,
   "metadata": {},
   "outputs": [],
   "source": [
    "import pandas as pd\n",
    "import numpy as np\n",
    "import matplotlib.pyplot as plt"
   ]
  },
  {
   "cell_type": "markdown",
   "metadata": {},
   "source": [
    "## 1. Cookie Problem\n",
    "\n",
    "Suppose we have two bowls of cookies. Bowl 1 contains 30 vanilla cookies and 10 chocolate cookies. Bowl 2 contains 20 of each. You randomly pick one cookie out of one of the bowls, and it is vanilla. Use Bayes Theorem to calculate the probability that the vanilla cookie you picked came from Bowl 1?"
   ]
  },
  {
   "cell_type": "code",
   "execution_count": 18,
   "metadata": {},
   "outputs": [
    {
     "data": {
      "text/plain": [
       "0.6"
      ]
     },
     "execution_count": 18,
     "metadata": {},
     "output_type": "execute_result"
    }
   ],
   "source": [
    "#p(Bowl_1|Vainilla)\n",
    "\n",
    "#Probabilidad de coger cookie del bowl 1 y 2\n",
    "p_bowl_1 = 1/2\n",
    "p_bowl_2 = 1/2\n",
    "\n",
    "#probabilidad de cookies de vainilla en el bowl 1 y 2\n",
    "p_vanilla_bowl_1 = 30/40\n",
    "p_vanilla_bowl_2 = 20/40\n",
    "\n",
    "total_vanilla_cookies = 50/80\n",
    "\n",
    "#Probabilidad de coger una cookie de vainilla del bowl 1\n",
    "p_vanilla_came_from_bowl_1 = p_bowl_1 * p_vanilla_bowl_1 / total_vanilla_cookies\n",
    "p_vanilla_came_from_bowl_1 #(1/2) * (30/40) / (50/80)"
   ]
  },
  {
   "cell_type": "markdown",
   "metadata": {},
   "source": [
    "What is the probability that it came from Bowl 2?"
   ]
  },
  {
   "cell_type": "code",
   "execution_count": 19,
   "metadata": {},
   "outputs": [
    {
     "data": {
      "text/plain": [
       "0.4"
      ]
     },
     "execution_count": 19,
     "metadata": {},
     "output_type": "execute_result"
    }
   ],
   "source": [
    "#p(Bowl_2|Vainilla)\n",
    "\n",
    "p_vanilla_came_from_bowl_2 = p_bowl_2 * p_vanilla_bowl_2 / total_vanilla_cookies\n",
    "p_vanilla_came_from_bowl_2 #(1/2) * (20/40) / (50/80)"
   ]
  },
  {
   "cell_type": "markdown",
   "metadata": {},
   "source": [
    "What if the cookie you had picked was chocolate? What are the probabilities that the chocolate cookie came from Bowl 1 and Bowl 2 respectively?"
   ]
  },
  {
   "cell_type": "code",
   "execution_count": 20,
   "metadata": {},
   "outputs": [
    {
     "name": "stdout",
     "output_type": "stream",
     "text": [
      "The probability that the picked cookie came from Bowl 1 is:  0.3333333333333333\n",
      "The probability that the picked cookie came from Bowl 2 is:  0.6666666666666666\n"
     ]
    }
   ],
   "source": [
    "#Probabilidad de coger cookie del bowl 1 y 2\n",
    "\n",
    "p_bowl_1 = 1/2\n",
    "p_bowl_2 = 1/2\n",
    "\n",
    "#probabilidad de cookies de chocolate en el bowl 1 y 2\n",
    "\n",
    "p_chocolate_bowl_1 = 10/40\n",
    "p_chocolate_bowl_2 = 20/40\n",
    "total_chocolate_cookies = 30/80\n",
    "\n",
    "#p(Bowl_1|Chocolate)\n",
    "#Probabilidad de coger una cookie de chocolate del bowl 1\n",
    "p_chocolate_came_from_bowl_1 = p_bowl_1 * p_chocolate_bowl_1 / total_chocolate_cookies\n",
    "print(\"The probability that the picked cookie came from Bowl 1 is: \", p_chocolate_came_from_bowl_1) #(1/2) * (10/40) / (30/80)\n",
    "\n",
    "#p(Bowl_2|Chocolate)\n",
    "#Probabilidad de coger una cookie de chocolate del bowl 2\n",
    "p_chocolate_came_from_bowl_2 = p_bowl2 * p_chocolate_bowl_2 / total_chocolate_cookies\n",
    "print(\"The probability that the picked cookie came from Bowl 2 is: \", p_chocolate_came_from_bowl_2) #(1/2) * (20/40) / (30/80)"
   ]
  },
  {
   "cell_type": "markdown",
   "metadata": {},
   "source": [
    "## 2. Candy Problem\n",
    "\n",
    "Suppose you have two bags of candies:\n",
    "\n",
    "- In Bag 1, the mix of colors is:\n",
    "    - Brown - 30%\n",
    "    - Yellow - 20%\n",
    "    - Red - 20%\n",
    "    - Green - 10%\n",
    "    - Orange - 10%\n",
    "    - Tan - 10%\n",
    "    \n",
    "- In Bag 2, the mix of colors is:\n",
    "    - Blue - 24%\n",
    "    - Green - 20%\n",
    "    - Orange - 16%\n",
    "    - Yellow - 14%\n",
    "    - Red - 13%\n",
    "    - Brown - 13%\n",
    "    \n",
    "Not knowing which bag is which, you randomly draw one candy from each bag. One is yellow and one is green. What is the probability that the yellow one came from the Bag 1?\n",
    "\n",
    "*Hint: For the likelihoods, you will need to multiply the probabilities of drawing yellow from one bag and green from the other bag and vice versa.*"
   ]
  },
  {
   "cell_type": "code",
   "execution_count": 28,
   "metadata": {},
   "outputs": [
    {
     "data": {
      "text/plain": [
       "0.7407407407407408"
      ]
     },
     "execution_count": 28,
     "metadata": {},
     "output_type": "execute_result"
    }
   ],
   "source": [
    "#Probabilidad de coger candy de bag 1 y 2\n",
    "\n",
    "p_b1 = 1/2\n",
    "p_b2 = 1/2\n",
    "\n",
    "#prob yellow candy\n",
    "p_y= (20+14)/200\n",
    "\n",
    "#prob yellow candy on each bag\n",
    "p_y_b1 = 20/100\n",
    "p_y_b2 = 14/100\n",
    "\n",
    "#prob green candy\n",
    "p_g= (10+20)/200\n",
    "\n",
    "#prob green candy on each bag\n",
    "p_g_b1 = 10/100\n",
    "p_g_b2 = 20/100\n",
    "\n",
    "\n",
    "#p(b1|yellow): \n",
    "p_b1_y = (p_y_b1*p_g_b2)/((p_y_b1 * p_g_b2)+(p_y_b2 * p_g_b1)) \n",
    "p_b1_y #  ( (20/100) * (20/100) ) / [((20/100) * (20/100)) + ((14/100) *(10/100))]"
   ]
  },
  {
   "cell_type": "markdown",
   "metadata": {},
   "source": [
    "What is the probability that the yellow candy came from Bag 2?"
   ]
  },
  {
   "cell_type": "code",
   "execution_count": 29,
   "metadata": {},
   "outputs": [
    {
     "data": {
      "text/plain": [
       "0.25925925925925924"
      ]
     },
     "execution_count": 29,
     "metadata": {},
     "output_type": "execute_result"
    }
   ],
   "source": [
    "#p(b2|yellow): \n",
    "p_b2_y = (p_y_b2*p_g_b1)/((p_y_b2*p_g_b1)+(p_y_b1*p_g_b2)) \n",
    "p_b2_y #  ( (14/100) * (10/100) ) / [((14/100) * (10/100)) + ((20/100) *(20/100))]"
   ]
  },
  {
   "cell_type": "markdown",
   "metadata": {},
   "source": [
    "What are the probabilities that the green one came from Bag 1 and Bag 2 respectively?"
   ]
  },
  {
   "cell_type": "code",
   "execution_count": 30,
   "metadata": {},
   "outputs": [
    {
     "data": {
      "text/plain": [
       "0.25925925925925924"
      ]
     },
     "execution_count": 30,
     "metadata": {},
     "output_type": "execute_result"
    }
   ],
   "source": [
    "#p(b1|green) : \n",
    "p_b1_g = (p_g_b1*p_y_b2)/((p_g_b1*p_y_b2)+(p_g_b2*p_y_b1)) \n",
    "p_b1_g  #  ( (10/100) * (14/100) ) / [((10/100) * (14/100)) + ((20/100) *(20/100))]"
   ]
  },
  {
   "cell_type": "code",
   "execution_count": 31,
   "metadata": {},
   "outputs": [
    {
     "data": {
      "text/plain": [
       "0.7407407407407408"
      ]
     },
     "execution_count": 31,
     "metadata": {},
     "output_type": "execute_result"
    }
   ],
   "source": [
    "#p(b2|green) : \n",
    "p_b2_g = (p_g_b2*p_y_b1)/((p_g_b2*p_y_b1)+(p_g_b1*p_y_b2)) \n",
    "p_b2_g #  ( (20/100) * (20/100) ) / [((20/100) * (20/100)) + ((10/100) *(14/100))]"
   ]
  },
  {
   "cell_type": "markdown",
   "metadata": {},
   "source": [
    "## 3. Monty Hall Problem\n",
    "\n",
    "Suppose you are a contestant on the popular game show *Let's Make a Deal*. The host of the show (Monty Hall) presents you with three doors - Door A, Door B, and Door C. He tells you that there is a sports car behind one of them and if you choose the correct one, you win the car!\n",
    "\n",
    "You select Door A, but then Monty makes things a little more interesting. He opens Door B to reveal that there is no sports car behind it and asks you if you would like to stick with your choice of Door A or switch your choice to Door C. Given this new information, what are the probabilities of you winning the car if you stick with Door A versus if you switch to Door C?"
   ]
  },
  {
   "cell_type": "code",
   "execution_count": 17,
   "metadata": {},
   "outputs": [
    {
     "name": "stdout",
     "output_type": "stream",
     "text": [
      "After selecting door A, the probability that the car is behind the door C is:  0.6666666666666666\n",
      "After selecting door A, the probability that the car is behind the door A is:  0.3333333333333333\n"
     ]
    }
   ],
   "source": [
    "# P(C|B)\n",
    "# I choose door A\n",
    "# C -> Car is in door C\n",
    "# B -> Door B is open\n",
    "p_BC = 1\n",
    "p_C = 1/3\n",
    "p_B = 1/2\n",
    "p_CB = (p_BC * p_C)/p_B \n",
    "\n",
    "print(\"After selecting door A, the probability that the car is behind the door C is: \", p_CB)\n",
    "\n",
    "# P(A|B)\n",
    "# I chose door A\n",
    "# A -> Car is in door A\n",
    "# B -> Door B is open\n",
    "p_BA=1/2\n",
    "p_A=1/3\n",
    "p_B=1/2\n",
    "p_AB = (p_BA * p_A)/p_B \n",
    "p_AB\n",
    "print(\"After selecting door A, the probability that the car is behind the door A is: \", p_AB)\n"
   ]
  },
  {
   "cell_type": "markdown",
   "metadata": {},
   "source": [
    "## 4. Bayesian Analysis \n",
    "\n",
    "Suppose you work for a landscaping company, and they want to advertise their service online. They create an ad and sit back waiting for the money to roll in. On the first day, the ad sends 100 visitors to the site and 14 of them sign up for landscaping services. Create a generative model to come up with the posterior distribution and produce a visualization of what the posterior distribution would look like given the observed data."
   ]
  },
  {
   "cell_type": "code",
   "execution_count": null,
   "metadata": {},
   "outputs": [],
   "source": []
  },
  {
   "cell_type": "markdown",
   "metadata": {},
   "source": [
    "Produce a set of descriptive statistics for the posterior distribution."
   ]
  },
  {
   "cell_type": "code",
   "execution_count": null,
   "metadata": {},
   "outputs": [],
   "source": []
  },
  {
   "cell_type": "markdown",
   "metadata": {},
   "source": [
    "What is the 90% credible interval range?"
   ]
  },
  {
   "cell_type": "code",
   "execution_count": null,
   "metadata": {},
   "outputs": [],
   "source": []
  },
  {
   "cell_type": "markdown",
   "metadata": {},
   "source": [
    "What is the Maximum Likelihood Estimate?"
   ]
  },
  {
   "cell_type": "code",
   "execution_count": null,
   "metadata": {},
   "outputs": [],
   "source": []
  }
 ],
 "metadata": {
  "kernelspec": {
   "display_name": "Python 3",
   "language": "python",
   "name": "python3"
  },
  "language_info": {
   "codemirror_mode": {
    "name": "ipython",
    "version": 3
   },
   "file_extension": ".py",
   "mimetype": "text/x-python",
   "name": "python",
   "nbconvert_exporter": "python",
   "pygments_lexer": "ipython3",
   "version": "3.8.6"
  }
 },
 "nbformat": 4,
 "nbformat_minor": 2
}
