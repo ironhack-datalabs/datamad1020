{
 "cells": [
  {
   "cell_type": "markdown",
   "metadata": {},
   "source": [
    "# Intro to Bayesian Statistics Lab\n",
    "\n",
    "Complete the following set of exercises to solidify your knowledge of Bayesian statistics and Bayesian data analysis."
   ]
  },
  {
   "cell_type": "code",
   "execution_count": 1,
   "metadata": {},
   "outputs": [],
   "source": [
    "import pandas as pd\n",
    "import numpy as np\n",
    "import matplotlib.pyplot as plt"
   ]
  },
  {
   "cell_type": "markdown",
   "metadata": {},
   "source": [
    "## 1. Cookie Problem\n",
    "\n",
    "Suppose we have two bowls of cookies. Bowl 1 contains 30 vanilla cookies and 10 chocolate cookies. Bowl 2 contains 20 of each. You randomly pick one cookie out of one of the bowls, and it is vanilla. Use Bayes Theorem to calculate the probability that the vanilla cookie you picked came from Bowl 1?\n",
    "\n",
    "$$P(Bowl_1|Vainilla) = \\frac{P(Vainilla|Bowl_1) \\cdot P(Bowl_1)}{P(Vainilla)}$$"
   ]
  },
  {
   "cell_type": "code",
   "execution_count": 2,
   "metadata": {},
   "outputs": [
    {
     "name": "stdout",
     "output_type": "stream",
     "text": [
      "0.6\n"
     ]
    }
   ],
   "source": [
    "# Probability of the bowls\n",
    "p_b1=0.5\n",
    "p_b2=0.5\n",
    "# Probability of the cookies\n",
    "p_v=(30+20)/80\n",
    "p_c=(10+20)/80\n",
    "# Conditional probabilities\n",
    "p_vIb1=30/40\n",
    "p_cIb1=10/40\n",
    "p_vIb2=20/40\n",
    "p_cIb2=20/40\n",
    "\n",
    "pb1Iv=p_vIb1*p_b1/p_v\n",
    "print(pb1Iv)"
   ]
  },
  {
   "cell_type": "markdown",
   "metadata": {},
   "source": [
    "What is the probability that it came from Bowl 2?\n",
    "$$P(Bowl_2|Vainilla) = \\frac{P(Vainilla|Bowl_2) \\cdot P(Bowl_2)}{P(Vainilla)}$$"
   ]
  },
  {
   "cell_type": "code",
   "execution_count": 3,
   "metadata": {},
   "outputs": [
    {
     "name": "stdout",
     "output_type": "stream",
     "text": [
      "0.4\n"
     ]
    }
   ],
   "source": [
    "pb2Iv=p_vIb2*p_b2/p_v\n",
    "print(pb2Iv)"
   ]
  },
  {
   "cell_type": "markdown",
   "metadata": {},
   "source": [
    "What if the cookie you had picked was chocolate? What are the probabilities that the chocolate cookie came from Bowl 1 and Bowl 2 respectively?\n",
    "\n",
    "$$P(Bowl_1|Chocolate) = \\frac{P(Chocolate|Bowl_1) \\cdot P(Bowl_1)}{P(Chocolate)}$$\n",
    "\n",
    "$$P(Bowl_2|Chocolate) = \\frac{P(Chocolate|Bowl_2) \\cdot P(Bowl_2)}{P(Chocolate)}$$"
   ]
  },
  {
   "cell_type": "code",
   "execution_count": 4,
   "metadata": {},
   "outputs": [
    {
     "name": "stdout",
     "output_type": "stream",
     "text": [
      "Bowl 1:  0.3333333333333333\n",
      "Bowl 2:  0.6666666666666666\n"
     ]
    }
   ],
   "source": [
    "pb1Ic=p_cIb1*p_b1/p_c\n",
    "print(\"Bowl 1: \",pb1Ic)\n",
    "pb2Ic=p_cIb2*p_b2/p_c\n",
    "print(\"Bowl 2: \",pb2Ic)"
   ]
  },
  {
   "cell_type": "markdown",
   "metadata": {},
   "source": [
    "## 2. Candy Problem\n",
    "\n",
    "Suppose you have two bags of candies:\n",
    "\n",
    "- In Bag 1, the mix of colors is:\n",
    "    - Brown - 30%\n",
    "    - Yellow - 20%\n",
    "    - Red - 20%\n",
    "    - Green - 10%\n",
    "    - Orange - 10%\n",
    "    - Tan - 10%\n",
    "    \n",
    "- In Bag 2, the mix of colors is:\n",
    "    - Blue - 24%\n",
    "    - Green - 20%\n",
    "    - Orange - 16%\n",
    "    - Yellow - 14%\n",
    "    - Red - 13%\n",
    "    - Brown - 13%\n",
    "    \n",
    "Not knowing which bag is which, you randomly draw one candy from each bag. One is yellow and one is green. What is the probability that the yellow one came from the Bag 1?\n",
    "\n",
    "*Hint: For the likelihoods, you will need to multiply the probabilities of drawing yellow from one bag and green from the other bag and vice versa.*\n",
    "\n",
    "\n",
    "\n",
    "$$P(Bag_1|Yellow) = \\frac{P(Yellow|Bag_1) \\cdot P(Green|Bag_2)}{P(Yellow|Bag_1) \\cdot P(Green|Bag_2) + P(Yellow|Bag_2) \\cdot P(Green|Bag_1) } $$"
   ]
  },
  {
   "cell_type": "code",
   "execution_count": 1,
   "metadata": {},
   "outputs": [
    {
     "name": "stdout",
     "output_type": "stream",
     "text": [
      "0.7407407407407408\n"
     ]
    }
   ],
   "source": [
    "P_bag1 = 0.5\n",
    "P_bag2 = 0.5\n",
    "p_yellowIbag1= 0.2\n",
    "p_yellowIbag2=0.14\n",
    "p_greenIbag1=0.1\n",
    "p_greenIbag2=0.2\n",
    "\n",
    "p_b1Iy= p_yellowIbag1*p_greenIbag2 / (p_yellowIbag1*p_greenIbag2 + p_yellowIbag2*p_greenIbag1) \n",
    "print(p_b1Iy)"
   ]
  },
  {
   "cell_type": "markdown",
   "metadata": {},
   "source": [
    "What is the probability that the yellow candy came from Bag 2?\n",
    "\n",
    "\n",
    "$$P(Bag_2|Yellow) = \\frac{P(Yellow|Bag_2) \\cdot P(Green|Bag_1)}{P(Yellow|Bag_1) \\cdot P(Green|Bag_2) + P(Yellow|Bag_2) \\cdot P(Green|Bag_1) } $$"
   ]
  },
  {
   "cell_type": "code",
   "execution_count": 2,
   "metadata": {},
   "outputs": [
    {
     "name": "stdout",
     "output_type": "stream",
     "text": [
      "0.25925925925925924\n"
     ]
    }
   ],
   "source": [
    "p_b2Iy= p_yellowIbag2*p_greenIbag1 / (p_yellowIbag1*p_greenIbag2 + p_yellowIbag2*p_greenIbag1) \n",
    "print(p_b2Iy)"
   ]
  },
  {
   "cell_type": "markdown",
   "metadata": {},
   "source": [
    "What are the probabilities that the green one came from Bag 1 and Bag 2 respectively?\n",
    "\n",
    "$$P(Green|Bag_1) = \\frac{P(Yellow|Bag_2) \\cdot P(Green|Bag_1)}{P(Yellow|Bag_1) \\cdot P(Green|Bag_2) + P(Yellow|Bag_2) \\cdot P(Green|Bag_1) } $$\n",
    "\n",
    "$$P(Bag_1|Yellow) = \\frac{P(Yellow|Bag_1) \\cdot P(Green|Bag_2)}{P(Yellow|Bag_1) \\cdot P(Green|Bag_2) + P(Yellow|Bag_2) \\cdot P(Green|Bag_1) } $$\n",
    "\n",
    "\n"
   ]
  },
  {
   "cell_type": "code",
   "execution_count": 17,
   "metadata": {},
   "outputs": [
    {
     "name": "stdout",
     "output_type": "stream",
     "text": [
      "Bag 1:  0.41666666666666663\n",
      "Bag 2:  0.5\n"
     ]
    }
   ],
   "source": [
    "p_b1Iy=(p_greenIbag1*P_bag1)/(p_greenIbag1*P_bag1+p_yellowIbag2*P_bag2)\n",
    "print(\"Bag 1: \",p_b1Iy)\n",
    "p_b2Iy=(p_greenIbag2*P_bag2)/(p_greenIbag2*P_bag2+p_yellowIbag1*P_bag1)\n",
    "print(\"Bag 2: \",p_b2Iy)"
   ]
  },
  {
   "cell_type": "markdown",
   "metadata": {},
   "source": [
    "## 3. Monty Hall Problem\n",
    "\n",
    "Suppose you are a contestant on the popular game show *Let's Make a Deal*. The host of the show (Monty Hall) presents you with three doors - Door A, Door B, and Door C. He tells you that there is a sports car behind one of them and if you choose the correct one, you win the car!\n",
    "\n",
    "You select Door A, but then Monty makes things a little more interesting. He opens Door B to reveal that there is no sports car behind it and asks you if you would like to stick with your choice of Door A or switch your choice to Door C. Given this new information, what are the probabilities of you winning the car if you stick with Door A versus if you switch to Door C?"
   ]
  },
  {
   "cell_type": "code",
   "execution_count": 11,
   "metadata": {
    "scrolled": true
   },
   "outputs": [
    {
     "name": "stdout",
     "output_type": "stream",
     "text": [
      "Proabability wining sticking with A:  0.3333333333333333\n",
      "Proabability wining changing to C:  0.6666666666666666\n"
     ]
    }
   ],
   "source": [
    "#Probability that Monty Hall opens B conditionated to me chosing A\n",
    "#given that the car is in A is 0.5\n",
    "#as he can open B or C, as they do not have cars\n",
    "p_Open_B = 1/2\n",
    "#Probability of the car being in a random door\n",
    "p_car_in_A = 1/3\n",
    "#Probability of Monty Hall opening one door\n",
    "p_Open = 1/2\n",
    "#Conditional probability of winning given the previous \n",
    "p_stick = (p_Open_B * p_car_in_A)/p_Open \n",
    "print(\"Proabability wining sticking with A: \",p_stick)\n",
    "\n",
    "#Probability that Monty Hall opens B conditionated to me chosing A\n",
    "#given that the car is in C is 1\n",
    "#as he can only open B\n",
    "p_Open_B = 1\n",
    "#Probability of the car being in a random door\n",
    "p_car_in_A = 1/3\n",
    "#Probability of Monty Hall opening one door\n",
    "p_Open = 1/2\n",
    "#Conditional probability of winning given the previous\n",
    "p_change = (p_Open_B * p_car_in_A)/p_Open \n",
    "print(\"Proabability wining changing to C: \",p_change)"
   ]
  },
  {
   "cell_type": "markdown",
   "metadata": {},
   "source": [
    "## 4. Bayesian Analysis \n",
    "\n",
    "Suppose you work for a landscaping company, and they want to advertise their service online. They create an ad and sit back waiting for the money to roll in. On the first day, the ad sends 100 visitors to the site and 14 of them sign up for landscaping services. Create a generative model to come up with the posterior distribution and produce a visualization of what the posterior distribution would look like given the observed data.\n"
   ]
  },
  {
   "cell_type": "code",
   "execution_count": null,
   "metadata": {},
   "outputs": [],
   "source": []
  },
  {
   "cell_type": "markdown",
   "metadata": {},
   "source": [
    "Produce a set of descriptive statistics for the posterior distribution."
   ]
  },
  {
   "cell_type": "code",
   "execution_count": null,
   "metadata": {},
   "outputs": [],
   "source": []
  },
  {
   "cell_type": "markdown",
   "metadata": {},
   "source": [
    "What is the 90% credible interval range?"
   ]
  },
  {
   "cell_type": "code",
   "execution_count": null,
   "metadata": {},
   "outputs": [],
   "source": []
  },
  {
   "cell_type": "markdown",
   "metadata": {},
   "source": [
    "What is the Maximum Likelihood Estimate?"
   ]
  },
  {
   "cell_type": "code",
   "execution_count": null,
   "metadata": {},
   "outputs": [],
   "source": []
  }
 ],
 "metadata": {
  "kernelspec": {
   "display_name": "Python 3",
   "language": "python",
   "name": "python3"
  },
  "language_info": {
   "codemirror_mode": {
    "name": "ipython",
    "version": 3
   },
   "file_extension": ".py",
   "mimetype": "text/x-python",
   "name": "python",
   "nbconvert_exporter": "python",
   "pygments_lexer": "ipython3",
   "version": "3.8.3"
  }
 },
 "nbformat": 4,
 "nbformat_minor": 2
}
