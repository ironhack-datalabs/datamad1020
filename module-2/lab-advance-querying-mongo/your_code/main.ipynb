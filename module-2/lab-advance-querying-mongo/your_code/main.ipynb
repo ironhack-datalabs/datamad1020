{
 "cells": [
  {
   "cell_type": "markdown",
   "metadata": {},
   "source": [
    "# Advanced Querying Mongo"
   ]
  },
  {
   "cell_type": "markdown",
   "metadata": {},
   "source": [
    "Importing libraries and setting up connection"
   ]
  },
  {
   "cell_type": "code",
   "execution_count": 50,
   "metadata": {},
   "outputs": [],
   "source": [
    "from pymongo import MongoClient"
   ]
  },
  {
   "cell_type": "code",
   "execution_count": 51,
   "metadata": {},
   "outputs": [],
   "source": [
    "client = MongoClient()"
   ]
  },
  {
   "cell_type": "code",
   "execution_count": 52,
   "metadata": {},
   "outputs": [
    {
     "data": {
      "text/plain": [
       "MongoClient(host=['localhost:27017'], document_class=dict, tz_aware=False, connect=True)"
      ]
     },
     "execution_count": 52,
     "metadata": {},
     "output_type": "execute_result"
    }
   ],
   "source": [
    "client"
   ]
  },
  {
   "cell_type": "code",
   "execution_count": 53,
   "metadata": {},
   "outputs": [],
   "source": [
    "db=client.get_database(\"companies\")"
   ]
  },
  {
   "cell_type": "code",
   "execution_count": 54,
   "metadata": {},
   "outputs": [
    {
     "data": {
      "text/plain": [
       "Database(MongoClient(host=['localhost:27017'], document_class=dict, tz_aware=False, connect=True), 'companies')"
      ]
     },
     "execution_count": 54,
     "metadata": {},
     "output_type": "execute_result"
    }
   ],
   "source": [
    "db"
   ]
  },
  {
   "cell_type": "code",
   "execution_count": 55,
   "metadata": {},
   "outputs": [],
   "source": [
    "comp = db.companies.find({})"
   ]
  },
  {
   "cell_type": "code",
   "execution_count": 56,
   "metadata": {},
   "outputs": [
    {
     "data": {
      "text/plain": [
       "18801"
      ]
     },
     "execution_count": 56,
     "metadata": {},
     "output_type": "execute_result"
    }
   ],
   "source": [
    "len(list(comp))"
   ]
  },
  {
   "cell_type": "markdown",
   "metadata": {},
   "source": [
    "### 1. All the companies whose name match 'Babelgum'. Retrieve only their `name` field."
   ]
  },
  {
   "cell_type": "code",
   "execution_count": 90,
   "metadata": {},
   "outputs": [],
   "source": [
    "# Your Code\n",
    "res = db.companies.find({\"name\":\"Babelgum\"})\n",
    "res = list(res)"
   ]
  },
  {
   "cell_type": "code",
   "execution_count": 91,
   "metadata": {},
   "outputs": [
    {
     "data": {
      "text/plain": [
       "'Babelgum'"
      ]
     },
     "execution_count": 91,
     "metadata": {},
     "output_type": "execute_result"
    }
   ],
   "source": [
    "res[0][\"name\"]"
   ]
  },
  {
   "cell_type": "markdown",
   "metadata": {},
   "source": [
    "### 2. All the companies that have more than 5000 employees. Limit the search to 20 companies and sort them by **number of employees**."
   ]
  },
  {
   "cell_type": "code",
   "execution_count": 123,
   "metadata": {},
   "outputs": [
    {
     "data": {
      "text/plain": [
       "[{'_id': ObjectId('52cdef7d4bab8bd67529941a'), 'name': 'Siemens'},\n",
       " {'_id': ObjectId('52cdef7c4bab8bd67529856a'), 'name': 'IBM'},\n",
       " {'_id': ObjectId('52cdef7d4bab8bd675299d33'), 'name': 'Toyota'},\n",
       " {'_id': ObjectId('52cdef7c4bab8bd675297e89'), 'name': 'PayPal'}]"
      ]
     },
     "execution_count": 123,
     "metadata": {},
     "output_type": "execute_result"
    }
   ],
   "source": [
    "# Your Code\n",
    "filter_query={\"number_of_employees\":{\"$gt\":5000}}\n",
    "project = {\"name\":1}\n",
    "res = db.companies.find(filter_query,project).sort([(\"number_of_employees\",-1)]).limit(20)\n",
    "list(res)[:4]"
   ]
  },
  {
   "cell_type": "markdown",
   "metadata": {},
   "source": [
    "### 3. All the companies founded between 2000 and 2005, both years included. Retrieve only the `name` and `founded_year` fields."
   ]
  },
  {
   "cell_type": "code",
   "execution_count": 95,
   "metadata": {},
   "outputs": [
    {
     "data": {
      "text/plain": [
       "[{'_id': ObjectId('52cdef7c4bab8bd675297d8f'),\n",
       "  'name': 'Omnidrive',\n",
       "  'founded_year': 2005},\n",
       " {'_id': ObjectId('52cdef7c4bab8bd675297d8c'),\n",
       "  'name': 'Zoho',\n",
       "  'founded_year': 2005},\n",
       " {'_id': ObjectId('52cdef7c4bab8bd675297d8a'),\n",
       "  'name': 'Wetpaint',\n",
       "  'founded_year': 2005},\n",
       " {'_id': ObjectId('52cdef7c4bab8bd675297d96'),\n",
       "  'name': 'Gizmoz',\n",
       "  'founded_year': 2003}]"
      ]
     },
     "execution_count": 95,
     "metadata": {},
     "output_type": "execute_result"
    }
   ],
   "source": [
    "# Your Code\n",
    "filter_query={\"founded_year\":{\"$gte\":2000, \"$lte\":2005}}\n",
    "project={\"name\":1,\"founded_year\":1}\n",
    "res=db.companies.find(filter_query,project)\n",
    "list(res)[:4]"
   ]
  },
  {
   "cell_type": "markdown",
   "metadata": {},
   "source": [
    "### 4. All the companies that had a Valuation Amount of more than 100.000.000 and have been founded before 2010. Retrieve only the `name` and `ipo` fields."
   ]
  },
  {
   "cell_type": "code",
   "execution_count": 96,
   "metadata": {},
   "outputs": [
    {
     "data": {
      "text/plain": [
       "[{'_id': ObjectId('52cdef7c4bab8bd675297d94'),\n",
       "  'name': 'Twitter',\n",
       "  'ipo': {'valuation_amount': 18100000000,\n",
       "   'valuation_currency_code': 'USD',\n",
       "   'pub_year': 2013,\n",
       "   'pub_month': 11,\n",
       "   'pub_day': 7,\n",
       "   'stock_symbol': 'NYSE:TWTR'}},\n",
       " {'_id': ObjectId('52cdef7c4bab8bd675297d8e'),\n",
       "  'name': 'Facebook',\n",
       "  'ipo': {'valuation_amount': 104000000000,\n",
       "   'valuation_currency_code': 'USD',\n",
       "   'pub_year': 2012,\n",
       "   'pub_month': 5,\n",
       "   'pub_day': 18,\n",
       "   'stock_symbol': 'NASDAQ:FB'}}]"
      ]
     },
     "execution_count": 96,
     "metadata": {},
     "output_type": "execute_result"
    }
   ],
   "source": [
    "# Your Code\n",
    "filter_query={\"ipo.valuation_amount\":{\"$gt\":100000000}}\n",
    "project={\"name\":1,\"ipo\":1}\n",
    "res=db.companies.find(filter_query,project)\n",
    "list(res)[:2]"
   ]
  },
  {
   "cell_type": "markdown",
   "metadata": {},
   "source": [
    "### 5. All the companies that have less than 1000 employees and have been founded before 2005. Order them by the number of employees and limit the search to 10 companies."
   ]
  },
  {
   "cell_type": "code",
   "execution_count": 100,
   "metadata": {},
   "outputs": [
    {
     "name": "stdout",
     "output_type": "stream",
     "text": [
      "[{'_id': ObjectId('52cdef7d4bab8bd675298933'), 'name': 'Infinera Corporation'}, {'_id': ObjectId('52cdef7c4bab8bd675297e10'), 'name': 'Box'}, {'_id': ObjectId('52cdef7e4bab8bd67529ac95'), 'name': 'NorthPoint Communications Group'}, {'_id': ObjectId('52cdef7f4bab8bd67529be17'), 'name': '888 Holdings'}]\n"
     ]
    }
   ],
   "source": [
    "# Your Code\n",
    "filter_query={\"number_of_employees\":{\"$lt\":1000},\"founded_year\":{\"$lte\":2005}}\n",
    "project = {\"name\":1}\n",
    "res = db.companies.find(filter_query,project).sort([(\"number_of_employees\",-1)]).limit(10)\n",
    "print(list(res[:4]))"
   ]
  },
  {
   "cell_type": "markdown",
   "metadata": {},
   "source": [
    "### 6. All the companies that don't include the `partners` field."
   ]
  },
  {
   "cell_type": "code",
   "execution_count": 86,
   "metadata": {},
   "outputs": [
    {
     "name": "stdout",
     "output_type": "stream",
     "text": [
      "18801\n"
     ]
    },
    {
     "data": {
      "text/plain": [
       "[{'_id': ObjectId('52cdef7c4bab8bd675297d8f'), 'name': 'Omnidrive'},\n",
       " {'_id': ObjectId('52cdef7c4bab8bd675297d8b'), 'name': 'AdventNet'},\n",
       " {'_id': ObjectId('52cdef7c4bab8bd675297d92'), 'name': 'Flektor'},\n",
       " {'_id': ObjectId('52cdef7c4bab8bd675297d90'), 'name': 'Postini'}]"
      ]
     },
     "execution_count": 86,
     "metadata": {},
     "output_type": "execute_result"
    }
   ],
   "source": [
    "# Your Code +\n",
    "filter_query={\"partners\":{\"$exists\":\"false\"}}\n",
    "project = {\"name\":1}\n",
    "res = list(db.companies.find(filter_query,project))\n",
    "print(len(res))\n",
    "res[:4]"
   ]
  },
  {
   "cell_type": "markdown",
   "metadata": {},
   "source": [
    "### 7. All the companies that have a null type of value on the `category_code` field."
   ]
  },
  {
   "cell_type": "code",
   "execution_count": 85,
   "metadata": {},
   "outputs": [
    {
     "name": "stdout",
     "output_type": "stream",
     "text": [
      "2751\n"
     ]
    },
    {
     "data": {
      "text/plain": [
       "[{'_id': ObjectId('52cdef7c4bab8bd6752980f6'), 'name': 'Collective'},\n",
       " {'_id': ObjectId('52cdef7c4bab8bd675298225'), 'name': 'Snimmer'},\n",
       " {'_id': ObjectId('52cdef7c4bab8bd675298226'), 'name': 'KoolIM'},\n",
       " {'_id': ObjectId('52cdef7c4bab8bd675298261'), 'name': 'Level9 Media'}]"
      ]
     },
     "execution_count": 85,
     "metadata": {},
     "output_type": "execute_result"
    }
   ],
   "source": [
    "# Your Code\n",
    "filter_query={\"category_code\":{\"$type\":\"null\"}}\n",
    "project = {\"name\":1}\n",
    "res = list(db.companies.find(filter_query,project))\n",
    "print(len(res))\n",
    "res[:4]"
   ]
  },
  {
   "cell_type": "markdown",
   "metadata": {},
   "source": [
    "### 8. All the companies that have at least 100 employees but less than 1000. Retrieve only the `name` and `number of employees` fields."
   ]
  },
  {
   "cell_type": "code",
   "execution_count": 112,
   "metadata": {},
   "outputs": [
    {
     "name": "stdout",
     "output_type": "stream",
     "text": [
      "917\n"
     ]
    },
    {
     "data": {
      "text/plain": [
       "[{'_id': ObjectId('52cdef7c4bab8bd675297d8b'),\n",
       "  'name': 'AdventNet',\n",
       "  'number_of_employees': 600},\n",
       " {'_id': ObjectId('52cdef7c4bab8bd675297da7'),\n",
       "  'name': 'AddThis',\n",
       "  'number_of_employees': 120},\n",
       " {'_id': ObjectId('52cdef7c4bab8bd675297da8'),\n",
       "  'name': 'OpenX',\n",
       "  'number_of_employees': 305},\n",
       " {'_id': ObjectId('52cdef7c4bab8bd675297db5'),\n",
       "  'name': 'LifeLock',\n",
       "  'number_of_employees': 644}]"
      ]
     },
     "execution_count": 112,
     "metadata": {},
     "output_type": "execute_result"
    }
   ],
   "source": [
    "# Your Code\n",
    "filter_query={\"number_of_employees\":{\"$gte\":100,\"$lt\":1000}}\n",
    "project = {\"name\":1,\"number_of_employees\":1}\n",
    "res = list(db.companies.find(filter_query,project))\n",
    "print(len(res))\n",
    "res[:4]"
   ]
  },
  {
   "cell_type": "markdown",
   "metadata": {},
   "source": [
    "### 9. Order all the companies by their IPO price in a descending order."
   ]
  },
  {
   "cell_type": "code",
   "execution_count": 136,
   "metadata": {},
   "outputs": [
    {
     "data": {
      "text/plain": [
       "[{'_id': ObjectId('52cdef7c4bab8bd675297d8f'), 'name': 'Omnidrive'},\n",
       " {'_id': ObjectId('52cdef7c4bab8bd675297d8b'), 'name': 'AdventNet'},\n",
       " {'_id': ObjectId('52cdef7c4bab8bd675297d92'), 'name': 'Flektor'},\n",
       " {'_id': ObjectId('52cdef7c4bab8bd675297d90'), 'name': 'Postini'}]"
      ]
     },
     "execution_count": 136,
     "metadata": {},
     "output_type": "execute_result"
    }
   ],
   "source": [
    "# Your Code\n",
    "filter_query={}\n",
    "project = {\"name\":1}\n",
    "res = db.companies.find(filter_query,project).sort(\"ipo.valuation_amount:\",-1)\n",
    "list(res)[:4]"
   ]
  },
  {
   "cell_type": "markdown",
   "metadata": {},
   "source": [
    "### 10. Retrieve the 10 companies with more employees, order by the `number of employees`"
   ]
  },
  {
   "cell_type": "code",
   "execution_count": 135,
   "metadata": {},
   "outputs": [
    {
     "data": {
      "text/plain": [
       "[{'_id': ObjectId('52cdef7d4bab8bd67529941a'), 'name': 'Siemens'},\n",
       " {'_id': ObjectId('52cdef7c4bab8bd67529856a'), 'name': 'IBM'},\n",
       " {'_id': ObjectId('52cdef7d4bab8bd675299d33'), 'name': 'Toyota'},\n",
       " {'_id': ObjectId('52cdef7c4bab8bd675297e89'), 'name': 'PayPal'}]"
      ]
     },
     "execution_count": 135,
     "metadata": {},
     "output_type": "execute_result"
    }
   ],
   "source": [
    "# Your Code\n",
    "filter_query={}\n",
    "project = {\"name\":1}\n",
    "res = db.companies.find(filter_query,project).sort(\"number_of_employees\",-1).limit(10)\n",
    "list(res)[:4]"
   ]
  },
  {
   "cell_type": "markdown",
   "metadata": {},
   "source": [
    "### 11. All the companies founded on the second semester of the year. Limit your search to 1000 companies."
   ]
  },
  {
   "cell_type": "code",
   "execution_count": 117,
   "metadata": {},
   "outputs": [
    {
     "data": {
      "text/plain": [
       "[{'_id': ObjectId('52cdef7c4bab8bd675297d8f'), 'name': 'Omnidrive'},\n",
       " {'_id': ObjectId('52cdef7c4bab8bd675297d8c'), 'name': 'Zoho'},\n",
       " {'_id': ObjectId('52cdef7c4bab8bd675297d8a'), 'name': 'Wetpaint'},\n",
       " {'_id': ObjectId('52cdef7c4bab8bd675297d8d'), 'name': 'Digg'},\n",
       " {'_id': ObjectId('52cdef7c4bab8bd675297d9d'), 'name': 'Joost'}]"
      ]
     },
     "execution_count": 117,
     "metadata": {},
     "output_type": "execute_result"
    }
   ],
   "source": [
    "# Your Code\n",
    "filter_query={\"founded_month\":{\"$gt\":6}}\n",
    "project = {\"name\":1}\n",
    "res = list(db.companies.find(filter_query,project).limit(1000))\n",
    "res[:5]"
   ]
  },
  {
   "cell_type": "markdown",
   "metadata": {},
   "source": [
    "### 12. All the companies founded before 2000 that have an acquisition amount of more than 10.000.000"
   ]
  },
  {
   "cell_type": "code",
   "execution_count": 119,
   "metadata": {},
   "outputs": [
    {
     "name": "stdout",
     "output_type": "stream",
     "text": [
      "246\n",
      "[{'_id': ObjectId('52cdef7c4bab8bd675297d90'), 'name': 'Postini'}, {'_id': ObjectId('52cdef7c4bab8bd675297deb'), 'name': 'SideStep'}, {'_id': ObjectId('52cdef7c4bab8bd675297e2c'), 'name': 'Recipezaar'}, {'_id': ObjectId('52cdef7c4bab8bd675297e97'), 'name': 'Snapfish'}]\n"
     ]
    }
   ],
   "source": [
    "# Your Code\n",
    "filter_query={\"acquisition.price_amount\":{\"$gt\":10000000},\"founded_year\":{\"$lte\":2000}}\n",
    "project = {\"name\":1}\n",
    "res = list(db.companies.find(filter_query,project))\n",
    "print(len(res))\n",
    "print(res[:4])"
   ]
  },
  {
   "cell_type": "markdown",
   "metadata": {},
   "source": [
    "### 13. All the companies that have been acquired after 2010, order by the acquisition amount, and retrieve only their `name` and `acquisition` field."
   ]
  },
  {
   "cell_type": "code",
   "execution_count": 143,
   "metadata": {},
   "outputs": [
    {
     "data": {
      "text/plain": [
       "[{'_id': ObjectId('52cdef7c4bab8bd675298876'),\n",
       "  'name': 'T-Mobile',\n",
       "  'acquisition': {'price_amount': 39000000000,\n",
       "   'price_currency_code': 'USD',\n",
       "   'term_code': None,\n",
       "   'source_url': 'http://techcrunch.com/2011/03/20/in-the-race-for-more-spectrum-att-is-acquiring-t-mobile-for-39-billion/',\n",
       "   'source_description': 'In The Race For More Spectrum, AT&T Is Acquiring T-Mobile For $39 Billion',\n",
       "   'acquired_year': 2011,\n",
       "   'acquired_month': 3,\n",
       "   'acquired_day': 20,\n",
       "   'acquiring_company': {'name': 'AT&T', 'permalink': 'at-t'}}}]"
      ]
     },
     "execution_count": 143,
     "metadata": {},
     "output_type": "execute_result"
    }
   ],
   "source": [
    "# Your Code\n",
    "filter_query={\"acquisition.acquired_year\":{\"$gt\":2010}}\n",
    "project = {\"name\":1,\"acquisition\":1}\n",
    "res = db.companies.find(filter_query,project).sort(\"acquisition.price_amount\",-1)\n",
    "list(res)[:1]"
   ]
  },
  {
   "cell_type": "markdown",
   "metadata": {},
   "source": [
    "### 14. Order the companies by their `founded year`, retrieving only their `name` and `founded year`."
   ]
  },
  {
   "cell_type": "code",
   "execution_count": 139,
   "metadata": {},
   "outputs": [
    {
     "data": {
      "text/plain": [
       "[{'_id': ObjectId('52cdef7c4bab8bd675297d92'),\n",
       "  'name': 'Flektor',\n",
       "  'founded_year': None},\n",
       " {'_id': ObjectId('52cdef7c4bab8bd675297d99'),\n",
       "  'name': 'Lala',\n",
       "  'founded_year': None},\n",
       " {'_id': ObjectId('52cdef7c4bab8bd675297da6'),\n",
       "  'name': 'SpinVox',\n",
       "  'founded_year': None},\n",
       " {'_id': ObjectId('52cdef7c4bab8bd675297db0'),\n",
       "  'name': 'Info',\n",
       "  'founded_year': None}]"
      ]
     },
     "execution_count": 139,
     "metadata": {},
     "output_type": "execute_result"
    }
   ],
   "source": [
    "# Your Code\n",
    "filter_query={}\n",
    "project = {\"name\":1,\"founded_year\":1}\n",
    "res = db.companies.find(filter_query,project).sort(\"founded_year\",1)\n",
    "list(res)[:4]"
   ]
  },
  {
   "cell_type": "markdown",
   "metadata": {},
   "source": [
    "### 15. All the companies that have been founded on the first seven days of the month, including the seventh. Sort them by their `acquisition price` in a descending order. Limit the search to 10 documents."
   ]
  },
  {
   "cell_type": "code",
   "execution_count": 144,
   "metadata": {},
   "outputs": [
    {
     "data": {
      "text/plain": [
       "[{'_id': ObjectId('52cdef7d4bab8bd6752989a1'), 'name': 'Netscape'},\n",
       " {'_id': ObjectId('52cdef7c4bab8bd675297e89'), 'name': 'PayPal'},\n",
       " {'_id': ObjectId('52cdef7c4bab8bd675297efe'), 'name': 'Zappos'},\n",
       " {'_id': ObjectId('52cdef7c4bab8bd675297f0c'), 'name': 'Alibaba'},\n",
       " {'_id': ObjectId('52cdef7c4bab8bd675297d90'), 'name': 'Postini'}]"
      ]
     },
     "execution_count": 144,
     "metadata": {},
     "output_type": "execute_result"
    }
   ],
   "source": [
    "# Your Code\n",
    "filter_query={\"founded_day\":{\"$lte\":7}}\n",
    "project = {\"name\":1}\n",
    "res = db.companies.find(filter_query,project).sort(\"acquisition.price_amount\",-1).limit(10)\n",
    "list(res)[:5]"
   ]
  },
  {
   "cell_type": "markdown",
   "metadata": {},
   "source": [
    "### 16. All the companies on the 'web' `category` that have more than 4000 employees. Sort them by the amount of employees in ascending order."
   ]
  },
  {
   "cell_type": "code",
   "execution_count": 147,
   "metadata": {},
   "outputs": [
    {
     "data": {
      "text/plain": [
       "[{'_id': ObjectId('52cdef7c4bab8bd67529822a'), 'name': 'Expedia'},\n",
       " {'_id': ObjectId('52cdef7c4bab8bd675297e96'), 'name': 'AOL'},\n",
       " {'_id': ObjectId('52cdef7c4bab8bd675297ea4'), 'name': 'Webkinz'},\n",
       " {'_id': ObjectId('52cdef7c4bab8bd675297fcb'), 'name': 'Rakuten'}]"
      ]
     },
     "execution_count": 147,
     "metadata": {},
     "output_type": "execute_result"
    }
   ],
   "source": [
    "# Your Code\n",
    "filter_query={\"number_of_employees\":{\"$gt\":4000},\"category_code\":\"web\"}\n",
    "project = {\"name\":1}\n",
    "res = db.companies.find(filter_query,project).sort(\"number_of_employees\",1)\n",
    "list(res)[:4]"
   ]
  },
  {
   "cell_type": "markdown",
   "metadata": {},
   "source": [
    "### 17. All the companies whose acquisition amount is more than 10.000.000, and currency is 'EUR'."
   ]
  },
  {
   "cell_type": "code",
   "execution_count": 148,
   "metadata": {},
   "outputs": [
    {
     "name": "stdout",
     "output_type": "stream",
     "text": [
      "7\n",
      "[{'_id': ObjectId('52cdef7c4bab8bd675297f02'), 'name': 'ZYB'}, {'_id': ObjectId('52cdef7d4bab8bd675298bf3'), 'name': 'Apertio'}, {'_id': ObjectId('52cdef7d4bab8bd675298f47'), 'name': 'Greenfield Online'}, {'_id': ObjectId('52cdef7e4bab8bd67529a536'), 'name': 'Webedia'}]\n"
     ]
    }
   ],
   "source": [
    "# Your Code\n",
    "filter_query={\"acquisition.price_amount\":{\"$gt\":10000000},\"acquisition.price_currency_code\":\"EUR\"}\n",
    "project = {\"name\":1}\n",
    "res = list(db.companies.find(filter_query,project))\n",
    "print(len(res))\n",
    "print(res[:4])\n"
   ]
  },
  {
   "cell_type": "markdown",
   "metadata": {},
   "source": [
    "### 18. All the companies that have been acquired on the first trimester of the year. Limit the search to 10 companies, and retrieve only their `name` and `acquisition` fields."
   ]
  },
  {
   "cell_type": "code",
   "execution_count": 149,
   "metadata": {},
   "outputs": [
    {
     "data": {
      "text/plain": [
       "[{'_id': ObjectId('52cdef7c4bab8bd675297db4'),\n",
       "  'name': 'NetRatings',\n",
       "  'acquisition': {'price_amount': 327000000,\n",
       "   'price_currency_code': 'USD',\n",
       "   'term_code': 'cash',\n",
       "   'source_url': 'http://login.vnuemedia.com/hr/login/login_subscribe.jsp?id=0oqDem1gYIfIclz9i2%2Ffqj5NxCp2AC5DPbVnyT2da8GyV2mXjasabE128n69OrmcAh52%2FGE3pSG%2F%0AEKRYD9vh9EhrJrxukmUzh532fSMTZXL42gwPB80UWVtF1NwJ5UZSM%2BCkLU1mpYBoHFgiH%2Fi0f6Ax%0A9yMIVxt47t%2BHamhEQ0nkOEK24L',\n",
       "   'source_description': 'Nielsen buys rest of NetRatings',\n",
       "   'acquired_year': 2007,\n",
       "   'acquired_month': 2,\n",
       "   'acquired_day': None,\n",
       "   'acquiring_company': {'name': 'Nielsen', 'permalink': 'nielsen'}}}]"
      ]
     },
     "execution_count": 149,
     "metadata": {},
     "output_type": "execute_result"
    }
   ],
   "source": [
    "# Your Code\n",
    "filter_query={\"acquisition.acquired_month\":{\"$lte\":3}}\n",
    "project = {\"name\":1,\"acquisition\":1}\n",
    "res = db.companies.find(filter_query,project).limit(10)\n",
    "list(res)[:1]"
   ]
  },
  {
   "cell_type": "markdown",
   "metadata": {},
   "source": [
    "# Bonus\n",
    "### 19. All the companies that have been founded between 2000 and 2010, but have not been acquired before 2011."
   ]
  },
  {
   "cell_type": "code",
   "execution_count": null,
   "metadata": {},
   "outputs": [],
   "source": [
    "# Your Code"
   ]
  },
  {
   "cell_type": "markdown",
   "metadata": {},
   "source": [
    "### 20. All the companies that have been 'deadpooled' after the third year."
   ]
  },
  {
   "cell_type": "code",
   "execution_count": null,
   "metadata": {},
   "outputs": [],
   "source": [
    "# Your Code"
   ]
  }
 ],
 "metadata": {
  "kernelspec": {
   "display_name": "Python 3",
   "language": "python",
   "name": "python3"
  },
  "language_info": {
   "codemirror_mode": {
    "name": "ipython",
    "version": 3
   },
   "file_extension": ".py",
   "mimetype": "text/x-python",
   "name": "python",
   "nbconvert_exporter": "python",
   "pygments_lexer": "ipython3",
   "version": "3.8.6"
  }
 },
 "nbformat": 4,
 "nbformat_minor": 2
}
