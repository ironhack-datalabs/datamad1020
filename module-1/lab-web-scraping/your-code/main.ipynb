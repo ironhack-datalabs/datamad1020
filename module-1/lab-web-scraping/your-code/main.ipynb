{
 "cells": [
  {
   "cell_type": "markdown",
   "metadata": {},
   "source": [
    "# Web Scraping Lab\n",
    "\n",
    "You will find in this notebook some web scraping exercises to practice your scraping skills using `requests` and `Beautiful Soup`.\n",
    "\n",
    "**Tips:**\n",
    "\n",
    "- Check the [response status code](https://http.cat/) for each request to ensure you have obtained the intended content.\n",
    "- Look at the HTML code in each request to understand the kind of info you are getting and its format.\n",
    "- Check for patterns in the response text to extract the data/info requested in each question.\n",
    "- Visit each url and take a look at its source through Chrome DevTools. You'll need to identify the html tags, special class names etc. used for the html content you are expected to extract.\n",
    "- Check out the css selectors."
   ]
  },
  {
   "cell_type": "markdown",
   "metadata": {},
   "source": [
    "### Useful Resources\n",
    "- [Requests library](http://docs.python-requests.org/en/master/#the-user-guide) documentation \n",
    "- [Beautiful Soup Doc](https://www.crummy.com/software/BeautifulSoup/bs4/doc/)\n",
    "- [List of HTTP status codes](https://en.wikipedia.org/wiki/List_of_HTTP_status_codes)\n",
    "- [HTML basics](http://www.simplehtmlguide.com/cheatsheet.php)\n",
    "- [CSS basics](https://www.cssbasics.com/#page_start)"
   ]
  },
  {
   "cell_type": "markdown",
   "metadata": {},
   "source": [
    "#### First of all, gathering our tools."
   ]
  },
  {
   "cell_type": "code",
   "execution_count": 2,
   "metadata": {},
   "outputs": [],
   "source": [
    "import requests\n",
    "from bs4 import BeautifulSoup\n",
    "import pandas as pd\n",
    "import json\n",
    "import re"
   ]
  },
  {
   "cell_type": "markdown",
   "metadata": {},
   "source": [
    "#### Download, parse (using BeautifulSoup), and print the content from the Trending Developers page from GitHub:"
   ]
  },
  {
   "cell_type": "code",
   "execution_count": 3,
   "metadata": {},
   "outputs": [],
   "source": [
    "# This is the url you will scrape in this exercise\n",
    "url = 'https://github.com/trending/developers'"
   ]
  },
  {
   "cell_type": "code",
   "execution_count": 4,
   "metadata": {},
   "outputs": [],
   "source": [
    "data = requests.get ('https://github.com/trending/developers')"
   ]
  },
  {
   "cell_type": "code",
   "execution_count": 5,
   "metadata": {},
   "outputs": [
    {
     "data": {
      "text/plain": [
       "<Response [200]>"
      ]
     },
     "execution_count": 5,
     "metadata": {},
     "output_type": "execute_result"
    }
   ],
   "source": [
    "data"
   ]
  },
  {
   "cell_type": "code",
   "execution_count": 6,
   "metadata": {},
   "outputs": [
    {
     "data": {
      "text/plain": [
       "5"
      ]
     },
     "execution_count": 6,
     "metadata": {},
     "output_type": "execute_result"
    }
   ],
   "source": [
    "soup = BeautifulSoup(data.text)\n",
    "len(soup)"
   ]
  },
  {
   "cell_type": "code",
   "execution_count": 7,
   "metadata": {},
   "outputs": [
    {
     "name": "stdout",
     "output_type": "stream",
     "text": [
      "\n",
      "<!DOCTYPE html>\n",
      "\n",
      "<html lang=\"en\">\n",
      "<head>\n",
      "<meta charset=\"utf-8\"/>\n",
      "<link href=\"https://github.githubassets.com\" rel=\"dns-prefetch\"/>\n",
      "<link href=\"https://avatars0.githubusercontent.com\" rel=\"dns-prefetch\"/>\n",
      "<link href=\"https://avatars1.githubusercontent.com\" rel=\"dns-prefetch\"/>\n",
      "<link href=\"https://avatars2.githubusercontent.com\" rel=\"dns-prefetch\"/>\n",
      "<link href=\"https://avatars3.githubusercontent.com\" rel=\"dns-prefetch\"/>\n",
      "<link href=\"https://github-cloud.s3.amazonaws.com\" rel=\"dns-prefetch\"/>\n",
      "<lin\n"
     ]
    }
   ],
   "source": [
    "print(str(soup)[:500])"
   ]
  },
  {
   "cell_type": "code",
   "execution_count": 8,
   "metadata": {},
   "outputs": [],
   "source": [
    "#print(soup)"
   ]
  },
  {
   "cell_type": "markdown",
   "metadata": {},
   "source": [
    "\"div class=\"mx-3\"\n",
    "\n",
    "    \n",
    "    \"h3 lh-condensed\""
   ]
  },
  {
   "cell_type": "code",
   "execution_count": 9,
   "metadata": {},
   "outputs": [
    {
     "name": "stdout",
     "output_type": "stream",
     "text": [
      "<h1 class=\"h3 lh-condensed\">\n",
      "<a data-hydro-click='{\"event_type\":\"explore.click\",\"payload\":{\"click_context\":\"TRENDING_DEVELOPERS_PAGE\",\"click_target\":\"OWNER\",\"click_visual_representation\":\"TRENDING_DEVELOPER\",\"actor_id\":null,\"record_id\":1285584,\"originating_url\":\"https://github.com/trending/developers\",\"user_id\":null}}' data-hydro-click-hmac=\"70dd8389338a7f9af4fa4d6000b03541cfa4a8ee4959db150b3e3074a7dc9990\" href=\"/laurent22\">\n",
      "            Laurent\n",
      "</a> </h1>\n"
     ]
    }
   ],
   "source": [
    "selector=soup.select('.h3.lh-condensed')\n",
    "print(selector[0])"
   ]
  },
  {
   "cell_type": "code",
   "execution_count": 10,
   "metadata": {},
   "outputs": [
    {
     "name": "stdout",
     "output_type": "stream",
     "text": [
      "['Laurent', 'Danny Ryan', 'Arda Tanrıkulu', 'Dotan Simha', 'Felix Angelov', 'Alisdair McDiarmid', 'Gleb Bahmutov', 'Anton Babenko', 'Florian Roth', 'Tanner Linsley', 'Nicolás Bevacqua', 'Frost Ming', 'Felix Lange', 'Kevin Papst', 'Tobias Klauser', 'Mathias Bynens', 'Fons van der Plas', 'Miek Gieben', 'Romain Rigaux', 'Brad Fitzpatrick', 'Michael Shilman', 'Liam DeBeasi', 'Jean Mertz', 'Ingo Bürk', 'Tobias Reich']\n"
     ]
    }
   ],
   "source": [
    "names = [i.text.strip() for i in selector]\n",
    "print(names)"
   ]
  },
  {
   "cell_type": "markdown",
   "metadata": {},
   "source": [
    "#### Display the names of the trending developers retrieved in the previous step.\n",
    "\n",
    "Your output should be a Python list of developer names. Each name should not contain any html tag.\n",
    "\n",
    "**Instructions:**\n",
    "\n",
    "1. Find out the html tag and class names used for the developer names. You can achieve this using Chrome DevTools.\n",
    "\n",
    "1. Use BeautifulSoup to extract all the html elements that contain the developer names.\n",
    "\n",
    "1. Use string manipulation techniques to replace whitespaces and linebreaks (i.e. `\\n`) in the *text* of each html element. Use a list to store the clean names.\n",
    "\n",
    "1. Print the list of names.\n",
    "\n",
    "Your output should look like below (with different names):\n",
    "\n",
    "```\n",
    "['trimstray (@trimstray)',\n",
    " 'joewalnes (JoeWalnes)',\n",
    " 'charlax (Charles-AxelDein)',\n",
    " 'ForrestKnight (ForrestKnight)',\n",
    " 'revery-ui (revery-ui)',\n",
    " 'alibaba (Alibaba)',\n",
    " 'Microsoft (Microsoft)',\n",
    " 'github (GitHub)',\n",
    " 'facebook (Facebook)',\n",
    " 'boazsegev (Bo)',\n",
    " 'google (Google)',\n",
    " 'cloudfetch',\n",
    " 'sindresorhus (SindreSorhus)',\n",
    " 'tensorflow',\n",
    " 'apache (TheApacheSoftwareFoundation)',\n",
    " 'DevonCrawford (DevonCrawford)',\n",
    " 'ARMmbed (ArmMbed)',\n",
    " 'vuejs (vuejs)',\n",
    " 'fastai (fast.ai)',\n",
    " 'QiShaoXuan (Qi)',\n",
    " 'joelparkerhenderson (JoelParkerHenderson)',\n",
    " 'torvalds (LinusTorvalds)',\n",
    " 'CyC2018',\n",
    " 'komeiji-satori (神楽坂覚々)',\n",
    " 'script-8']\n",
    " ```"
   ]
  },
  {
   "cell_type": "code",
   "execution_count": 11,
   "metadata": {
    "scrolled": true
   },
   "outputs": [
    {
     "data": {
      "text/plain": [
       "bs4.element.Tag"
      ]
     },
     "execution_count": 11,
     "metadata": {},
     "output_type": "execute_result"
    }
   ],
   "source": [
    "type(selector[0])"
   ]
  },
  {
   "cell_type": "code",
   "execution_count": 12,
   "metadata": {},
   "outputs": [
    {
     "name": "stdout",
     "output_type": "stream",
     "text": [
      "['(laurent22)', '(djrtwo)', '(ardatan)', '(dotansimha)', '(felangel)', '(alisdair)', '(bahmutov)', '(antonbabenko)', '(Neo23x0)', '(tannerlinsley)', '(bevacqua)', '(frostming)', '(fjl)', '(kevinpapst)', '(tklauser)', '(mathiasbynens)', '(fonsp)', '(miekg)', '(romainr)', '(bradfitz)', '(shilman)', '(liamdebeasi)', '(JeanMertz)', '(Airblader)', '(electerious)']\n"
     ]
    }
   ],
   "source": [
    "alias =[\"(\"+i.findChild(\"a\")[\"href\"].replace(\"/\",\"\")+\")\" for i in selector]\n",
    "print(alias)"
   ]
  },
  {
   "cell_type": "code",
   "execution_count": 13,
   "metadata": {},
   "outputs": [
    {
     "name": "stdout",
     "output_type": "stream",
     "text": [
      "['Laurent (laurent22)', 'Danny Ryan (djrtwo)', 'Arda Tanrıkulu (ardatan)', 'Dotan Simha (dotansimha)', 'Felix Angelov (felangel)', 'Alisdair McDiarmid (alisdair)', 'Gleb Bahmutov (bahmutov)', 'Anton Babenko (antonbabenko)', 'Florian Roth (Neo23x0)', 'Tanner Linsley (tannerlinsley)', 'Nicolás Bevacqua (bevacqua)', 'Frost Ming (frostming)', 'Felix Lange (fjl)', 'Kevin Papst (kevinpapst)', 'Tobias Klauser (tklauser)', 'Mathias Bynens (mathiasbynens)', 'Fons van der Plas (fonsp)', 'Miek Gieben (miekg)', 'Romain Rigaux (romainr)', 'Brad Fitzpatrick (bradfitz)', 'Michael Shilman (shilman)', 'Liam DeBeasi (liamdebeasi)', 'Jean Mertz (JeanMertz)', 'Ingo Bürk (Airblader)', 'Tobias Reich (electerious)']\n"
     ]
    }
   ],
   "source": [
    "result = list(zip(names,alias))\n",
    "result = [\" \".join(i) for i in result]\n",
    "print(result)\n"
   ]
  },
  {
   "cell_type": "markdown",
   "metadata": {},
   "source": [
    "#### Display the trending Python repositories in GitHub\n",
    "\n",
    "The steps to solve this problem is similar to the previous one except that you need to find out the repository names instead of developer names."
   ]
  },
  {
   "cell_type": "code",
   "execution_count": 14,
   "metadata": {},
   "outputs": [],
   "source": [
    "# This is the url you will scrape in this exercise\n",
    "url = 'https://github.com/trending/python?since=daily'"
   ]
  },
  {
   "cell_type": "code",
   "execution_count": 15,
   "metadata": {},
   "outputs": [],
   "source": [
    "data = requests.get ('https://github.com/trending/python?since=daily')"
   ]
  },
  {
   "cell_type": "code",
   "execution_count": 16,
   "metadata": {},
   "outputs": [],
   "source": [
    "soup = BeautifulSoup(data.text)"
   ]
  },
  {
   "cell_type": "code",
   "execution_count": 17,
   "metadata": {},
   "outputs": [
    {
     "name": "stdout",
     "output_type": "stream",
     "text": [
      "\n",
      "\n",
      "\n",
      "\n",
      "        l1ving /\n",
      "\n",
      "      youtube-dl\n",
      " \n"
     ]
    }
   ],
   "source": [
    "selector=soup.select('.h3.lh-condensed')\n",
    "print(selector[0].text)"
   ]
  },
  {
   "cell_type": "code",
   "execution_count": 19,
   "metadata": {},
   "outputs": [
    {
     "name": "stdout",
     "output_type": "stream",
     "text": [
      "['l1ving /\\n\\n      youtube-dl', 'MobSF /\\n\\n      Mobile-Security-Framework-MobSF', 'mxrch /\\n\\n      GHunt', 'gto76 /\\n\\n      python-cheatsheet', 'jofpin /\\n\\n      trape', 'apache /\\n\\n      incubator-superset', 'swisskyrepo /\\n\\n      PayloadsAllTheThings', 'OWASP /\\n\\n      CheatSheetSeries', 'facebookresearch /\\n\\n      pifuhd', 'jerry-git /\\n\\n      learn-python3', 'ethereum /\\n\\n      eth2.0-deposit-cli', 'facebookresearch /\\n\\n      wav2letter', 'ethereum /\\n\\n      eth2.0-specs', 'PaddlePaddle /\\n\\n      PaddleX', 'teja156 /\\n\\n      microsoft-teams-class-attender', 'ssut /\\n\\n      py-googletrans', 'pytorch /\\n\\n      fairseq', 'facebookresearch /\\n\\n      pytorch3d', 'floodsung /\\n\\n      Deep-Learning-Papers-Reading-Roadmap', 'dask /\\n\\n      dask', 'deepset-ai /\\n\\n      haystack', 'aws-samples /\\n\\n      aws-cdk-examples', 'openatx /\\n\\n      uiautomator2', 'moranzcw /\\n\\n      Computer-Networking-A-Top-Down-Approach-NOTES', 'aiogram /\\n\\n      aiogram']\n"
     ]
    }
   ],
   "source": [
    "user_repository = [i.text.strip() for i in selector]\n",
    "print(user_repository)"
   ]
  },
  {
   "cell_type": "code",
   "execution_count": 20,
   "metadata": {},
   "outputs": [
    {
     "name": "stdout",
     "output_type": "stream",
     "text": [
      "['youtube-dl', 'Mobile-Security-Framework-MobSF', 'GHunt', 'python-cheatsheet', 'trape', 'incubator-superset', 'PayloadsAllTheThings', 'CheatSheetSeries', 'pifuhd', 'learn-python3', 'eth2.0-deposit-cli', 'wav2letter', 'eth2.0-specs', 'PaddleX', 'microsoft-teams-class-attender', 'py-googletrans', 'fairseq', 'pytorch3d', 'Deep-Learning-Papers-Reading-Roadmap', 'dask', 'haystack', 'aws-cdk-examples', 'uiautomator2', 'Computer-Networking-A-Top-Down-Approach-NOTES', 'aiogram']\n"
     ]
    }
   ],
   "source": [
    "repositories=[i.split()[2] for i in user_repository]\n",
    "print(repositories)"
   ]
  },
  {
   "cell_type": "markdown",
   "metadata": {},
   "source": [
    "#### Display all the image links from Walt Disney wikipedia page"
   ]
  },
  {
   "cell_type": "code",
   "execution_count": 21,
   "metadata": {},
   "outputs": [],
   "source": [
    "# This is the url you will scrape in this exercise\n",
    "url = 'https://en.wikipedia.org/wiki/Walt_Disney'"
   ]
  },
  {
   "cell_type": "code",
   "execution_count": 22,
   "metadata": {},
   "outputs": [],
   "source": [
    "data = requests.get ('https://en.wikipedia.org/wiki/Walt_Disney')\n",
    "soup = BeautifulSoup(data.text)"
   ]
  },
  {
   "cell_type": "code",
   "execution_count": 23,
   "metadata": {},
   "outputs": [
    {
     "data": {
      "text/plain": [
       "<a class=\"image\" href=\"/wiki/File:Walt_Disney_1946.JPG\"><img alt=\"Walt Disney 1946.JPG\" data-file-height=\"675\" data-file-width=\"450\" decoding=\"async\" height=\"330\" src=\"//upload.wikimedia.org/wikipedia/commons/thumb/d/df/Walt_Disney_1946.JPG/220px-Walt_Disney_1946.JPG\" srcset=\"//upload.wikimedia.org/wikipedia/commons/thumb/d/df/Walt_Disney_1946.JPG/330px-Walt_Disney_1946.JPG 1.5x, //upload.wikimedia.org/wikipedia/commons/thumb/d/df/Walt_Disney_1946.JPG/440px-Walt_Disney_1946.JPG 2x\" width=\"220\"/></a>"
      ]
     },
     "execution_count": 23,
     "metadata": {},
     "output_type": "execute_result"
    }
   ],
   "source": [
    "selector=soup.select('.image')\n",
    "len(selector)\n",
    "selector[0]\n"
   ]
  },
  {
   "cell_type": "code",
   "execution_count": 24,
   "metadata": {},
   "outputs": [],
   "source": [
    "image_links=[i.find('img')['srcset'].split()[0][2:] for i in selector]"
   ]
  },
  {
   "cell_type": "code",
   "execution_count": 25,
   "metadata": {},
   "outputs": [
    {
     "name": "stdout",
     "output_type": "stream",
     "text": [
      "['upload.wikimedia.org/wikipedia/commons/thumb/d/df/Walt_Disney_1946.JPG/330px-Walt_Disney_1946.JPG', 'upload.wikimedia.org/wikipedia/commons/thumb/8/87/Walt_Disney_1942_signature.svg/225px-Walt_Disney_1942_signature.svg.png', 'upload.wikimedia.org/wikipedia/commons/thumb/c/c4/Walt_Disney_envelope_ca._1921.jpg/330px-Walt_Disney_envelope_ca._1921.jpg', 'upload.wikimedia.org/wikipedia/commons/thumb/0/0d/Trolley_Troubles_poster.jpg/255px-Trolley_Troubles_poster.jpg', 'upload.wikimedia.org/wikipedia/commons/thumb/7/71/Walt_Disney_and_his_cartoon_creation_%22Mickey_Mouse%22_-_National_Board_of_Review_Magazine.jpg/255px-Walt_Disney_and_his_cartoon_creation_%22Mickey_Mouse%22_-_National_Board_of_Review_Magazine.jpg']\n"
     ]
    }
   ],
   "source": [
    "print(image_links[:5])"
   ]
  },
  {
   "cell_type": "markdown",
   "metadata": {},
   "source": [
    "#### Retrieve all links to pages on Wikipedia that refer to some kind of Python."
   ]
  },
  {
   "cell_type": "code",
   "execution_count": 26,
   "metadata": {},
   "outputs": [],
   "source": [
    "# This is the url you will scrape in this exercise\n",
    "url ='https://en.wikipedia.org/wiki/Python' "
   ]
  },
  {
   "cell_type": "code",
   "execution_count": 27,
   "metadata": {},
   "outputs": [],
   "source": [
    "data = requests.get ('https://en.wikipedia.org/wiki/Python')\n",
    "soup = BeautifulSoup(data.text)"
   ]
  },
  {
   "cell_type": "code",
   "execution_count": 28,
   "metadata": {},
   "outputs": [
    {
     "data": {
      "text/plain": [
       "<a class=\"extiw\" href=\"https://en.wiktionary.org/wiki/Python\" title=\"wiktionary:Python\">Python</a>"
      ]
     },
     "execution_count": 28,
     "metadata": {},
     "output_type": "execute_result"
    }
   ],
   "source": [
    "selector=soup.select('a[href*=\"Python\"]')\n",
    "selector[0]"
   ]
  },
  {
   "cell_type": "code",
   "execution_count": 29,
   "metadata": {},
   "outputs": [],
   "source": [
    "python_links=[i.attrs[\"href\"] for i in selector]"
   ]
  },
  {
   "cell_type": "code",
   "execution_count": 30,
   "metadata": {},
   "outputs": [
    {
     "name": "stdout",
     "output_type": "stream",
     "text": [
      "['https://en.wiktionary.org/wiki/Python', '/wiki/Pythons', '/wiki/Python_(genus)', '/w/index.php?title=Python&action=edit&section=1', '/wiki/Python_(programming_language)', '/w/index.php?title=Python&action=edit&section=2', '/wiki/Python_of_Aenus', '/wiki/Python_(painter)', '/wiki/Python_of_Byzantium', '/wiki/Python_of_Catana', '/wiki/Python_Anghelo', '/w/index.php?title=Python&action=edit&section=3', '/wiki/Python_(Efteling)', '/wiki/Python_(Busch_Gardens_Tampa_Bay)', '/wiki/Python_(Coney_Island,_Cincinnati,_Ohio)', '/w/index.php?title=Python&action=edit&section=4', '/wiki/Python_(automobile_maker)', '/wiki/Python_(Ford_prototype)', '/w/index.php?title=Python&action=edit&section=5', '/wiki/Python_(missile)']\n"
     ]
    }
   ],
   "source": [
    "print(python_links[:20])"
   ]
  },
  {
   "cell_type": "markdown",
   "metadata": {},
   "source": [
    "#### Number of Titles that have changed in the United States Code since its last release point "
   ]
  },
  {
   "cell_type": "code",
   "execution_count": 31,
   "metadata": {},
   "outputs": [],
   "source": [
    "# This is the url you will scrape in this exercise\n",
    "url = 'http://uscode.house.gov/download/download.shtml'"
   ]
  },
  {
   "cell_type": "code",
   "execution_count": 32,
   "metadata": {},
   "outputs": [],
   "source": [
    "data = requests.get ('http://uscode.house.gov/download/download.shtml')\n",
    "soup = BeautifulSoup(data.text)"
   ]
  },
  {
   "cell_type": "code",
   "execution_count": 33,
   "metadata": {},
   "outputs": [
    {
     "data": {
      "text/plain": [
       "11"
      ]
     },
     "execution_count": 33,
     "metadata": {},
     "output_type": "execute_result"
    }
   ],
   "source": [
    "selector=soup.select('.usctitlechanged')\n",
    "len(selector)"
   ]
  },
  {
   "cell_type": "markdown",
   "metadata": {},
   "source": [
    "#### A Python list with the top ten FBI's Most Wanted names "
   ]
  },
  {
   "cell_type": "code",
   "execution_count": 34,
   "metadata": {},
   "outputs": [],
   "source": [
    "# This is the url you will scrape in this exercise\n",
    "url = 'https://www.fbi.gov/wanted/topten'"
   ]
  },
  {
   "cell_type": "code",
   "execution_count": 35,
   "metadata": {},
   "outputs": [],
   "source": [
    "data = requests.get ('https://www.fbi.gov/wanted/topten')\n",
    "soup = BeautifulSoup(data.text)"
   ]
  },
  {
   "cell_type": "code",
   "execution_count": 36,
   "metadata": {},
   "outputs": [
    {
     "name": "stdout",
     "output_type": "stream",
     "text": [
      "['ARNOLDO JIMENEZ', 'JASON DEREK BROWN', 'ALEXIS FLORES', 'JOSE RODOLFO VILLARREAL-HERNANDEZ', 'EUGENE PALMER', 'RAFAEL CARO-QUINTERO', 'ROBERT WILLIAM FISHER', 'BHADRESHKUMAR CHETANBHAI PATEL', 'ALEJANDRO ROSALES CASTILLO', 'YASER ABDEL SAID']\n"
     ]
    }
   ],
   "source": [
    "selector=soup.select('.title')\n",
    "\n",
    "top_wanted=[i.text.strip() for i in selector][1:11]\n",
    "print(top_wanted)"
   ]
  },
  {
   "cell_type": "markdown",
   "metadata": {},
   "source": [
    "#### List all language names and number of related articles in the order they appear in wikipedia.org"
   ]
  },
  {
   "cell_type": "code",
   "execution_count": 37,
   "metadata": {},
   "outputs": [],
   "source": [
    "# This is the url you will scrape in this exercise\n",
    "url = 'https://www.wikipedia.org/'"
   ]
  },
  {
   "cell_type": "code",
   "execution_count": 38,
   "metadata": {},
   "outputs": [],
   "source": [
    "data = requests.get ('https://www.wikipedia.org/')\n",
    "soup = BeautifulSoup(data.text)"
   ]
  },
  {
   "cell_type": "code",
   "execution_count": 39,
   "metadata": {},
   "outputs": [
    {
     "data": {
      "text/plain": [
       "['English', '6', '183', '000+', 'articles']"
      ]
     },
     "execution_count": 39,
     "metadata": {},
     "output_type": "execute_result"
    }
   ],
   "source": [
    "selector=soup.select('div')[2:12]\n",
    "selector[0]\n",
    "\n",
    "\n",
    "selector[0].text.split()\n",
    "    "
   ]
  },
  {
   "cell_type": "code",
   "execution_count": 40,
   "metadata": {},
   "outputs": [
    {
     "data": {
      "text/plain": [
       "{'English': ['6183000+'],\n",
       " 'EspaÃ±ol': ['1637000+'],\n",
       " 'æ\\x97¥æ\\x9c¬èª\\x9e': ['1235000+'],\n",
       " 'Deutsch': ['2495000+'],\n",
       " 'Ð': ['Ñ\\x83Ñ\\x81Ñ\\x81ÐºÐ¸Ð¹1672'],\n",
       " 'FranÃ§ais': ['2262000+'],\n",
       " 'Italiano': ['1645000+'],\n",
       " 'ä¸\\xadæ\\x96\\x87': ['1155000+'],\n",
       " 'PortuguÃªs': ['1045000+'],\n",
       " 'Polski': ['1435000+']}"
      ]
     },
     "execution_count": 40,
     "metadata": {},
     "output_type": "execute_result"
    }
   ],
   "source": [
    "languages_mix = [i.text.split() for i in selector]\n",
    "languages={}\n",
    "for i in languages_mix:\n",
    "    languages[i[0]]=[i[1]+i[2]+i[3]]\n",
    "\n",
    "languages"
   ]
  },
  {
   "cell_type": "markdown",
   "metadata": {},
   "source": [
    "#### A list with the different kind of datasets available in data.gov.uk "
   ]
  },
  {
   "cell_type": "code",
   "execution_count": 41,
   "metadata": {},
   "outputs": [],
   "source": [
    "# This is the url you will scrape in this exercise\n",
    "url = 'https://data.gov.uk/'"
   ]
  },
  {
   "cell_type": "code",
   "execution_count": 42,
   "metadata": {},
   "outputs": [],
   "source": [
    "data = requests.get ('https://data.gov.uk/')\n",
    "soup = BeautifulSoup(data.text)"
   ]
  },
  {
   "cell_type": "code",
   "execution_count": 43,
   "metadata": {},
   "outputs": [
    {
     "name": "stdout",
     "output_type": "stream",
     "text": [
      "['Business and economy', 'Crime and justice', 'Defence', 'Education', 'Environment', 'Government', 'Government spending', 'Health', 'Mapping', 'Society', 'Towns and cities', 'Transport']\n"
     ]
    }
   ],
   "source": [
    "selector=soup.select('.govuk-link')\n",
    "datasets=[i.text for i in selector][3:]\n",
    "print(datasets)"
   ]
  },
  {
   "cell_type": "markdown",
   "metadata": {},
   "source": [
    "#### Top 10 languages by number of native speakers stored in a Pandas Dataframe"
   ]
  },
  {
   "cell_type": "code",
   "execution_count": 44,
   "metadata": {},
   "outputs": [],
   "source": [
    "# This is the url you will scrape in this exercise\n",
    "url = 'https://en.wikipedia.org/wiki/List_of_languages_by_number_of_native_speakers'"
   ]
  },
  {
   "cell_type": "code",
   "execution_count": 45,
   "metadata": {},
   "outputs": [],
   "source": [
    "data = requests.get ('https://en.wikipedia.org/wiki/List_of_languages_by_number_of_native_speakers')\n",
    "soup = BeautifulSoup(data.text)"
   ]
  },
  {
   "cell_type": "code",
   "execution_count": 46,
   "metadata": {},
   "outputs": [
    {
     "name": "stdout",
     "output_type": "stream",
     "text": [
      "['1', 'Mandarin Chinese', '918', '11.922', 'Sino-Tibetan', 'Sinitic', '2', 'Spanish', '480', '5.994', 'Indo-European', 'Romance', '3', 'English', '379', '4.922', 'Indo-European', 'Germanic', '4', 'Hindi (Sanskritised Hindustani)[9]', '341', '4.429', 'Indo-European', 'Indo-Aryan', '5', 'Bengali', '228', '2.961', 'Indo-European', 'Indo-Aryan', '6', 'Portuguese', '221', '2.870', 'Indo-European', 'Romance', '7', 'Russian', '154', '2.000', 'Indo-European', 'Balto-Slavic', '8', 'Japanese', '128', '1.662', 'Japonic', 'Japanese', '9', 'Western Punjabi[10]', '92.7', '1.204', 'Indo-European', 'Indo-Aryan', '10', 'Marathi', '83.1', '1.079', 'Indo-European', 'Indo-Aryan']\n"
     ]
    }
   ],
   "source": [
    "selector=soup.select(\".wikitable\")\n",
    "\n",
    "top_10_languages = list(filter(None, selector[0].text.split(\"\\n\")))[7:67]\n",
    "print(top_10_languages)"
   ]
  },
  {
   "cell_type": "markdown",
   "metadata": {},
   "source": [
    "### Stepping up the game"
   ]
  },
  {
   "cell_type": "markdown",
   "metadata": {},
   "source": [
    "####  20 latest earthquakes info (date, time, latitude, longitude and region name) by the EMSC as a pandas dataframe"
   ]
  },
  {
   "cell_type": "code",
   "execution_count": 47,
   "metadata": {},
   "outputs": [],
   "source": [
    "# This is the url you will scrape in this exercise\n",
    "url = 'https://www.emsc-csem.org/Earthquake/'"
   ]
  },
  {
   "cell_type": "code",
   "execution_count": 48,
   "metadata": {},
   "outputs": [],
   "source": [
    "data = requests.get ('https://www.emsc-csem.org/Earthquake/')\n",
    "soup = BeautifulSoup(data.text)"
   ]
  },
  {
   "cell_type": "code",
   "execution_count": null,
   "metadata": {},
   "outputs": [],
   "source": []
  },
  {
   "cell_type": "markdown",
   "metadata": {},
   "source": [
    "#### IMDB's Top 250 data (movie name, Initial release, director name and stars) as a pandas dataframe"
   ]
  },
  {
   "cell_type": "code",
   "execution_count": 49,
   "metadata": {},
   "outputs": [],
   "source": [
    "# This is the url you will scrape in this exercise \n",
    "url = 'https://www.imdb.com/chart/top'"
   ]
  },
  {
   "cell_type": "code",
   "execution_count": 50,
   "metadata": {},
   "outputs": [],
   "source": [
    "data = requests.get ('https://www.imdb.com/chart/top')\n",
    "soup = BeautifulSoup(data.text)"
   ]
  },
  {
   "cell_type": "code",
   "execution_count": null,
   "metadata": {},
   "outputs": [],
   "source": []
  },
  {
   "cell_type": "markdown",
   "metadata": {},
   "source": [
    "#### Movie name, year and a brief summary of the top 10 random movies (IMDB) as a pandas dataframe."
   ]
  },
  {
   "cell_type": "code",
   "execution_count": 13,
   "metadata": {},
   "outputs": [],
   "source": [
    "#This is the url you will scrape in this exercise\n",
    "url = 'http://www.imdb.com/chart/top'"
   ]
  },
  {
   "cell_type": "code",
   "execution_count": null,
   "metadata": {},
   "outputs": [],
   "source": [
    "data = requests.get ('http://www.imdb.com/chart/top')\n",
    "soup = BeautifulSoup(data.text)"
   ]
  },
  {
   "cell_type": "code",
   "execution_count": null,
   "metadata": {},
   "outputs": [],
   "source": []
  },
  {
   "cell_type": "markdown",
   "metadata": {},
   "source": [
    "#### Find the live weather report (temperature, wind speed, description and weather) of a given city."
   ]
  },
  {
   "cell_type": "code",
   "execution_count": 14,
   "metadata": {},
   "outputs": [],
   "source": [
    "#https://openweathermap.org/current"
   ]
  },
  {
   "cell_type": "code",
   "execution_count": 15,
   "metadata": {},
   "outputs": [],
   "source": [
    "def weather(city):\n",
    "    pass"
   ]
  },
  {
   "cell_type": "markdown",
   "metadata": {},
   "source": [
    "#### Book name,price and stock availability as a pandas dataframe."
   ]
  },
  {
   "cell_type": "code",
   "execution_count": 16,
   "metadata": {},
   "outputs": [],
   "source": [
    "# This is the url you will scrape in this exercise. \n",
    "# It is a fictional bookstore created to be scraped. \n",
    "url = 'http://books.toscrape.com/'"
   ]
  },
  {
   "cell_type": "code",
   "execution_count": null,
   "metadata": {},
   "outputs": [],
   "source": []
  }
 ],
 "metadata": {
  "kernelspec": {
   "display_name": "Python 3",
   "language": "python",
   "name": "python3"
  },
  "language_info": {
   "codemirror_mode": {
    "name": "ipython",
    "version": 3
   },
   "file_extension": ".py",
   "mimetype": "text/x-python",
   "name": "python",
   "nbconvert_exporter": "python",
   "pygments_lexer": "ipython3",
   "version": "3.8.6"
  }
 },
 "nbformat": 4,
 "nbformat_minor": 2
}
