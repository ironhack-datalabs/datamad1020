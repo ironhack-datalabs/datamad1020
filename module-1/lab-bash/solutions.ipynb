{
 "cells": [
  {
   "cell_type": "markdown",
   "metadata": {},
   "source": [
    "#### 1. Imprime en consola Hello World."
   ]
  },
  {
   "cell_type": "markdown",
   "metadata": {},
   "source": [
    "Your solution here: \n",
    "\n",
    "echo \"Hello Word\""
   ]
  },
  {
   "cell_type": "markdown",
   "metadata": {},
   "source": [
    "#### 2. Crea un directorio nuevo llamado new_dir."
   ]
  },
  {
   "cell_type": "markdown",
   "metadata": {},
   "source": [
    "Your solution here:\n",
    "\n",
    "mkdir new_dir\n"
   ]
  },
  {
   "cell_type": "markdown",
   "metadata": {},
   "source": [
    "#### 3. Elimina ese directorio."
   ]
  },
  {
   "cell_type": "markdown",
   "metadata": {},
   "source": [
    "Your solution here:\n"
   ]
  },
  {
   "cell_type": "markdown",
   "metadata": {},
   "source": [
    "rm -r new_dir"
   ]
  },
  {
   "cell_type": "markdown",
   "metadata": {},
   "source": [
    "#### 4. Copia el archivo `sed.txt` dentro de la carpeta lorem a la carpeta lorem-copy."
   ]
  },
  {
   "cell_type": "markdown",
   "metadata": {},
   "source": [
    "cp lorem/sed.txt lorem-copy"
   ]
  },
  {
   "cell_type": "markdown",
   "metadata": {},
   "source": [
    "#### 5. Copia los otros dos archivos de la carpeta lorem a la carpeta lorem-copy en una sola línea mediante `;`.\n"
   ]
  },
  {
   "cell_type": "markdown",
   "metadata": {},
   "source": [
    "cp lorem/{lorem.txt,at.txt} lorem-copy"
   ]
  },
  {
   "cell_type": "markdown",
   "metadata": {},
   "source": [
    "#### 6. Muestra el contenido del archivo `sed.txt` dentro de la carpeta lorem.\n"
   ]
  },
  {
   "cell_type": "markdown",
   "metadata": {},
   "source": [
    "cat lorem/sed.txt"
   ]
  },
  {
   "cell_type": "markdown",
   "metadata": {},
   "source": [
    "#### 7. Muestra el contenido de los archivos `at.txt` y `lorem.txt` dentro de la carpeta lorem."
   ]
  },
  {
   "cell_type": "markdown",
   "metadata": {},
   "source": [
    "cat lorem/{at.txt,lorem.txt}"
   ]
  },
  {
   "cell_type": "markdown",
   "metadata": {},
   "source": [
    "#### 8. Visualiza las primeras 3 líneas del archivo `sed.txt` dentro de la carpeta lorem-copy"
   ]
  },
  {
   "cell_type": "markdown",
   "metadata": {},
   "source": [
    "head -n3 lorem-copy/sed.txt"
   ]
  },
  {
   "cell_type": "markdown",
   "metadata": {},
   "source": [
    "#### 9. Visualiza las ultimas 3 líneas del archivo `sed.txt` dentro de la carpeta lorem-copy"
   ]
  },
  {
   "cell_type": "markdown",
   "metadata": {},
   "source": [
    "tail -n3 lorem-copy/sed.txt"
   ]
  },
  {
   "cell_type": "markdown",
   "metadata": {},
   "source": [
    "#### 10. Añade `Homo homini lupus.` al final de archivo `sed.txt` dentro de la carpeta lorem-copy."
   ]
  },
  {
   "cell_type": "markdown",
   "metadata": {},
   "source": [
    ">> \"Homo homini lupus.\" lorem-copy/sed.txt"
   ]
  },
  {
   "cell_type": "markdown",
   "metadata": {},
   "source": [
    "#### 11. Visualiza las últimas 3 líneas del archivo `sed.txt` dentro de la carpeta lorem-copy. Deberías ver ahora `Homo homini lupus.`."
   ]
  },
  {
   "cell_type": "markdown",
   "metadata": {},
   "source": [
    "echo \"Homo homini lupus.\" >> lorem-copy/sed.txt"
   ]
  },
  {
   "cell_type": "markdown",
   "metadata": {},
   "source": [
    "#### 12. Sustituye todas las apariciones de `et` por `ET` del archivo `at.txt` dentro de la carpeta lorem-copy. Deberás usar `sed`."
   ]
  },
  {
   "cell_type": "markdown",
   "metadata": {},
   "source": [
    "sed -i \"\" \"s/et/ET/g\" lorem-copy/at.txt"
   ]
  },
  {
   "cell_type": "markdown",
   "metadata": {},
   "source": [
    "#### 13. Encuentra al usuario activo en el sistema."
   ]
  },
  {
   "cell_type": "markdown",
   "metadata": {},
   "source": [
    "who"
   ]
  },
  {
   "cell_type": "markdown",
   "metadata": {},
   "source": [
    "#### 14. Encuentra dónde estás en tu sistema de ficheros."
   ]
  },
  {
   "cell_type": "markdown",
   "metadata": {},
   "source": [
    "pwd"
   ]
  },
  {
   "cell_type": "markdown",
   "metadata": {},
   "source": [
    "#### 15. Lista los archivos que terminan por `.txt` en la carpeta lorem."
   ]
  },
  {
   "cell_type": "markdown",
   "metadata": {},
   "source": [
    "ls lorem/ *.txt"
   ]
  },
  {
   "cell_type": "markdown",
   "metadata": {},
   "source": [
    "#### 16. Cuenta el número de líneas que tiene el archivo `sed.txt` dentro de la carpeta lorem."
   ]
  },
  {
   "cell_type": "markdown",
   "metadata": {},
   "source": [
    "wc -l lorem/sed.txt"
   ]
  },
  {
   "cell_type": "markdown",
   "metadata": {},
   "source": [
    "#### 17. Cuenta el número de **archivos** que empiezan por `lorem` que están en este directorio y en directorios internos."
   ]
  },
  {
   "cell_type": "markdown",
   "metadata": {},
   "source": [
    "ls -d lorem* | wc -l"
   ]
  },
  {
   "cell_type": "markdown",
   "metadata": {},
   "source": [
    "#### 18. Encuentra todas las apariciones de `et` en `at.txt` dentro de la carpeta lorem."
   ]
  },
  {
   "cell_type": "markdown",
   "metadata": {},
   "source": [
    "grep -r \"et\" \"lorem/at.txt\""
   ]
  },
  {
   "cell_type": "markdown",
   "metadata": {},
   "source": [
    "#### 19. Cuenta el número de apariciones del string `et` en `at.txt` dentro de la carpeta lorem."
   ]
  },
  {
   "cell_type": "markdown",
   "metadata": {},
   "source": [
    "wc \"et\" lorem/sed.txt"
   ]
  },
  {
   "cell_type": "markdown",
   "metadata": {},
   "source": [
    "#### 20. Cuenta el número de apariciones del string `et` en todos los archivos del directorio lorem-copy."
   ]
  },
  {
   "cell_type": "markdown",
   "metadata": {},
   "source": [
    "wc \"et\" lorem-copy/*.txt"
   ]
  },
  {
   "cell_type": "markdown",
   "metadata": {},
   "source": [
    "#### Ficheros bash\n",
    "\n",
    "Isabels-MBP:lab-bash isabelsearleriesgo$ bash #!/bin/bash ls\n",
    "\n",
    "The default interactive shell is now zsh.\n",
    "To update your account to use zsh, please run `chsh -s /bin/zsh`.\n",
    "For more details, please visit https://support.apple.com/kb/HT208050.\n",
    "bash-3.2$ "
   ]
  },
  {
   "cell_type": "code",
   "execution_count": null,
   "metadata": {},
   "outputs": [],
   "source": []
  }
 ],
 "metadata": {
  "kernelspec": {
   "display_name": "Python 3",
   "language": "python",
   "name": "python3"
  },
  "language_info": {
   "codemirror_mode": {
    "name": "ipython",
    "version": 3
   },
   "file_extension": ".py",
   "mimetype": "text/x-python",
   "name": "python",
   "nbconvert_exporter": "python",
   "pygments_lexer": "ipython3",
   "version": "3.8.5"
  }
 },
 "nbformat": 4,
 "nbformat_minor": 4
}
