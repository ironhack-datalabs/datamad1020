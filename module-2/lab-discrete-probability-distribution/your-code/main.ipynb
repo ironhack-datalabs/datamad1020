{
 "cells": [
  {
   "cell_type": "markdown",
   "metadata": {},
   "source": [
    "# Before your start:\n",
    "\n",
    "    Read the README.md file\n",
    "    Comment as much as you can and use the resources (README.md file)\n",
    "    Happy learning!\n",
    "\n",
    "*Notes:* \n",
    "\n",
    "- Solve the questions with python.\n",
    "\n",
    "- Round the final answer to three decimal places."
   ]
  },
  {
   "cell_type": "code",
   "execution_count": 80,
   "metadata": {},
   "outputs": [],
   "source": [
    "from scipy.stats import binom, poisson\n",
    "import matplotlib.pyplot as plt\n",
    "from math import factorial\n",
    "import numpy as np\n",
    "import math"
   ]
  },
  {
   "cell_type": "markdown",
   "metadata": {},
   "source": [
    "## Bernoulli's Distribution\n",
    "\n",
    "In a basket containing 100 fruits, there are 60 apples and 40 oranges. \n",
    "\n",
    "A fruit is picked randomly from the basket. \n",
    "\n",
    "1. **What is the probability that the fruit is apple?**\n",
    "1. **What is the probability that it is an orange?**"
   ]
  },
  {
   "cell_type": "code",
   "execution_count": 51,
   "metadata": {},
   "outputs": [
    {
     "name": "stdout",
     "output_type": "stream",
     "text": [
      "The probability og being an apple is 0.6 and the probability of being an orange is 0.4\n"
     ]
    }
   ],
   "source": [
    "\"\"\"\n",
    "Calculate:\n",
    "p = probability that the fruit is an apple \n",
    "q = probability that the fruit is an orange\n",
    "\"\"\"\n",
    "p=60/100\n",
    "q=40/100\n",
    "\n",
    "print(f'The probability og being an apple is {p} and the probability of being an orange is {q}')"
   ]
  },
  {
   "cell_type": "markdown",
   "metadata": {},
   "source": [
    "Now we take a random sample of 20 fruits from the basket. After each fruit is taken, a new fruit of the same type is replaced in the basket. Therefore, every time we are taking 1 fruit from 100 fruits. \n",
    "\n",
    "1. **What is the probability that the first 5 fruits are all apples?**\n",
    "\n",
    "1. **What is the probability that the first 5 fruits are all apples and the next 15 fruits are all oranges?**\n",
    "\n",
    "You can include the `p` and `q` probabilities you previous calculated in your solution."
   ]
  },
  {
   "cell_type": "code",
   "execution_count": 26,
   "metadata": {},
   "outputs": [
    {
     "name": "stdout",
     "output_type": "stream",
     "text": [
      "The probability of getting an apple the first 5 times is 0.078.\n",
      "The probability of getting 5 apples and then 15 oranges is 0.0.\n"
     ]
    }
   ],
   "source": [
    "# your code here\n",
    "print(f\"The probability of getting an apple the first 5 times is {round(p**5,3)}.\\nThe probability of getting 5 apples and then 15 oranges is {round(p**5*q**15,3)}.\")"
   ]
  },
  {
   "cell_type": "markdown",
   "metadata": {},
   "source": [
    "## Binomial Distribution\n",
    "\n",
    "Similar to the above problem, this time again we randomly sample 20 fruits.\n",
    "\n",
    "**What is the probability that this time the sample contains 5 apples and 15 oranges?**\n",
    "\n",
    "Please note that this time the order of the fruits being picked does not matter."
   ]
  },
  {
   "cell_type": "code",
   "execution_count": 40,
   "metadata": {},
   "outputs": [
    {
     "name": "stdout",
     "output_type": "stream",
     "text": [
      "The probability of getting 5 apples and 15 oranges is 0.001.\n"
     ]
    }
   ],
   "source": [
    "# your code here\n",
    "\n",
    "n = 20\n",
    "k = 5\n",
    "prob = binom.pmf(k, n, p)\n",
    "\n",
    "print(f\"The probability of getting 5 apples and 15 oranges is {round(prob,3)}.\")"
   ]
  },
  {
   "cell_type": "markdown",
   "metadata": {},
   "source": [
    "In the lesson we also discussed CDF (cumulative distribution function). In the context of the above problem, **what is the probability that less than 5 fruits picked are apples?**\n",
    "\n",
    "Write the formula and calculate the probability below."
   ]
  },
  {
   "cell_type": "code",
   "execution_count": 54,
   "metadata": {},
   "outputs": [
    {
     "data": {
      "text/plain": [
       "0.002"
      ]
     },
     "execution_count": 54,
     "metadata": {},
     "output_type": "execute_result"
    }
   ],
   "source": [
    "# your code here\n",
    "n = 20\n",
    "k = 5\n",
    "round(binom.cdf(k, n, p),3)"
   ]
  },
  {
   "cell_type": "markdown",
   "metadata": {},
   "source": [
    "**Plot the PDF (probability distributiom function) for the above binomial distribution.**\n",
    "\n",
    "*Hint: The range of x in a binomial distribution is from `0` to `n`.*"
   ]
  },
  {
   "cell_type": "code",
   "execution_count": 70,
   "metadata": {},
   "outputs": [
    {
     "data": {
      "image/png": "[encoded data removed]",
      "text/plain": [
       "<Figure size 432x288 with 1 Axes>"
      ]
     },
     "metadata": {
      "needs_background": "light"
     },
     "output_type": "display_data"
    }
   ],
   "source": [
    "# your code here\n",
    "# Please label the axes and give a title to the plot \n",
    "\n",
    "n = 20\n",
    "k = np.arange(n+1)\n",
    "\n",
    "y=binom.pmf(k,n,p)\n",
    "\n",
    "plt.title(\"Probability of getting apples in a 20 fruits box\")\n",
    "plt.ylabel(\"Probability\")\n",
    "plt.xlabel(\"Apples\")\n",
    "plt.ylim(0,0.25)\n",
    "plt.xlim(0,20)\n",
    "plt.plot(y);"
   ]
  },
  {
   "cell_type": "markdown",
   "metadata": {},
   "source": [
    "## Poisson Distribution\n",
    "\n",
    "In this challenge you are required to use the Math library in python to solve the problems.\n",
    "\n",
    "In the UEFA champions league tournament, the average number of goals scored in a match is 2.3. \n",
    "\n",
    "**What is the probability that the number of goals scored in a match is 5?**\n",
    "\n",
    "*Hint: Use the exp() in the math library*\n",
    "\n",
    "And to calculate the factorial, you can use the following code:\n",
    "\n",
    "```python\n",
    "import math\n",
    "math.factorial(n) # n is the number you want to find the factorial of\n",
    "```"
   ]
  },
  {
   "cell_type": "code",
   "execution_count": 78,
   "metadata": {},
   "outputs": [
    {
     "data": {
      "text/plain": [
       "0.0537750255819468"
      ]
     },
     "execution_count": 78,
     "metadata": {},
     "output_type": "execute_result"
    }
   ],
   "source": [
    "# your code here \n",
    "m = 2.3\n",
    "x=5\n",
    "((math.exp(-m))*(m**x))/(factorial(x))"
   ]
  },
  {
   "cell_type": "markdown",
   "metadata": {},
   "source": [
    "**Draw a poisson probability distribution plot for the number of goals to be between 0 to 10.**"
   ]
  },
  {
   "cell_type": "code",
   "execution_count": 85,
   "metadata": {},
   "outputs": [
    {
     "data": {
      "image/png": "[encoded data removed]",
      "text/plain": [
       "<Figure size 432x288 with 1 Axes>"
      ]
     },
     "metadata": {
      "needs_background": "light"
     },
     "output_type": "display_data"
    }
   ],
   "source": [
    "# your code here\n",
    "# Please label the axes and give a title to the plot \n",
    "n = 10\n",
    "k = np.arange(n+1)\n",
    "y=poisson.pmf(k, m)\n",
    "\n",
    "\n",
    "plt.title(\"Probability of goal\")\n",
    "plt.ylabel(\"Probability\")\n",
    "plt.xlabel(\"Goals\")\n",
    "plt.ylim(0,0.3)\n",
    "plt.xlim(0,10)\n",
    "plt.plot(y);"
   ]
  },
  {
   "cell_type": "code",
   "execution_count": null,
   "metadata": {},
   "outputs": [],
   "source": []
  }
 ],
 "metadata": {
  "kernelspec": {
   "display_name": "Python 3",
   "language": "python",
   "name": "python3"
  },
  "language_info": {
   "codemirror_mode": {
    "name": "ipython",
    "version": 3
   },
   "file_extension": ".py",
   "mimetype": "text/x-python",
   "name": "python",
   "nbconvert_exporter": "python",
   "pygments_lexer": "ipython3",
   "version": "3.8.6"
  }
 },
 "nbformat": 4,
 "nbformat_minor": 2
}
