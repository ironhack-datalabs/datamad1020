{
 "cells": [
  {
   "cell_type": "markdown",
   "metadata": {},
   "source": [
    "# Web Scraping Lab\n",
    "\n",
    "You will find in this notebook some web scraping exercises to practice your scraping skills using `requests` and `Beautiful Soup`.\n",
    "\n",
    "**Tips:**\n",
    "\n",
    "- Check the [response status code](https://http.cat/) for each request to ensure you have obtained the intended content.\n",
    "- Look at the HTML code in each request to understand the kind of info you are getting and its format.\n",
    "- Check for patterns in the response text to extract the data/info requested in each question.\n",
    "- Visit each url and take a look at its source through Chrome DevTools. You'll need to identify the html tags, special class names etc. used for the html content you are expected to extract.\n",
    "- Check out the css selectors."
   ]
  },
  {
   "cell_type": "markdown",
   "metadata": {},
   "source": [
    "### Useful Resources\n",
    "- [Requests library](http://docs.python-requests.org/en/master/#the-user-guide) documentation \n",
    "- [Beautiful Soup Doc](https://www.crummy.com/software/BeautifulSoup/bs4/doc/)\n",
    "- [List of HTTP status codes](https://en.wikipedia.org/wiki/List_of_HTTP_status_codes)\n",
    "- [HTML basics](http://www.simplehtmlguide.com/cheatsheet.php)\n",
    "- [CSS basics](https://www.cssbasics.com/#page_start)"
   ]
  },
  {
   "cell_type": "markdown",
   "metadata": {},
   "source": [
    "#### First of all, gathering our tools."
   ]
  },
  {
   "cell_type": "code",
   "execution_count": 22,
   "metadata": {
    "scrolled": true
   },
   "outputs": [],
   "source": [
    "#import sys\n",
    "#!{sys.executable} -m pip install requests\n",
    "#!{sys.executable} -m pip install beautifulsoup4\n",
    "#!{sys.executable} -m pip install lxml\n",
    "import requests\n",
    "from bs4 import BeautifulSoup\n",
    "import pandas as pd\n",
    "import json\n",
    "from urllib.request import Request, urlopen\n",
    "import re\n",
    "from pprint import pprint\n",
    "from lxml import html\n",
    "from lxml.html import fromstring\n",
    "import urllib.request\n",
    "from urllib.request import urlopen\n",
    "import random"
   ]
  },
  {
   "cell_type": "markdown",
   "metadata": {},
   "source": [
    "#### Download, parse (using BeautifulSoup), and print the content from the Trending Developers page from GitHub:"
   ]
  },
  {
   "cell_type": "code",
   "execution_count": 81,
   "metadata": {},
   "outputs": [],
   "source": [
    "# This is the url you will scrape in this exercise\n",
    "url = 'https://github.com/trending/developers'"
   ]
  },
  {
   "cell_type": "code",
   "execution_count": 82,
   "metadata": {},
   "outputs": [],
   "source": [
    "data = requests.get(url)"
   ]
  },
  {
   "cell_type": "code",
   "execution_count": 83,
   "metadata": {},
   "outputs": [
    {
     "data": {
      "text/plain": [
       "<Response [200]>"
      ]
     },
     "execution_count": 83,
     "metadata": {},
     "output_type": "execute_result"
    }
   ],
   "source": [
    "data"
   ]
  },
  {
   "cell_type": "code",
   "execution_count": 84,
   "metadata": {},
   "outputs": [],
   "source": [
    "soup = BeautifulSoup(data.text)"
   ]
  },
  {
   "cell_type": "code",
   "execution_count": 85,
   "metadata": {
    "scrolled": true
   },
   "outputs": [
    {
     "name": "stdout",
     "output_type": "stream",
     "text": [
      "<!DOCTYPE html>\n",
      "<html lang=\"en\">\n",
      "<head>\n",
      "<meta charset=\"utf-8\"/>\n",
      "<link href=\"https://github.githubassets.com\" rel=\"dns-prefetch\"/>\n",
      "<link href=\"https://avatars0.githubusercontent.com\" rel=\"dns-prefetch\"\n"
     ]
    }
   ],
   "source": [
    "print(str(soup)[:200])"
   ]
  },
  {
   "cell_type": "markdown",
   "metadata": {},
   "source": [
    "#### Display the names of the trending developers retrieved in the previous step.\n",
    "\n",
    "Your output should be a Python list of developer names. Each name should not contain any html tag.\n",
    "\n",
    "**Instructions:**\n",
    "\n",
    "1. Find out the html tag and class names used for the developer names. You can achieve this using Chrome DevTools.\n",
    "\n",
    "1. Use BeautifulSoup to extract all the html elements that contain the developer names.\n",
    "\n",
    "1. Use string manipulation techniques to replace whitespaces and linebreaks (i.e. `\\n`) in the *text* of each html element. Use a list to store the clean names.\n",
    "\n",
    "1. Print the list of names.\n",
    "\n",
    "Your output should look like below (with different names):\n",
    "\n",
    "```\n",
    "['trimstray (@trimstray)',\n",
    " 'joewalnes (JoeWalnes)',\n",
    " 'charlax (Charles-AxelDein)',\n",
    " 'ForrestKnight (ForrestKnight)',\n",
    " 'revery-ui (revery-ui)',\n",
    " 'alibaba (Alibaba)',\n",
    " 'Microsoft (Microsoft)',\n",
    " 'github (GitHub)',\n",
    " 'facebook (Facebook)',\n",
    " 'boazsegev (Bo)',\n",
    " 'google (Google)',\n",
    " 'cloudfetch',\n",
    " 'sindresorhus (SindreSorhus)',\n",
    " 'tensorflow',\n",
    " 'apache (TheApacheSoftwareFoundation)',\n",
    " 'DevonCrawford (DevonCrawford)',\n",
    " 'ARMmbed (ArmMbed)',\n",
    " 'vuejs (vuejs)',\n",
    " 'fastai (fast.ai)',\n",
    " 'QiShaoXuan (Qi)',\n",
    " 'joelparkerhenderson (JoelParkerHenderson)',\n",
    " 'torvalds (LinusTorvalds)',\n",
    " 'CyC2018',\n",
    " 'komeiji-satori (神楽坂覚々)',\n",
    " 'script-8']\n",
    " ```"
   ]
  },
  {
   "cell_type": "code",
   "execution_count": 86,
   "metadata": {},
   "outputs": [
    {
     "data": {
      "text/plain": [
       "['Laurent',\n",
       " 'DannyRyan',\n",
       " 'ArdaTanrıkulu',\n",
       " 'DotanSimha',\n",
       " 'FelixAngelov',\n",
       " 'AlisdairMcDiarmid',\n",
       " 'GlebBahmutov',\n",
       " 'AntonBabenko',\n",
       " 'FlorianRoth',\n",
       " 'TannerLinsley',\n",
       " 'NicolásBevacqua',\n",
       " 'FrostMing',\n",
       " 'FelixLange',\n",
       " 'KevinPapst',\n",
       " 'TobiasKlauser',\n",
       " 'MathiasBynens',\n",
       " 'FonsvanderPlas',\n",
       " 'MiekGieben',\n",
       " 'RomainRigaux',\n",
       " 'BradFitzpatrick',\n",
       " 'MichaelShilman',\n",
       " 'LiamDeBeasi',\n",
       " 'JeanMertz',\n",
       " 'IngoBürk',\n",
       " 'TobiasReich']"
      ]
     },
     "execution_count": 86,
     "metadata": {},
     "output_type": "execute_result"
    }
   ],
   "source": [
    "names = soup.select(\".h3.lh-condensed\")\n",
    "names = [name.find(\"a\").text for name in names]\n",
    "names = [re.sub('\\s+','', name) for name in names]\n",
    "names"
   ]
  },
  {
   "cell_type": "code",
   "execution_count": 87,
   "metadata": {},
   "outputs": [
    {
     "data": {
      "text/plain": [
       "['laurent22',\n",
       " 'djrtwo',\n",
       " 'ardatan',\n",
       " 'dotansimha',\n",
       " 'felangel',\n",
       " 'alisdair',\n",
       " 'bahmutov',\n",
       " 'antonbabenko',\n",
       " 'Neo23x0',\n",
       " 'tannerlinsley',\n",
       " 'bevacqua',\n",
       " 'frostming',\n",
       " 'fjl',\n",
       " 'kevinpapst',\n",
       " 'tklauser',\n",
       " 'mathiasbynens',\n",
       " 'fonsp',\n",
       " 'miekg',\n",
       " 'romainr',\n",
       " 'bradfitz',\n",
       " 'shilman',\n",
       " 'liamdebeasi',\n",
       " 'JeanMertz',\n",
       " 'Airblader',\n",
       " 'electerious']"
      ]
     },
     "execution_count": 87,
     "metadata": {},
     "output_type": "execute_result"
    }
   ],
   "source": [
    "handles = soup.select(\".f4.text-normal.mb-1\")\n",
    "handles = [handle.find(\"a\").text for handle in handles]\n",
    "handles = [re.sub('\\s+','', handle) for handle in handles]\n",
    "handles"
   ]
  },
  {
   "cell_type": "code",
   "execution_count": 88,
   "metadata": {},
   "outputs": [
    {
     "data": {
      "text/plain": [
       "['Laurent, (laurent22)',\n",
       " 'DannyRyan, (djrtwo)',\n",
       " 'ArdaTanrıkulu, (ardatan)',\n",
       " 'DotanSimha, (dotansimha)',\n",
       " 'FelixAngelov, (felangel)',\n",
       " 'AlisdairMcDiarmid, (alisdair)',\n",
       " 'GlebBahmutov, (bahmutov)',\n",
       " 'AntonBabenko, (antonbabenko)',\n",
       " 'FlorianRoth, (Neo23x0)',\n",
       " 'TannerLinsley, (tannerlinsley)',\n",
       " 'NicolásBevacqua, (bevacqua)',\n",
       " 'FrostMing, (frostming)',\n",
       " 'FelixLange, (fjl)',\n",
       " 'KevinPapst, (kevinpapst)',\n",
       " 'TobiasKlauser, (tklauser)',\n",
       " 'MathiasBynens, (mathiasbynens)',\n",
       " 'FonsvanderPlas, (fonsp)',\n",
       " 'MiekGieben, (miekg)',\n",
       " 'RomainRigaux, (romainr)',\n",
       " 'BradFitzpatrick, (bradfitz)',\n",
       " 'MichaelShilman, (shilman)',\n",
       " 'LiamDeBeasi, (liamdebeasi)',\n",
       " 'JeanMertz, (JeanMertz)',\n",
       " 'IngoBürk, (Airblader)',\n",
       " 'TobiasReich, (electerious)']"
      ]
     },
     "execution_count": 88,
     "metadata": {},
     "output_type": "execute_result"
    }
   ],
   "source": [
    "names_handles = [f'{tuple[0]}, ({tuple[1]})' for tuple in zip(names, handles)]\n",
    "names_handles"
   ]
  },
  {
   "cell_type": "markdown",
   "metadata": {},
   "source": [
    "#### Display the trending Python repositories in GitHub\n",
    "\n",
    "The steps to solve this problem is similar to the previous one except that you need to find out the repository names instead of developer names."
   ]
  },
  {
   "cell_type": "code",
   "execution_count": 89,
   "metadata": {},
   "outputs": [],
   "source": [
    "# This is the url you will scrape in this exercise\n",
    "url = 'https://github.com/trending/python?since=daily'"
   ]
  },
  {
   "cell_type": "code",
   "execution_count": 90,
   "metadata": {},
   "outputs": [
    {
     "data": {
      "text/plain": [
       "['l1ving/youtube-dl',\n",
       " 'MobSF/Mobile-Security-Framework-MobSF',\n",
       " 'mxrch/GHunt',\n",
       " 'gto76/python-cheatsheet',\n",
       " 'jofpin/trape',\n",
       " 'apache/incubator-superset',\n",
       " 'swisskyrepo/PayloadsAllTheThings',\n",
       " 'OWASP/CheatSheetSeries',\n",
       " 'facebookresearch/pifuhd',\n",
       " 'jerry-git/learn-python3',\n",
       " 'ethereum/eth2.0-deposit-cli',\n",
       " 'facebookresearch/wav2letter',\n",
       " 'ethereum/eth2.0-specs',\n",
       " 'PaddlePaddle/PaddleX',\n",
       " 'teja156/microsoft-teams-class-attender',\n",
       " 'ssut/py-googletrans',\n",
       " 'pytorch/fairseq',\n",
       " 'facebookresearch/pytorch3d',\n",
       " 'floodsung/Deep-Learning-Papers-Reading-Roadmap',\n",
       " 'dask/dask',\n",
       " 'deepset-ai/haystack',\n",
       " 'aws-samples/aws-cdk-examples',\n",
       " 'openatx/uiautomator2',\n",
       " 'moranzcw/Computer-Networking-A-Top-Down-Approach-NOTES',\n",
       " 'aiogram/aiogram']"
      ]
     },
     "execution_count": 90,
     "metadata": {},
     "output_type": "execute_result"
    }
   ],
   "source": [
    "data = requests.get(url)\n",
    "\n",
    "soup = BeautifulSoup(data.text)\n",
    "repository = soup.select(\".h3.lh-condensed\")\n",
    "repository = [repo_name.find(\"a\").text for repo_name in repository]\n",
    "repository = [re.sub('\\s+','', repo_name) for repo_name in repository]\n",
    "repository"
   ]
  },
  {
   "cell_type": "markdown",
   "metadata": {},
   "source": [
    "#### Display all the image links from Walt Disney wikipedia page"
   ]
  },
  {
   "cell_type": "code",
   "execution_count": 91,
   "metadata": {},
   "outputs": [],
   "source": [
    "# This is the url you will scrape in this exercise\n",
    "url = 'https://en.wikipedia.org/wiki/Walt_Disney'"
   ]
  },
  {
   "cell_type": "code",
   "execution_count": 93,
   "metadata": {},
   "outputs": [
    {
     "name": "stdout",
     "output_type": "stream",
     "text": [
      "['https://upload.wikimedia.org/wikipedia/en/thumb/e/e7/Cscr-featured.svg/20px-Cscr-featured.svg.png', 'https://upload.wikimedia.org/wikipedia/en/thumb/8/8c/Extended-protection-shackle.svg/20px-Extended-protection-shackle.svg.png', 'https://upload.wikimedia.org/wikipedia/commons/thumb/d/df/Walt_Disney_1946.JPG/220px-Walt_Disney_1946.JPG', 'https://upload.wikimedia.org/wikipedia/commons/thumb/8/87/Walt_Disney_1942_signature.svg/150px-Walt_Disney_1942_signature.svg.png', 'https://upload.wikimedia.org/wikipedia/commons/thumb/c/c4/Walt_Disney_envelope_ca._1921.jpg/220px-Walt_Disney_envelope_ca._1921.jpg', 'https://upload.wikimedia.org/wikipedia/commons/thumb/4/4d/Newman_Laugh-O-Gram_%281921%29.we\n"
     ]
    }
   ],
   "source": [
    "data = requests.get(url)\n",
    "soup = BeautifulSoup(data.text)\n",
    "images = [\"https:\"+image['src'] for image in soup.findAll('img')]\n",
    "print(str(images)[:700])"
   ]
  },
  {
   "cell_type": "markdown",
   "metadata": {},
   "source": [
    "#### Retrieve all links to pages on Wikipedia that refer to some kind of Python."
   ]
  },
  {
   "cell_type": "code",
   "execution_count": 94,
   "metadata": {},
   "outputs": [],
   "source": [
    "# This is the url you will scrape in this exercise\n",
    "url ='https://en.wikipedia.org/wiki/Python' "
   ]
  },
  {
   "cell_type": "code",
   "execution_count": 95,
   "metadata": {},
   "outputs": [
    {
     "name": "stdout",
     "output_type": "stream",
     "text": [
      "['https://en.wikipedia.org/wiki/Pythons', 'https://en.wikipedia.org/wiki/Python_(genus)', 'https://en.wikipedia.org/wiki/Python_(programming_language)', 'https://en.wikipedia.org/wiki/CMU_Common_Lisp', 'https://en.wikipedia.org/wiki/PERQ#PERQ_3', 'https://en.wikipedia.org/wiki/Python_of_Aenus', 'https://en.wikipedia.org/wiki/Python_(painter)', 'https://en.wikipedia.org/wiki/Python_of_Byzantium', 'https://en.wikipedia.org/wiki/Python_of_Catana', 'https://en.wikipedia.org/wiki/Python_Anghelo', 'https://en.wikipedia.org/wiki/Python_(Efteling)', 'https://en.wikipedia.org/wiki/Python_(Busch_Gardens_Tampa_Bay)', 'https://en.wikipedia.org/wiki/Python_(Coney_Island,_Cincinnati,_Ohio)', 'https://en.w\n"
     ]
    }
   ],
   "source": [
    "data = requests.get(url)\n",
    "soup = BeautifulSoup(data.text)\n",
    "\n",
    "links = [link['href'] for link in soup.select(\"ul li a\")]\n",
    "links = [\"https://en.wikipedia.org\"+link for link in links if link.startswith(\"/wiki\")]\n",
    "print(str(links)[:700])"
   ]
  },
  {
   "cell_type": "markdown",
   "metadata": {},
   "source": [
    "#### Number of Titles that have changed in the United States Code since its last release point "
   ]
  },
  {
   "cell_type": "code",
   "execution_count": 6,
   "metadata": {},
   "outputs": [],
   "source": [
    "# This is the url you will scrape in this exercise\n",
    "url = 'http://uscode.house.gov/download/download.shtml'"
   ]
  },
  {
   "cell_type": "code",
   "execution_count": null,
   "metadata": {},
   "outputs": [],
   "source": []
  },
  {
   "cell_type": "markdown",
   "metadata": {},
   "source": [
    "#### A Python list with the top ten FBI's Most Wanted names "
   ]
  },
  {
   "cell_type": "code",
   "execution_count": 69,
   "metadata": {},
   "outputs": [],
   "source": [
    "# This is the url you will scrape in this exercise\n",
    "url = 'https://www.fbi.gov/wanted/topten'"
   ]
  },
  {
   "cell_type": "code",
   "execution_count": 78,
   "metadata": {},
   "outputs": [
    {
     "name": "stdout",
     "output_type": "stream",
     "text": [
      "<Response [503]>\n",
      "<!DOCTYPE html PUBLIC \"-//W3C//DTD XHTML 1.0 Strict//EN\" \"http://www.w3.org/TR/xhtml1/DTD/xhtml1-strict.dtd\">\n",
      "<!-- saved from url=(0023)http://kidmondo.com/404 --><html lang=\"en\" xml:lang=\"en\" xmlns=\"\n"
     ]
    },
    {
     "data": {
      "text/plain": [
       "[]"
      ]
     },
     "execution_count": 78,
     "metadata": {},
     "output_type": "execute_result"
    }
   ],
   "source": [
    "url = 'https://www.fbi.gov/wanted/topten?__cf_chl_jschl_tk__=76408cf44d3f16f2a1e34471f177c6d1cc12a63c-1604616507-0-Afr6epr_OsOOSdYK3OttkwUhbjEYTBwpVSa3Go-EO94Xg49kdNKbuSiOsBVjEeob2mBHxJJ4UeWzqMj76376JgPhBJqvcdDfWUjY60fY_tXWBJc_aiFuhXfxXlyyIQTzskuTGMVz_dLbNG3EDuLg--fgbJI-zG0ncivoeWaLifUmLkRZ4k4z8OMX5LpuEv5ZJChrEQrnapnc7POxRK192wTw3eNHfbhimtvT4TbSbpMfICdBEksOt09fKD8C5-Fb5jNCxY1rrwhDHrp6SwwqzGpBIDWMmg2CWTX-zkN9S7s6uz2A7mRzE0Ql_r3ix8KEyKD4B72a9n0nIxPOrzbuJVyYtPt7TZU7mbPY780phQOI'\n",
    "data = requests.get(url)\n",
    "print(data)\n",
    "soup = BeautifulSoup(data.text)\n",
    "print(str(soup)[:200])\n",
    "fbi_names = [fbi_name.text for fbi_name in soup.select(\"h3.title a\")]\n",
    "fbi_names"
   ]
  },
  {
   "cell_type": "markdown",
   "metadata": {},
   "source": [
    "#### List all language names and number of related articles in the order they appear in wikipedia.org"
   ]
  },
  {
   "cell_type": "code",
   "execution_count": 109,
   "metadata": {},
   "outputs": [],
   "source": [
    "# This is the url you will scrape in this exercise\n",
    "url = 'https://www.wikipedia.org/'"
   ]
  },
  {
   "cell_type": "code",
   "execution_count": 127,
   "metadata": {},
   "outputs": [
    {
     "name": "stdout",
     "output_type": "stream",
     "text": [
      "['\\nEnglish8300+ articles\\n', '\\nEspaÃ±ol3700+ artÃ\\xadculos\\n', '\\næ\\x97¥æ\\x9c¬èª\\x9e3500+ è¨\\x98äº\\x8b\\n', '\\nDeutsch9500+ Artikel\\n', '\\nÐ\\xa0Ñ\\x83Ñ\\x81Ñ\\x81ÐºÐ¸Ð¹7200+ Ñ\\x81Ñ\\x82Ð°Ñ\\x82ÐµÐ¹\\n', '\\nFranÃ§ais6200+ articles\\n', '\\nItaliano4500+ voci\\n', '\\nä¸\\xadæ\\x96\\x875500+ æ¢\\x9dç\\x9b®\\n', '\\nPortuguÃªs4500+ artigos\\n', '\\nPolski3500+ haseÅ\\x82\\n']\n"
     ]
    }
   ],
   "source": [
    "data = requests.get(url)\n",
    "soup = BeautifulSoup(data.text)\n",
    "language_names = [language.text for language in soup.find_all(\"a\", id=re.compile(\"^js-link-box\"))] \n",
    "language_names = [re.sub('\\s+\\d','',language) for language in language_names]\n",
    "print(language_names)\n",
    "\n",
    "#tendria que haber seguido filtrando la lista de language_names hasta \n",
    "#conseguir el idioma limpio, pero no he sabido como limpiarlo más.\n",
    "#Tambien tendria que haber sacado el numero de articulos."
   ]
  },
  {
   "cell_type": "markdown",
   "metadata": {},
   "source": [
    "#### A list with the different kind of datasets available in data.gov.uk "
   ]
  },
  {
   "cell_type": "code",
   "execution_count": 9,
   "metadata": {},
   "outputs": [],
   "source": [
    "# This is the url you will scrape in this exercise\n",
    "url = 'https://data.gov.uk/'"
   ]
  },
  {
   "cell_type": "code",
   "execution_count": null,
   "metadata": {},
   "outputs": [],
   "source": []
  },
  {
   "cell_type": "markdown",
   "metadata": {},
   "source": [
    "#### Top 10 languages by number of native speakers stored in a Pandas Dataframe"
   ]
  },
  {
   "cell_type": "code",
   "execution_count": 10,
   "metadata": {},
   "outputs": [],
   "source": [
    "# This is the url you will scrape in this exercise\n",
    "url = 'https://en.wikipedia.org/wiki/List_of_languages_by_number_of_native_speakers'"
   ]
  },
  {
   "cell_type": "code",
   "execution_count": null,
   "metadata": {},
   "outputs": [],
   "source": []
  },
  {
   "cell_type": "markdown",
   "metadata": {},
   "source": [
    "### Stepping up the game"
   ]
  },
  {
   "cell_type": "markdown",
   "metadata": {},
   "source": [
    "####  20 latest earthquakes info (date, time, latitude, longitude and region name) by the EMSC as a pandas dataframe"
   ]
  },
  {
   "cell_type": "code",
   "execution_count": 11,
   "metadata": {},
   "outputs": [],
   "source": [
    "# This is the url you will scrape in this exercise\n",
    "url = 'https://www.emsc-csem.org/Earthquake/'"
   ]
  },
  {
   "cell_type": "code",
   "execution_count": null,
   "metadata": {},
   "outputs": [],
   "source": []
  },
  {
   "cell_type": "markdown",
   "metadata": {},
   "source": [
    "#### IMDB's Top 250 data (movie name, Initial release, director name and stars) as a pandas dataframe"
   ]
  },
  {
   "cell_type": "code",
   "execution_count": 12,
   "metadata": {},
   "outputs": [],
   "source": [
    "# This is the url you will scrape in this exercise \n",
    "url = 'https://www.imdb.com/chart/top'"
   ]
  },
  {
   "cell_type": "code",
   "execution_count": null,
   "metadata": {},
   "outputs": [],
   "source": []
  },
  {
   "cell_type": "markdown",
   "metadata": {},
   "source": [
    "#### Movie name, year and a brief summary of the top 10 random movies (IMDB) as a pandas dataframe."
   ]
  },
  {
   "cell_type": "code",
   "execution_count": 13,
   "metadata": {},
   "outputs": [],
   "source": [
    "#This is the url you will scrape in this exercise\n",
    "url = 'http://www.imdb.com/chart/top'"
   ]
  },
  {
   "cell_type": "code",
   "execution_count": null,
   "metadata": {},
   "outputs": [],
   "source": []
  },
  {
   "cell_type": "markdown",
   "metadata": {},
   "source": [
    "#### Find the live weather report (temperature, wind speed, description and weather) of a given city."
   ]
  },
  {
   "cell_type": "code",
   "execution_count": 14,
   "metadata": {},
   "outputs": [],
   "source": [
    "#https://openweathermap.org/current"
   ]
  },
  {
   "cell_type": "code",
   "execution_count": 15,
   "metadata": {},
   "outputs": [],
   "source": [
    "def weather(city):\n",
    "    pass"
   ]
  },
  {
   "cell_type": "markdown",
   "metadata": {},
   "source": [
    "#### Book name,price and stock availability as a pandas dataframe."
   ]
  },
  {
   "cell_type": "code",
   "execution_count": 16,
   "metadata": {},
   "outputs": [],
   "source": [
    "# This is the url you will scrape in this exercise. \n",
    "# It is a fictional bookstore created to be scraped. \n",
    "url = 'http://books.toscrape.com/'"
   ]
  },
  {
   "cell_type": "code",
   "execution_count": null,
   "metadata": {},
   "outputs": [],
   "source": []
  }
 ],
 "metadata": {
  "kernelspec": {
   "display_name": "Python 3",
   "language": "python",
   "name": "python3"
  },
  "language_info": {
   "codemirror_mode": {
    "name": "ipython",
    "version": 3
   },
   "file_extension": ".py",
   "mimetype": "text/x-python",
   "name": "python",
   "nbconvert_exporter": "python",
   "pygments_lexer": "ipython3",
   "version": "3.8.6"
  }
 },
 "nbformat": 4,
 "nbformat_minor": 2
}
