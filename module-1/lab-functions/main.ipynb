{
 "cells": [
  {
   "cell_type": "markdown",
   "metadata": {},
   "source": [
    "# Functions"
   ]
  },
  {
   "cell_type": "markdown",
   "metadata": {},
   "source": [
    "On this lab we will put to practice some of the concepts we have learned on this past few days.\n",
    "\n",
    "`NOTE: On this lab you should try to write all the functions yourself using only the most basic of python syntax and without functions such as len, count, sum, max, min, in, etc. Give it a try. 🧑🏻‍💻👩🏻‍💻`\n",
    "\n",
    "The cell after each exercise contains a few tests to check if your function works as expected."
   ]
  },
  {
   "cell_type": "code",
   "execution_count": 1,
   "metadata": {},
   "outputs": [],
   "source": [
    "from mod.testing import *\n",
    "import unittest"
   ]
  },
  {
   "cell_type": "markdown",
   "metadata": {},
   "source": [
    "## 1. Write a function that returns the greater of two numbers"
   ]
  },
  {
   "cell_type": "code",
   "execution_count": 2,
   "metadata": {},
   "outputs": [],
   "source": [
    "def greater(a,b):\n",
    "    if a>b:\n",
    "        return a\n",
    "    return b"
   ]
  },
  {
   "cell_type": "code",
   "execution_count": 3,
   "metadata": {},
   "outputs": [
    {
     "name": "stderr",
     "output_type": "stream",
     "text": [
      "....................................................................................................\n",
      "----------------------------------------------------------------------\n",
      "Ran 100 tests in 0.201s\n",
      "\n",
      "OK\n"
     ]
    }
   ],
   "source": [
    "# This will test your function \n",
    "test_greater(greater)"
   ]
  },
  {
   "cell_type": "markdown",
   "metadata": {},
   "source": [
    "## 2. Now write a function that returns the largest element on a list"
   ]
  },
  {
   "cell_type": "code",
   "execution_count": 4,
   "metadata": {},
   "outputs": [],
   "source": [
    "def greatest(arr):\n",
    "    result = arr[0]\n",
    "    for elem in arr[1:]:\n",
    "        if elem>result:\n",
    "            result = elem\n",
    "\n",
    "    return result"
   ]
  },
  {
   "cell_type": "code",
   "execution_count": 5,
   "metadata": {},
   "outputs": [
    {
     "name": "stderr",
     "output_type": "stream",
     "text": [
      "....................................................................................................\n",
      "----------------------------------------------------------------------\n",
      "Ran 100 tests in 0.145s\n",
      "\n",
      "OK\n"
     ]
    }
   ],
   "source": [
    "# This will test your function \n",
    "test_greatest(greatest)"
   ]
  },
  {
   "cell_type": "markdown",
   "metadata": {},
   "source": [
    "## 3. Write a function that sums all the elements on a list"
   ]
  },
  {
   "cell_type": "code",
   "execution_count": 8,
   "metadata": {},
   "outputs": [],
   "source": [
    "def sum_all(arr):\n",
    "    suma = 0\n",
    "    for elem in arr:\n",
    "        suma += elem\n",
    "    return suma"
   ]
  },
  {
   "cell_type": "code",
   "execution_count": 9,
   "metadata": {},
   "outputs": [
    {
     "name": "stderr",
     "output_type": "stream",
     "text": [
      "....................................................................................................\n",
      "----------------------------------------------------------------------\n",
      "Ran 100 tests in 0.128s\n",
      "\n",
      "OK\n"
     ]
    }
   ],
   "source": [
    "# This will test your function \n",
    "test_sum(sum_all)"
   ]
  },
  {
   "cell_type": "markdown",
   "metadata": {},
   "source": [
    "## 4. Write another function that multiplies all the elements on a list"
   ]
  },
  {
   "cell_type": "code",
   "execution_count": 10,
   "metadata": {},
   "outputs": [],
   "source": [
    "def mult_all(arr):\n",
    "    prod = 1\n",
    "    for elem in arr:\n",
    "        prod *= elem\n",
    "    return prod"
   ]
  },
  {
   "cell_type": "code",
   "execution_count": 11,
   "metadata": {},
   "outputs": [
    {
     "name": "stderr",
     "output_type": "stream",
     "text": [
      "....................................................................................................\n",
      "----------------------------------------------------------------------\n",
      "Ran 100 tests in 0.204s\n",
      "\n",
      "OK\n"
     ]
    }
   ],
   "source": [
    "# This will test your function \n",
    "test_mult(mult_all)"
   ]
  },
  {
   "cell_type": "markdown",
   "metadata": {},
   "source": [
    "## 5. Now combine those two ideas and write a function that receives a list and either \"+\" or \"*\" and outputs acordingly"
   ]
  },
  {
   "cell_type": "code",
   "execution_count": 27,
   "metadata": {},
   "outputs": [
    {
     "data": {
      "text/plain": [
       "8"
      ]
     },
     "execution_count": 27,
     "metadata": {},
     "output_type": "execute_result"
    }
   ],
   "source": [
    "def oper_all(arr, oper):\n",
    "    if oper == \"+\":\n",
    "        result = sum_all(arr)\n",
    "    elif oper == \"*\":\n",
    "        result = mult_all(arr)\n",
    "    else:\n",
    "        return print(\"Error\")\n",
    "    \n",
    "    return result\n",
    "\n",
    "oper_all([2,4], \"*\")"
   ]
  },
  {
   "cell_type": "code",
   "execution_count": 28,
   "metadata": {},
   "outputs": [
    {
     "name": "stderr",
     "output_type": "stream",
     "text": [
      "..FF.FFFFF.F.FFF.FFF.F.FF...F..F.....FF.FF.F.FFFF.F..FFFFF.FF....F..FF.FFFFFF.FF....FFF.F.F.F....FF.\n",
      "======================================================================\n",
      "FAIL: runTest (mod.testing.test_operations.<locals>.TestKnown)\n",
      "----------------------------------------------------------------------\n",
      "Traceback (most recent call last):\n",
      "  File \"/home/ordovas/IRONHACK/labs/datamad1020/module-1/lab-functions/mod/testing.py\", line 78, in runTest\n",
      "    self.assertEqual(fn(*self.input), self.output, f\"Should be {self.output}\")\n",
      "AssertionError: None != 0 : Should be 0\n",
      "\n",
      "======================================================================\n",
      "FAIL: runTest (mod.testing.test_operations.<locals>.TestKnown)\n",
      "----------------------------------------------------------------------\n",
      "Traceback (most recent call last):\n",
      "  File \"/home/ordovas/IRONHACK/labs/datamad1020/module-1/lab-functions/mod/testing.py\", line 78, in runTest\n",
      "    self.assertEqual(fn(*self.input), self.output, f\"Should be {self.output}\")\n",
      "AssertionError: None != 0 : Should be 0\n",
      "\n",
      "======================================================================\n",
      "FAIL: runTest (mod.testing.test_operations.<locals>.TestKnown)\n",
      "----------------------------------------------------------------------\n",
      "Traceback (most recent call last):\n",
      "  File \"/home/ordovas/IRONHACK/labs/datamad1020/module-1/lab-functions/mod/testing.py\", line 78, in runTest\n",
      "    self.assertEqual(fn(*self.input), self.output, f\"Should be {self.output}\")\n",
      "AssertionError: None != -6824829088117555200000000000 : Should be -6824829088117555200000000000\n",
      "\n",
      "======================================================================\n",
      "FAIL: runTest (mod.testing.test_operations.<locals>.TestKnown)\n",
      "----------------------------------------------------------------------\n",
      "Traceback (most recent call last):\n",
      "  File \"/home/ordovas/IRONHACK/labs/datamad1020/module-1/lab-functions/mod/testing.py\", line 78, in runTest\n",
      "    self.assertEqual(fn(*self.input), self.output, f\"Should be {self.output}\")\n",
      "AssertionError: None != 2962842624000 : Should be 2962842624000\n",
      "\n",
      "======================================================================\n",
      "FAIL: runTest (mod.testing.test_operations.<locals>.TestKnown)\n",
      "----------------------------------------------------------------------\n",
      "Traceback (most recent call last):\n",
      "  File \"/home/ordovas/IRONHACK/labs/datamad1020/module-1/lab-functions/mod/testing.py\", line 78, in runTest\n",
      "    self.assertEqual(fn(*self.input), self.output, f\"Should be {self.output}\")\n",
      "AssertionError: None != 0 : Should be 0\n",
      "\n",
      "======================================================================\n",
      "FAIL: runTest (mod.testing.test_operations.<locals>.TestKnown)\n",
      "----------------------------------------------------------------------\n",
      "Traceback (most recent call last):\n",
      "  File \"/home/ordovas/IRONHACK/labs/datamad1020/module-1/lab-functions/mod/testing.py\", line 78, in runTest\n",
      "    self.assertEqual(fn(*self.input), self.output, f\"Should be {self.output}\")\n",
      "AssertionError: None != 0 : Should be 0\n",
      "\n",
      "======================================================================\n",
      "FAIL: runTest (mod.testing.test_operations.<locals>.TestKnown)\n",
      "----------------------------------------------------------------------\n",
      "Traceback (most recent call last):\n",
      "  File \"/home/ordovas/IRONHACK/labs/datamad1020/module-1/lab-functions/mod/testing.py\", line 78, in runTest\n",
      "    self.assertEqual(fn(*self.input), self.output, f\"Should be {self.output}\")\n",
      "AssertionError: None != 0 : Should be 0\n",
      "\n",
      "======================================================================\n",
      "FAIL: runTest (mod.testing.test_operations.<locals>.TestKnown)\n",
      "----------------------------------------------------------------------\n",
      "Traceback (most recent call last):\n",
      "  File \"/home/ordovas/IRONHACK/labs/datamad1020/module-1/lab-functions/mod/testing.py\", line 78, in runTest\n",
      "    self.assertEqual(fn(*self.input), self.output, f\"Should be {self.output}\")\n",
      "AssertionError: None != 0 : Should be 0\n",
      "\n",
      "======================================================================\n",
      "FAIL: runTest (mod.testing.test_operations.<locals>.TestKnown)\n",
      "----------------------------------------------------------------------\n",
      "Traceback (most recent call last):\n",
      "  File \"/home/ordovas/IRONHACK/labs/datamad1020/module-1/lab-functions/mod/testing.py\", line 78, in runTest\n",
      "    self.assertEqual(fn(*self.input), self.output, f\"Should be {self.output}\")\n",
      "AssertionError: None != 0 : Should be 0\n",
      "\n",
      "======================================================================\n",
      "FAIL: runTest (mod.testing.test_operations.<locals>.TestKnown)\n",
      "----------------------------------------------------------------------\n",
      "Traceback (most recent call last):\n",
      "  File \"/home/ordovas/IRONHACK/labs/datamad1020/module-1/lab-functions/mod/testing.py\", line 78, in runTest\n",
      "    self.assertEqual(fn(*self.input), self.output, f\"Should be {self.output}\")\n",
      "AssertionError: None != 0 : Should be 0\n",
      "\n",
      "======================================================================\n",
      "FAIL: runTest (mod.testing.test_operations.<locals>.TestKnown)\n",
      "----------------------------------------------------------------------\n",
      "Traceback (most recent call last):\n",
      "  File \"/home/ordovas/IRONHACK/labs/datamad1020/module-1/lab-functions/mod/testing.py\", line 78, in runTest\n",
      "    self.assertEqual(fn(*self.input), self.output, f\"Should be {self.output}\")\n",
      "AssertionError: None != 0 : Should be 0\n",
      "\n",
      "======================================================================\n",
      "FAIL: runTest (mod.testing.test_operations.<locals>.TestKnown)\n",
      "----------------------------------------------------------------------\n",
      "Traceback (most recent call last):\n",
      "  File \"/home/ordovas/IRONHACK/labs/datamad1020/module-1/lab-functions/mod/testing.py\", line 78, in runTest\n",
      "    self.assertEqual(fn(*self.input), self.output, f\"Should be {self.output}\")\n",
      "AssertionError: None != -1665032224820428800 : Should be -1665032224820428800\n",
      "\n",
      "======================================================================\n",
      "FAIL: runTest (mod.testing.test_operations.<locals>.TestKnown)\n",
      "----------------------------------------------------------------------\n",
      "Traceback (most recent call last):\n",
      "  File \"/home/ordovas/IRONHACK/labs/datamad1020/module-1/lab-functions/mod/testing.py\", line 78, in runTest\n",
      "    self.assertEqual(fn(*self.input), self.output, f\"Should be {self.output}\")\n",
      "AssertionError: None != 0 : Should be 0\n",
      "\n",
      "======================================================================\n",
      "FAIL: runTest (mod.testing.test_operations.<locals>.TestKnown)\n",
      "----------------------------------------------------------------------\n",
      "Traceback (most recent call last):\n",
      "  File \"/home/ordovas/IRONHACK/labs/datamad1020/module-1/lab-functions/mod/testing.py\", line 78, in runTest\n",
      "    self.assertEqual(fn(*self.input), self.output, f\"Should be {self.output}\")\n",
      "AssertionError: None != 0 : Should be 0\n",
      "\n",
      "======================================================================\n",
      "FAIL: runTest (mod.testing.test_operations.<locals>.TestKnown)\n",
      "----------------------------------------------------------------------\n",
      "Traceback (most recent call last):\n",
      "  File \"/home/ordovas/IRONHACK/labs/datamad1020/module-1/lab-functions/mod/testing.py\", line 78, in runTest\n",
      "    self.assertEqual(fn(*self.input), self.output, f\"Should be {self.output}\")\n",
      "AssertionError: None != 0 : Should be 0\n",
      "\n",
      "======================================================================\n",
      "FAIL: runTest (mod.testing.test_operations.<locals>.TestKnown)\n",
      "----------------------------------------------------------------------\n",
      "Traceback (most recent call last):\n",
      "  File \"/home/ordovas/IRONHACK/labs/datamad1020/module-1/lab-functions/mod/testing.py\", line 78, in runTest\n",
      "    self.assertEqual(fn(*self.input), self.output, f\"Should be {self.output}\")\n",
      "AssertionError: None != 0 : Should be 0\n",
      "\n",
      "======================================================================\n",
      "FAIL: runTest (mod.testing.test_operations.<locals>.TestKnown)\n",
      "----------------------------------------------------------------------\n",
      "Traceback (most recent call last):\n",
      "  File \"/home/ordovas/IRONHACK/labs/datamad1020/module-1/lab-functions/mod/testing.py\", line 78, in runTest\n",
      "    self.assertEqual(fn(*self.input), self.output, f\"Should be {self.output}\")\n",
      "AssertionError: None != 0 : Should be 0\n",
      "\n",
      "======================================================================\n",
      "FAIL: runTest (mod.testing.test_operations.<locals>.TestKnown)\n",
      "----------------------------------------------------------------------\n",
      "Traceback (most recent call last):\n",
      "  File \"/home/ordovas/IRONHACK/labs/datamad1020/module-1/lab-functions/mod/testing.py\", line 78, in runTest\n",
      "    self.assertEqual(fn(*self.input), self.output, f\"Should be {self.output}\")\n",
      "AssertionError: None != 0 : Should be 0\n",
      "\n",
      "======================================================================\n",
      "FAIL: runTest (mod.testing.test_operations.<locals>.TestKnown)\n",
      "----------------------------------------------------------------------\n",
      "Traceback (most recent call last):\n",
      "  File \"/home/ordovas/IRONHACK/labs/datamad1020/module-1/lab-functions/mod/testing.py\", line 78, in runTest\n",
      "    self.assertEqual(fn(*self.input), self.output, f\"Should be {self.output}\")\n",
      "AssertionError: None != 0 : Should be 0\n",
      "\n",
      "======================================================================\n",
      "FAIL: runTest (mod.testing.test_operations.<locals>.TestKnown)\n",
      "----------------------------------------------------------------------\n",
      "Traceback (most recent call last):\n",
      "  File \"/home/ordovas/IRONHACK/labs/datamad1020/module-1/lab-functions/mod/testing.py\", line 78, in runTest\n",
      "    self.assertEqual(fn(*self.input), self.output, f\"Should be {self.output}\")\n",
      "AssertionError: None != 0 : Should be 0\n",
      "\n",
      "======================================================================\n",
      "FAIL: runTest (mod.testing.test_operations.<locals>.TestKnown)\n",
      "----------------------------------------------------------------------\n",
      "Traceback (most recent call last):\n",
      "  File \"/home/ordovas/IRONHACK/labs/datamad1020/module-1/lab-functions/mod/testing.py\", line 78, in runTest\n",
      "    self.assertEqual(fn(*self.input), self.output, f\"Should be {self.output}\")\n",
      "AssertionError: None != 0 : Should be 0\n",
      "\n",
      "======================================================================\n",
      "FAIL: runTest (mod.testing.test_operations.<locals>.TestKnown)\n",
      "----------------------------------------------------------------------\n",
      "Traceback (most recent call last):\n",
      "  File \"/home/ordovas/IRONHACK/labs/datamad1020/module-1/lab-functions/mod/testing.py\", line 78, in runTest\n",
      "    self.assertEqual(fn(*self.input), self.output, f\"Should be {self.output}\")\n",
      "AssertionError: None != 0 : Should be 0\n",
      "\n",
      "======================================================================\n",
      "FAIL: runTest (mod.testing.test_operations.<locals>.TestKnown)\n",
      "----------------------------------------------------------------------\n",
      "Traceback (most recent call last):\n",
      "  File \"/home/ordovas/IRONHACK/labs/datamad1020/module-1/lab-functions/mod/testing.py\", line 78, in runTest\n",
      "    self.assertEqual(fn(*self.input), self.output, f\"Should be {self.output}\")\n",
      "AssertionError: None != 0 : Should be 0\n",
      "\n",
      "======================================================================\n",
      "FAIL: runTest (mod.testing.test_operations.<locals>.TestKnown)\n",
      "----------------------------------------------------------------------\n",
      "Traceback (most recent call last):\n",
      "  File \"/home/ordovas/IRONHACK/labs/datamad1020/module-1/lab-functions/mod/testing.py\", line 78, in runTest\n",
      "    self.assertEqual(fn(*self.input), self.output, f\"Should be {self.output}\")\n",
      "AssertionError: None != 0 : Should be 0\n",
      "\n",
      "======================================================================\n",
      "FAIL: runTest (mod.testing.test_operations.<locals>.TestKnown)\n",
      "----------------------------------------------------------------------\n",
      "Traceback (most recent call last):\n",
      "  File \"/home/ordovas/IRONHACK/labs/datamad1020/module-1/lab-functions/mod/testing.py\", line 78, in runTest\n",
      "    self.assertEqual(fn(*self.input), self.output, f\"Should be {self.output}\")\n",
      "AssertionError: None != 0 : Should be 0\n",
      "\n",
      "======================================================================\n",
      "FAIL: runTest (mod.testing.test_operations.<locals>.TestKnown)\n",
      "----------------------------------------------------------------------\n",
      "Traceback (most recent call last):\n",
      "  File \"/home/ordovas/IRONHACK/labs/datamad1020/module-1/lab-functions/mod/testing.py\", line 78, in runTest\n",
      "    self.assertEqual(fn(*self.input), self.output, f\"Should be {self.output}\")\n",
      "AssertionError: None != 0 : Should be 0\n",
      "\n",
      "======================================================================\n",
      "FAIL: runTest (mod.testing.test_operations.<locals>.TestKnown)\n",
      "----------------------------------------------------------------------\n",
      "Traceback (most recent call last):\n",
      "  File \"/home/ordovas/IRONHACK/labs/datamad1020/module-1/lab-functions/mod/testing.py\", line 78, in runTest\n",
      "    self.assertEqual(fn(*self.input), self.output, f\"Should be {self.output}\")\n",
      "AssertionError: None != 0 : Should be 0\n",
      "\n",
      "======================================================================\n",
      "FAIL: runTest (mod.testing.test_operations.<locals>.TestKnown)\n",
      "----------------------------------------------------------------------\n",
      "Traceback (most recent call last):\n",
      "  File \"/home/ordovas/IRONHACK/labs/datamad1020/module-1/lab-functions/mod/testing.py\", line 78, in runTest\n",
      "    self.assertEqual(fn(*self.input), self.output, f\"Should be {self.output}\")\n",
      "AssertionError: None != -155878742943862157024254387814400000000000000000 : Should be -155878742943862157024254387814400000000000000000\n",
      "\n"
     ]
    },
    {
     "name": "stdout",
     "output_type": "stream",
     "text": [
      "Error\n",
      "Error\n",
      "Error\n",
      "Error\n",
      "Error\n",
      "Error\n",
      "Error\n",
      "Error\n",
      "Error\n",
      "Error\n",
      "Error\n",
      "Error\n",
      "Error\n",
      "Error\n",
      "Error\n",
      "Error\n",
      "Error\n",
      "Error\n",
      "Error\n",
      "Error\n",
      "Error\n",
      "Error\n",
      "Error\n",
      "Error\n",
      "Error\n",
      "Error\n",
      "Error\n",
      "Error\n",
      "Error\n",
      "Error\n",
      "Error\n",
      "Error\n",
      "Error\n",
      "Error\n",
      "Error\n",
      "Error\n",
      "Error\n",
      "Error\n",
      "Error\n",
      "Error\n",
      "Error\n",
      "Error\n",
      "Error\n",
      "Error\n",
      "Error\n",
      "Error\n",
      "Error\n",
      "Error\n",
      "Error\n",
      "Error\n",
      "Error\n",
      "Error\n",
      "Error\n",
      "Error\n",
      "Error\n"
     ]
    },
    {
     "name": "stderr",
     "output_type": "stream",
     "text": [
      "======================================================================\n",
      "FAIL: runTest (mod.testing.test_operations.<locals>.TestKnown)\n",
      "----------------------------------------------------------------------\n",
      "Traceback (most recent call last):\n",
      "  File \"/home/ordovas/IRONHACK/labs/datamad1020/module-1/lab-functions/mod/testing.py\", line 78, in runTest\n",
      "    self.assertEqual(fn(*self.input), self.output, f\"Should be {self.output}\")\n",
      "AssertionError: None != 8709120000 : Should be 8709120000\n",
      "\n",
      "======================================================================\n",
      "FAIL: runTest (mod.testing.test_operations.<locals>.TestKnown)\n",
      "----------------------------------------------------------------------\n",
      "Traceback (most recent call last):\n",
      "  File \"/home/ordovas/IRONHACK/labs/datamad1020/module-1/lab-functions/mod/testing.py\", line 78, in runTest\n",
      "    self.assertEqual(fn(*self.input), self.output, f\"Should be {self.output}\")\n",
      "AssertionError: None != 0 : Should be 0\n",
      "\n",
      "======================================================================\n",
      "FAIL: runTest (mod.testing.test_operations.<locals>.TestKnown)\n",
      "----------------------------------------------------------------------\n",
      "Traceback (most recent call last):\n",
      "  File \"/home/ordovas/IRONHACK/labs/datamad1020/module-1/lab-functions/mod/testing.py\", line 78, in runTest\n",
      "    self.assertEqual(fn(*self.input), self.output, f\"Should be {self.output}\")\n",
      "AssertionError: None != 0 : Should be 0\n",
      "\n",
      "======================================================================\n",
      "FAIL: runTest (mod.testing.test_operations.<locals>.TestKnown)\n",
      "----------------------------------------------------------------------\n",
      "Traceback (most recent call last):\n",
      "  File \"/home/ordovas/IRONHACK/labs/datamad1020/module-1/lab-functions/mod/testing.py\", line 78, in runTest\n",
      "    self.assertEqual(fn(*self.input), self.output, f\"Should be {self.output}\")\n",
      "AssertionError: None != 0 : Should be 0\n",
      "\n",
      "======================================================================\n",
      "FAIL: runTest (mod.testing.test_operations.<locals>.TestKnown)\n",
      "----------------------------------------------------------------------\n",
      "Traceback (most recent call last):\n",
      "  File \"/home/ordovas/IRONHACK/labs/datamad1020/module-1/lab-functions/mod/testing.py\", line 78, in runTest\n",
      "    self.assertEqual(fn(*self.input), self.output, f\"Should be {self.output}\")\n",
      "AssertionError: None != 3729520705199826999115461427200000000000000000000 : Should be 3729520705199826999115461427200000000000000000000\n",
      "\n",
      "======================================================================\n",
      "FAIL: runTest (mod.testing.test_operations.<locals>.TestKnown)\n",
      "----------------------------------------------------------------------\n",
      "Traceback (most recent call last):\n",
      "  File \"/home/ordovas/IRONHACK/labs/datamad1020/module-1/lab-functions/mod/testing.py\", line 78, in runTest\n",
      "    self.assertEqual(fn(*self.input), self.output, f\"Should be {self.output}\")\n",
      "AssertionError: None != 0 : Should be 0\n",
      "\n",
      "======================================================================\n",
      "FAIL: runTest (mod.testing.test_operations.<locals>.TestKnown)\n",
      "----------------------------------------------------------------------\n",
      "Traceback (most recent call last):\n",
      "  File \"/home/ordovas/IRONHACK/labs/datamad1020/module-1/lab-functions/mod/testing.py\", line 78, in runTest\n",
      "    self.assertEqual(fn(*self.input), self.output, f\"Should be {self.output}\")\n",
      "AssertionError: None != 0 : Should be 0\n",
      "\n",
      "======================================================================\n",
      "FAIL: runTest (mod.testing.test_operations.<locals>.TestKnown)\n",
      "----------------------------------------------------------------------\n",
      "Traceback (most recent call last):\n",
      "  File \"/home/ordovas/IRONHACK/labs/datamad1020/module-1/lab-functions/mod/testing.py\", line 78, in runTest\n",
      "    self.assertEqual(fn(*self.input), self.output, f\"Should be {self.output}\")\n",
      "AssertionError: None != -4777574400000 : Should be -4777574400000\n",
      "\n",
      "======================================================================\n",
      "FAIL: runTest (mod.testing.test_operations.<locals>.TestKnown)\n",
      "----------------------------------------------------------------------\n",
      "Traceback (most recent call last):\n",
      "  File \"/home/ordovas/IRONHACK/labs/datamad1020/module-1/lab-functions/mod/testing.py\", line 78, in runTest\n",
      "    self.assertEqual(fn(*self.input), self.output, f\"Should be {self.output}\")\n",
      "AssertionError: None != 0 : Should be 0\n",
      "\n",
      "======================================================================\n",
      "FAIL: runTest (mod.testing.test_operations.<locals>.TestKnown)\n",
      "----------------------------------------------------------------------\n",
      "Traceback (most recent call last):\n",
      "  File \"/home/ordovas/IRONHACK/labs/datamad1020/module-1/lab-functions/mod/testing.py\", line 78, in runTest\n",
      "    self.assertEqual(fn(*self.input), self.output, f\"Should be {self.output}\")\n",
      "AssertionError: None != -1512000000 : Should be -1512000000\n",
      "\n",
      "======================================================================\n",
      "FAIL: runTest (mod.testing.test_operations.<locals>.TestKnown)\n",
      "----------------------------------------------------------------------\n",
      "Traceback (most recent call last):\n",
      "  File \"/home/ordovas/IRONHACK/labs/datamad1020/module-1/lab-functions/mod/testing.py\", line 78, in runTest\n",
      "    self.assertEqual(fn(*self.input), self.output, f\"Should be {self.output}\")\n",
      "AssertionError: None != 0 : Should be 0\n",
      "\n",
      "======================================================================\n",
      "FAIL: runTest (mod.testing.test_operations.<locals>.TestKnown)\n",
      "----------------------------------------------------------------------\n",
      "Traceback (most recent call last):\n",
      "  File \"/home/ordovas/IRONHACK/labs/datamad1020/module-1/lab-functions/mod/testing.py\", line 78, in runTest\n",
      "    self.assertEqual(fn(*self.input), self.output, f\"Should be {self.output}\")\n",
      "AssertionError: None != 0 : Should be 0\n",
      "\n",
      "======================================================================\n",
      "FAIL: runTest (mod.testing.test_operations.<locals>.TestKnown)\n",
      "----------------------------------------------------------------------\n",
      "Traceback (most recent call last):\n",
      "  File \"/home/ordovas/IRONHACK/labs/datamad1020/module-1/lab-functions/mod/testing.py\", line 78, in runTest\n",
      "    self.assertEqual(fn(*self.input), self.output, f\"Should be {self.output}\")\n",
      "AssertionError: None != 0 : Should be 0\n",
      "\n",
      "======================================================================\n",
      "FAIL: runTest (mod.testing.test_operations.<locals>.TestKnown)\n",
      "----------------------------------------------------------------------\n",
      "Traceback (most recent call last):\n",
      "  File \"/home/ordovas/IRONHACK/labs/datamad1020/module-1/lab-functions/mod/testing.py\", line 78, in runTest\n",
      "    self.assertEqual(fn(*self.input), self.output, f\"Should be {self.output}\")\n",
      "AssertionError: None != -783820800000 : Should be -783820800000\n",
      "\n",
      "======================================================================\n",
      "FAIL: runTest (mod.testing.test_operations.<locals>.TestKnown)\n",
      "----------------------------------------------------------------------\n",
      "Traceback (most recent call last):\n",
      "  File \"/home/ordovas/IRONHACK/labs/datamad1020/module-1/lab-functions/mod/testing.py\", line 78, in runTest\n",
      "    self.assertEqual(fn(*self.input), self.output, f\"Should be {self.output}\")\n",
      "AssertionError: None != 0 : Should be 0\n",
      "\n",
      "======================================================================\n",
      "FAIL: runTest (mod.testing.test_operations.<locals>.TestKnown)\n",
      "----------------------------------------------------------------------\n",
      "Traceback (most recent call last):\n",
      "  File \"/home/ordovas/IRONHACK/labs/datamad1020/module-1/lab-functions/mod/testing.py\", line 78, in runTest\n",
      "    self.assertEqual(fn(*self.input), self.output, f\"Should be {self.output}\")\n",
      "AssertionError: None != 0 : Should be 0\n",
      "\n",
      "======================================================================\n",
      "FAIL: runTest (mod.testing.test_operations.<locals>.TestKnown)\n",
      "----------------------------------------------------------------------\n",
      "Traceback (most recent call last):\n",
      "  File \"/home/ordovas/IRONHACK/labs/datamad1020/module-1/lab-functions/mod/testing.py\", line 78, in runTest\n",
      "    self.assertEqual(fn(*self.input), self.output, f\"Should be {self.output}\")\n",
      "AssertionError: None != 0 : Should be 0\n",
      "\n",
      "======================================================================\n",
      "FAIL: runTest (mod.testing.test_operations.<locals>.TestKnown)\n",
      "----------------------------------------------------------------------\n",
      "Traceback (most recent call last):\n",
      "  File \"/home/ordovas/IRONHACK/labs/datamad1020/module-1/lab-functions/mod/testing.py\", line 78, in runTest\n",
      "    self.assertEqual(fn(*self.input), self.output, f\"Should be {self.output}\")\n",
      "AssertionError: None != -10668672000 : Should be -10668672000\n",
      "\n",
      "======================================================================\n",
      "FAIL: runTest (mod.testing.test_operations.<locals>.TestKnown)\n",
      "----------------------------------------------------------------------\n",
      "Traceback (most recent call last):\n",
      "  File \"/home/ordovas/IRONHACK/labs/datamad1020/module-1/lab-functions/mod/testing.py\", line 78, in runTest\n",
      "    self.assertEqual(fn(*self.input), self.output, f\"Should be {self.output}\")\n",
      "AssertionError: None != 0 : Should be 0\n",
      "\n",
      "======================================================================\n",
      "FAIL: runTest (mod.testing.test_operations.<locals>.TestKnown)\n",
      "----------------------------------------------------------------------\n",
      "Traceback (most recent call last):\n",
      "  File \"/home/ordovas/IRONHACK/labs/datamad1020/module-1/lab-functions/mod/testing.py\", line 78, in runTest\n",
      "    self.assertEqual(fn(*self.input), self.output, f\"Should be {self.output}\")\n",
      "AssertionError: None != 0 : Should be 0\n",
      "\n",
      "======================================================================\n",
      "FAIL: runTest (mod.testing.test_operations.<locals>.TestKnown)\n",
      "----------------------------------------------------------------------\n",
      "Traceback (most recent call last):\n",
      "  File \"/home/ordovas/IRONHACK/labs/datamad1020/module-1/lab-functions/mod/testing.py\", line 78, in runTest\n",
      "    self.assertEqual(fn(*self.input), self.output, f\"Should be {self.output}\")\n",
      "AssertionError: None != 0 : Should be 0\n",
      "\n",
      "======================================================================\n",
      "FAIL: runTest (mod.testing.test_operations.<locals>.TestKnown)\n",
      "----------------------------------------------------------------------\n",
      "Traceback (most recent call last):\n",
      "  File \"/home/ordovas/IRONHACK/labs/datamad1020/module-1/lab-functions/mod/testing.py\", line 78, in runTest\n",
      "    self.assertEqual(fn(*self.input), self.output, f\"Should be {self.output}\")\n",
      "AssertionError: None != 0 : Should be 0\n",
      "\n",
      "======================================================================\n",
      "FAIL: runTest (mod.testing.test_operations.<locals>.TestKnown)\n",
      "----------------------------------------------------------------------\n",
      "Traceback (most recent call last):\n",
      "  File \"/home/ordovas/IRONHACK/labs/datamad1020/module-1/lab-functions/mod/testing.py\", line 78, in runTest\n",
      "    self.assertEqual(fn(*self.input), self.output, f\"Should be {self.output}\")\n",
      "AssertionError: None != 0 : Should be 0\n",
      "\n",
      "======================================================================\n",
      "FAIL: runTest (mod.testing.test_operations.<locals>.TestKnown)\n",
      "----------------------------------------------------------------------\n",
      "Traceback (most recent call last):\n",
      "  File \"/home/ordovas/IRONHACK/labs/datamad1020/module-1/lab-functions/mod/testing.py\", line 78, in runTest\n",
      "    self.assertEqual(fn(*self.input), self.output, f\"Should be {self.output}\")\n",
      "AssertionError: None != 0 : Should be 0\n",
      "\n",
      "======================================================================\n",
      "FAIL: runTest (mod.testing.test_operations.<locals>.TestKnown)\n",
      "----------------------------------------------------------------------\n",
      "Traceback (most recent call last):\n",
      "  File \"/home/ordovas/IRONHACK/labs/datamad1020/module-1/lab-functions/mod/testing.py\", line 78, in runTest\n",
      "    self.assertEqual(fn(*self.input), self.output, f\"Should be {self.output}\")\n",
      "AssertionError: None != 0 : Should be 0\n",
      "\n",
      "======================================================================\n",
      "FAIL: runTest (mod.testing.test_operations.<locals>.TestKnown)\n",
      "----------------------------------------------------------------------\n",
      "Traceback (most recent call last):\n",
      "  File \"/home/ordovas/IRONHACK/labs/datamad1020/module-1/lab-functions/mod/testing.py\", line 78, in runTest\n",
      "    self.assertEqual(fn(*self.input), self.output, f\"Should be {self.output}\")\n",
      "AssertionError: None != 0 : Should be 0\n",
      "\n",
      "======================================================================\n",
      "FAIL: runTest (mod.testing.test_operations.<locals>.TestKnown)\n",
      "----------------------------------------------------------------------\n",
      "Traceback (most recent call last):\n",
      "  File \"/home/ordovas/IRONHACK/labs/datamad1020/module-1/lab-functions/mod/testing.py\", line 78, in runTest\n",
      "    self.assertEqual(fn(*self.input), self.output, f\"Should be {self.output}\")\n",
      "AssertionError: None != 0 : Should be 0\n",
      "\n",
      "----------------------------------------------------------------------\n",
      "Ran 100 tests in 0.201s\n",
      "\n",
      "FAILED (failures=55)\n"
     ]
    }
   ],
   "source": [
    "# This will test your function \n",
    "test_operations(oper_all)"
   ]
  },
  {
   "cell_type": "markdown",
   "metadata": {},
   "source": [
    "## 6. Write a function that returns the factorial of a number."
   ]
  },
  {
   "cell_type": "code",
   "execution_count": null,
   "metadata": {},
   "outputs": [],
   "source": [
    "def factorial(n):\n",
    "    pass"
   ]
  },
  {
   "cell_type": "code",
   "execution_count": null,
   "metadata": {},
   "outputs": [],
   "source": [
    "# This will test your function \n",
    "test_factorial(factorial)"
   ]
  },
  {
   "cell_type": "markdown",
   "metadata": {},
   "source": [
    "## 7. Write a function that takes a list and returns a list of the unique values.\n",
    "\n",
    "`NOTE: You cannot use set. 🤔`"
   ]
  },
  {
   "cell_type": "code",
   "execution_count": null,
   "metadata": {},
   "outputs": [],
   "source": [
    "def unique(arr):\n",
    "    pass"
   ]
  },
  {
   "cell_type": "code",
   "execution_count": null,
   "metadata": {},
   "outputs": [],
   "source": [
    "# This will test your function \n",
    "test_unique(unique)"
   ]
  },
  {
   "cell_type": "markdown",
   "metadata": {},
   "source": [
    "## 8. Write a function that returns the mode of a list, i.e.: the element that appears the most times.\n",
    "`NOTE: You should not use count... 🧐`"
   ]
  },
  {
   "cell_type": "code",
   "execution_count": null,
   "metadata": {},
   "outputs": [],
   "source": [
    "def mode_counter(arr):\n",
    "    pass"
   ]
  },
  {
   "cell_type": "code",
   "execution_count": null,
   "metadata": {},
   "outputs": [],
   "source": [
    "# This will test your function \n",
    "test_mode(mode_counter)"
   ]
  },
  {
   "cell_type": "markdown",
   "metadata": {},
   "source": [
    "## 9. Write a function that calculates the standard deviation of a list.\n",
    "`NOTE: Do not use any libraries or already built functions. 😉`"
   ]
  },
  {
   "cell_type": "code",
   "execution_count": null,
   "metadata": {},
   "outputs": [],
   "source": [
    "def st_dev(arr):\n",
    "    pass"
   ]
  },
  {
   "cell_type": "code",
   "execution_count": null,
   "metadata": {},
   "outputs": [],
   "source": [
    "# This will test your function \n",
    "test_stdev(st_dev)"
   ]
  },
  {
   "cell_type": "markdown",
   "metadata": {},
   "source": [
    "## 10. Write a function to check if a string is a pangram, i.e.: if it contains all the letters of the alphabet at least once."
   ]
  },
  {
   "cell_type": "code",
   "execution_count": null,
   "metadata": {},
   "outputs": [],
   "source": [
    "def pangram(string):\n",
    "    pass"
   ]
  },
  {
   "cell_type": "code",
   "execution_count": null,
   "metadata": {},
   "outputs": [],
   "source": [
    "# This will test your function \n",
    "test_pangram(pangram)"
   ]
  },
  {
   "cell_type": "markdown",
   "metadata": {},
   "source": [
    "## 11. Write a function that receives a string of comma separated words and returns a string of comma separated words sorted alphabetically.\n",
    "\n",
    "`NOTE: You may use sorted but not split and definitely no join! 🤪`"
   ]
  },
  {
   "cell_type": "code",
   "execution_count": null,
   "metadata": {},
   "outputs": [],
   "source": [
    "def sort_alpha(string):\n",
    "    pass"
   ]
  },
  {
   "cell_type": "code",
   "execution_count": null,
   "metadata": {},
   "outputs": [],
   "source": [
    "# This will test your function \n",
    "test_alpha(sort_alpha)"
   ]
  },
  {
   "cell_type": "markdown",
   "metadata": {},
   "source": [
    "## 12. Write a function to check if a given password is strong (at least 8 characters, at least one lower case, at least one upper case, at least one number and at least one special character). It should output True if strong and False if not.\n",
    "`Valid special characters: # @ ! $ % & ( ) ^ * [ ] { }`"
   ]
  },
  {
   "cell_type": "code",
   "execution_count": null,
   "metadata": {},
   "outputs": [],
   "source": [
    "def check_pass(string):\n",
    "    pass"
   ]
  },
  {
   "cell_type": "code",
   "execution_count": null,
   "metadata": {},
   "outputs": [],
   "source": [
    "# This will test your function \n",
    "test_pass(check_pass)"
   ]
  }
 ],
 "metadata": {
  "kernelspec": {
   "display_name": "Python 3",
   "language": "python",
   "name": "python3"
  },
  "language_info": {
   "codemirror_mode": {
    "name": "ipython",
    "version": 3
   },
   "file_extension": ".py",
   "mimetype": "text/x-python",
   "name": "python",
   "nbconvert_exporter": "python",
   "pygments_lexer": "ipython3",
   "version": "3.8.5"
  }
 },
 "nbformat": 4,
 "nbformat_minor": 4
}
