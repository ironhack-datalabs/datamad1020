{
 "cells": [
  {
   "cell_type": "markdown",
   "metadata": {},
   "source": [
    "# Before your start:\n",
    "- Read the README.md file\n",
    "- Comment as much as you can and use the resources (README.md file)\n",
    "- Happy learning!"
   ]
  },
  {
   "cell_type": "code",
   "execution_count": 259,
   "metadata": {},
   "outputs": [],
   "source": [
    "# import numpy and pandas\n",
    "import numpy as np\n",
    "import pandas as pd\n",
    "from scipy.stats import ttest_ind, ttest_1samp, sem, t\n",
    "from statsmodels.stats.proportion import proportions_ztest"
   ]
  },
  {
   "cell_type": "markdown",
   "metadata": {},
   "source": [
    "# Challenge 1 - Exploring the Data\n",
    "\n",
    "In this challenge, we will examine all salaries of employees of the City of Chicago. We will start by loading the dataset and examining its contents"
   ]
  },
  {
   "cell_type": "code",
   "execution_count": 3,
   "metadata": {},
   "outputs": [],
   "source": [
    "# Run this code:\n",
    "\n",
    "salaries = pd.read_csv('../Current_Employee_Names__Salaries__and_Position_Titles.csv')"
   ]
  },
  {
   "cell_type": "markdown",
   "metadata": {},
   "source": [
    "Examine the `salaries` dataset using the `head` function below."
   ]
  },
  {
   "cell_type": "code",
   "execution_count": 84,
   "metadata": {},
   "outputs": [
    {
     "data": {
      "text/html": [
       "<div>\n",
       "<style scoped>\n",
       "    .dataframe tbody tr th:only-of-type {\n",
       "        vertical-align: middle;\n",
       "    }\n",
       "\n",
       "    .dataframe tbody tr th {\n",
       "        vertical-align: top;\n",
       "    }\n",
       "\n",
       "    .dataframe thead th {\n",
       "        text-align: right;\n",
       "    }\n",
       "</style>\n",
       "<table border=\"1\" class=\"dataframe\">\n",
       "  <thead>\n",
       "    <tr style=\"text-align: right;\">\n",
       "      <th></th>\n",
       "      <th>Name</th>\n",
       "      <th>Job Titles</th>\n",
       "      <th>Department</th>\n",
       "      <th>Full or Part-Time</th>\n",
       "      <th>Salary or Hourly</th>\n",
       "      <th>Typical Hours</th>\n",
       "      <th>Annual Salary</th>\n",
       "      <th>Hourly Rate</th>\n",
       "    </tr>\n",
       "  </thead>\n",
       "  <tbody>\n",
       "    <tr>\n",
       "      <th>0</th>\n",
       "      <td>AARON,  JEFFERY M</td>\n",
       "      <td>SERGEANT</td>\n",
       "      <td>POLICE</td>\n",
       "      <td>F</td>\n",
       "      <td>Salary</td>\n",
       "      <td>NaN</td>\n",
       "      <td>101442.0</td>\n",
       "      <td>NaN</td>\n",
       "    </tr>\n",
       "    <tr>\n",
       "      <th>1</th>\n",
       "      <td>AARON,  KARINA</td>\n",
       "      <td>POLICE OFFICER (ASSIGNED AS DETECTIVE)</td>\n",
       "      <td>POLICE</td>\n",
       "      <td>F</td>\n",
       "      <td>Salary</td>\n",
       "      <td>NaN</td>\n",
       "      <td>94122.0</td>\n",
       "      <td>NaN</td>\n",
       "    </tr>\n",
       "    <tr>\n",
       "      <th>2</th>\n",
       "      <td>AARON,  KIMBERLEI R</td>\n",
       "      <td>CHIEF CONTRACT EXPEDITER</td>\n",
       "      <td>GENERAL SERVICES</td>\n",
       "      <td>F</td>\n",
       "      <td>Salary</td>\n",
       "      <td>NaN</td>\n",
       "      <td>101592.0</td>\n",
       "      <td>NaN</td>\n",
       "    </tr>\n",
       "    <tr>\n",
       "      <th>3</th>\n",
       "      <td>ABAD JR,  VICENTE M</td>\n",
       "      <td>CIVIL ENGINEER IV</td>\n",
       "      <td>WATER MGMNT</td>\n",
       "      <td>F</td>\n",
       "      <td>Salary</td>\n",
       "      <td>NaN</td>\n",
       "      <td>110064.0</td>\n",
       "      <td>NaN</td>\n",
       "    </tr>\n",
       "    <tr>\n",
       "      <th>4</th>\n",
       "      <td>ABASCAL,  REECE E</td>\n",
       "      <td>TRAFFIC CONTROL AIDE-HOURLY</td>\n",
       "      <td>OEMC</td>\n",
       "      <td>P</td>\n",
       "      <td>Hourly</td>\n",
       "      <td>20.0</td>\n",
       "      <td>NaN</td>\n",
       "      <td>19.86</td>\n",
       "    </tr>\n",
       "    <tr>\n",
       "      <th>5</th>\n",
       "      <td>ABBASI,  CHRISTOPHER</td>\n",
       "      <td>STAFF ASST TO THE ALDERMAN</td>\n",
       "      <td>CITY COUNCIL</td>\n",
       "      <td>F</td>\n",
       "      <td>Salary</td>\n",
       "      <td>NaN</td>\n",
       "      <td>50436.0</td>\n",
       "      <td>NaN</td>\n",
       "    </tr>\n",
       "    <tr>\n",
       "      <th>6</th>\n",
       "      <td>ABBATACOLA,  ROBERT J</td>\n",
       "      <td>ELECTRICAL MECHANIC</td>\n",
       "      <td>AVIATION</td>\n",
       "      <td>F</td>\n",
       "      <td>Hourly</td>\n",
       "      <td>40.0</td>\n",
       "      <td>NaN</td>\n",
       "      <td>46.10</td>\n",
       "    </tr>\n",
       "    <tr>\n",
       "      <th>7</th>\n",
       "      <td>ABBATE,  JOSEPH L</td>\n",
       "      <td>POOL MOTOR TRUCK DRIVER</td>\n",
       "      <td>STREETS &amp; SAN</td>\n",
       "      <td>F</td>\n",
       "      <td>Hourly</td>\n",
       "      <td>40.0</td>\n",
       "      <td>NaN</td>\n",
       "      <td>35.60</td>\n",
       "    </tr>\n",
       "    <tr>\n",
       "      <th>8</th>\n",
       "      <td>ABBATEMARCO,  JAMES J</td>\n",
       "      <td>FIRE ENGINEER-EMT</td>\n",
       "      <td>FIRE</td>\n",
       "      <td>F</td>\n",
       "      <td>Salary</td>\n",
       "      <td>NaN</td>\n",
       "      <td>103350.0</td>\n",
       "      <td>NaN</td>\n",
       "    </tr>\n",
       "    <tr>\n",
       "      <th>9</th>\n",
       "      <td>ABBATE,  TERRY M</td>\n",
       "      <td>POLICE OFFICER</td>\n",
       "      <td>POLICE</td>\n",
       "      <td>F</td>\n",
       "      <td>Salary</td>\n",
       "      <td>NaN</td>\n",
       "      <td>93354.0</td>\n",
       "      <td>NaN</td>\n",
       "    </tr>\n",
       "  </tbody>\n",
       "</table>\n",
       "</div>"
      ],
      "text/plain": [
       "                    Name                              Job Titles  \\\n",
       "0      AARON,  JEFFERY M                                SERGEANT   \n",
       "1        AARON,  KARINA   POLICE OFFICER (ASSIGNED AS DETECTIVE)   \n",
       "2    AARON,  KIMBERLEI R                CHIEF CONTRACT EXPEDITER   \n",
       "3    ABAD JR,  VICENTE M                       CIVIL ENGINEER IV   \n",
       "4      ABASCAL,  REECE E             TRAFFIC CONTROL AIDE-HOURLY   \n",
       "5  ABBASI,  CHRISTOPHER               STAFF ASST TO THE ALDERMAN   \n",
       "6  ABBATACOLA,  ROBERT J                     ELECTRICAL MECHANIC   \n",
       "7     ABBATE,  JOSEPH L                  POOL MOTOR TRUCK DRIVER   \n",
       "8  ABBATEMARCO,  JAMES J                       FIRE ENGINEER-EMT   \n",
       "9       ABBATE,  TERRY M                          POLICE OFFICER   \n",
       "\n",
       "         Department Full or Part-Time Salary or Hourly  Typical Hours  \\\n",
       "0            POLICE                 F           Salary            NaN   \n",
       "1            POLICE                 F           Salary            NaN   \n",
       "2  GENERAL SERVICES                 F           Salary            NaN   \n",
       "3       WATER MGMNT                 F           Salary            NaN   \n",
       "4              OEMC                 P           Hourly           20.0   \n",
       "5      CITY COUNCIL                 F           Salary            NaN   \n",
       "6          AVIATION                 F           Hourly           40.0   \n",
       "7     STREETS & SAN                 F           Hourly           40.0   \n",
       "8              FIRE                 F           Salary            NaN   \n",
       "9            POLICE                 F           Salary            NaN   \n",
       "\n",
       "   Annual Salary  Hourly Rate  \n",
       "0       101442.0          NaN  \n",
       "1        94122.0          NaN  \n",
       "2       101592.0          NaN  \n",
       "3       110064.0          NaN  \n",
       "4            NaN        19.86  \n",
       "5        50436.0          NaN  \n",
       "6            NaN        46.10  \n",
       "7            NaN        35.60  \n",
       "8       103350.0          NaN  \n",
       "9        93354.0          NaN  "
      ]
     },
     "execution_count": 84,
     "metadata": {},
     "output_type": "execute_result"
    }
   ],
   "source": [
    "salaries.head(10)"
   ]
  },
  {
   "cell_type": "markdown",
   "metadata": {},
   "source": [
    "We see from looking at the `head` function that there is quite a bit of missing data. Let's examine how much missing data is in each column. Produce this output in the cell below"
   ]
  },
  {
   "cell_type": "code",
   "execution_count": 38,
   "metadata": {},
   "outputs": [
    {
     "data": {
      "text/plain": [
       "Name                     0\n",
       "Job Titles               0\n",
       "Department               0\n",
       "Full or Part-Time        0\n",
       "Salary or Hourly         0\n",
       "Typical Hours        25161\n",
       "Annual Salary         8022\n",
       "Hourly Rate          25161\n",
       "dtype: int64"
      ]
     },
     "execution_count": 38,
     "metadata": {},
     "output_type": "execute_result"
    }
   ],
   "source": [
    "# Your code here:\n",
    "salaries.isna().sum()"
   ]
  },
  {
   "cell_type": "markdown",
   "metadata": {},
   "source": [
    "Let's also look at the count of hourly vs. salaried employees. Write the code in the cell below"
   ]
  },
  {
   "cell_type": "code",
   "execution_count": 8,
   "metadata": {},
   "outputs": [
    {
     "data": {
      "text/plain": [
       "8022"
      ]
     },
     "execution_count": 8,
     "metadata": {},
     "output_type": "execute_result"
    }
   ],
   "source": [
    "salaries['Hourly Rate'].count()"
   ]
  },
  {
   "cell_type": "code",
   "execution_count": 10,
   "metadata": {},
   "outputs": [
    {
     "data": {
      "text/plain": [
       "33183"
      ]
     },
     "execution_count": 10,
     "metadata": {},
     "output_type": "execute_result"
    }
   ],
   "source": [
    "salaries['Salary or Hourly'].count()"
   ]
  },
  {
   "cell_type": "markdown",
   "metadata": {},
   "source": [
    "What this information indicates is that the table contains information about two types of employees - salaried and hourly. Some columns apply only to one type of employee while other columns only apply to another kind. This is why there are so many missing values. Therefore, we will not do anything to handle the missing values."
   ]
  },
  {
   "cell_type": "markdown",
   "metadata": {},
   "source": [
    "There are different departments in the city. List all departments and the count of employees in each department."
   ]
  },
  {
   "cell_type": "code",
   "execution_count": 35,
   "metadata": {},
   "outputs": [
    {
     "data": {
      "text/plain": [
       "Department\n",
       "ADMIN HEARNG                39\n",
       "ANIMAL CONTRL               81\n",
       "AVIATION                  1629\n",
       "BOARD OF ELECTION          107\n",
       "BOARD OF ETHICS              8\n",
       "BUDGET & MGMT               46\n",
       "BUILDINGS                  269\n",
       "BUSINESS AFFAIRS           171\n",
       "CITY CLERK                  84\n",
       "CITY COUNCIL               411\n",
       "COMMUNITY DEVELOPMENT      207\n",
       "COPA                       116\n",
       "CULTURAL AFFAIRS            65\n",
       "DISABILITIES                28\n",
       "DoIT                        99\n",
       "FAMILY & SUPPORT           615\n",
       "FINANCE                    560\n",
       "FIRE                      4641\n",
       "GENERAL SERVICES           980\n",
       "HEALTH                     488\n",
       "HUMAN RELATIONS             16\n",
       "HUMAN RESOURCES             79\n",
       "INSPECTOR GEN               87\n",
       "LAW                        407\n",
       "LICENSE APPL COMM            1\n",
       "MAYOR'S OFFICE              85\n",
       "OEMC                      2102\n",
       "POLICE                   13414\n",
       "POLICE BOARD                 2\n",
       "PROCUREMENT                 92\n",
       "PUBLIC LIBRARY            1015\n",
       "STREETS & SAN             2198\n",
       "TRANSPORTN                1140\n",
       "TREASURER                   22\n",
       "WATER MGMNT               1879\n",
       "Name: Name, dtype: int64"
      ]
     },
     "execution_count": 35,
     "metadata": {},
     "output_type": "execute_result"
    }
   ],
   "source": [
    "# Your code here:\n",
    "salaries.groupby('Department').count()['Name']"
   ]
  },
  {
   "cell_type": "markdown",
   "metadata": {},
   "source": [
    "# Challenge 2 - Hypothesis Tests\n",
    "\n",
    "In this section of the lab, we will test whether the hourly wage of all hourly workers is significantly different from $30/hr. Import the correct one sample test function from scipy and perform the hypothesis test for a 95% two sided confidence interval."
   ]
  },
  {
   "cell_type": "code",
   "execution_count": 96,
   "metadata": {},
   "outputs": [
    {
     "data": {
      "text/plain": [
       "32.78855771628024"
      ]
     },
     "execution_count": 96,
     "metadata": {},
     "output_type": "execute_result"
    }
   ],
   "source": [
    "salaries[salaries['Hourly Rate'].notna()]['Hourly Rate'].mean()"
   ]
  },
  {
   "cell_type": "code",
   "execution_count": 177,
   "metadata": {},
   "outputs": [
    {
     "name": "stdout",
     "output_type": "stream",
     "text": [
      "Null hypothesis may be rejected, the hourly wage is significantly different from $30/hr.\n"
     ]
    }
   ],
   "source": [
    "# Your code here:\n",
    "hourly_rate_t=salaries[salaries['Hourly Rate'].notna()]['Hourly Rate']\n",
    "p_value=ttest_1samp(hourly_rate_t,30)[1]\n",
    "alpha=0.05        \n",
    "if p_value < alpha:\n",
    "    print(\"Null hypothesis may be rejected, the hourly wage is significantly different from $30/hr.\")\n",
    "else:\n",
    "    print(\"Null hypothesis may not be rejected, the hourly wage is not significantly different from $30/hr.\")"
   ]
  },
  {
   "cell_type": "markdown",
   "metadata": {},
   "source": [
    "We are also curious about salaries in the police force. The chief of police in Chicago claimed in a press briefing that salaries this year are higher than last year's mean of $86000/year a year for all salaried employees. Test this one sided hypothesis using a 95% confidence interval.\n",
    "\n",
    "Hint: A one tailed test has a p-value that is half of the two tailed p-value. If our hypothesis is greater than, then to reject, the test statistic must also be positive."
   ]
  },
  {
   "cell_type": "code",
   "execution_count": 156,
   "metadata": {},
   "outputs": [
    {
     "data": {
      "text/plain": [
       "86486.41450313339"
      ]
     },
     "execution_count": 156,
     "metadata": {},
     "output_type": "execute_result"
    }
   ],
   "source": [
    "salaries[salaries['Department']=='POLICE']['Annual Salary'].dropna().mean()"
   ]
  },
  {
   "cell_type": "code",
   "execution_count": 230,
   "metadata": {},
   "outputs": [
    {
     "data": {
      "text/plain": [
       "Ttest_1sampResult(statistic=-85.62415341133038, pvalue=0.0)"
      ]
     },
     "execution_count": 230,
     "metadata": {},
     "output_type": "execute_result"
    }
   ],
   "source": [
    "annual_salary_t=salaries[salaries['Department']=='POLICE']['Annual Salary'].dropna()\n",
    "ttest_1samp(annual_salary_t,100000)"
   ]
  },
  {
   "cell_type": "code",
   "execution_count": 207,
   "metadata": {},
   "outputs": [
    {
     "name": "stdout",
     "output_type": "stream",
     "text": [
      "Null hypothesis may be rejected. The salary is greater than the last year.\n"
     ]
    }
   ],
   "source": [
    "# Your code here:\n",
    "annual_salary_t=salaries[salaries['Department']=='POLICE']['Annual Salary'].dropna()\n",
    "statistic=ttest_1samp(annual_salary_t,86000)[0]\n",
    "p_value=ttest_1samp(annual_salary_t,86000)[1]\n",
    "alpha=0.05\n",
    "if p_value/2 < alpha and statistic>0:\n",
    "    print(\"Null hypothesis may be rejected. The salary is greater than the last year.\")\n",
    "else:\n",
    "    print(\"Null hypothesis may not be rejected. The salary is equal than the last year.\")"
   ]
  },
  {
   "cell_type": "markdown",
   "metadata": {},
   "source": [
    "Using the `crosstab` function, find the department that has the most hourly workers. "
   ]
  },
  {
   "cell_type": "code",
   "execution_count": 202,
   "metadata": {},
   "outputs": [
    {
     "data": {
      "text/html": [
       "<div>\n",
       "<style scoped>\n",
       "    .dataframe tbody tr th:only-of-type {\n",
       "        vertical-align: middle;\n",
       "    }\n",
       "\n",
       "    .dataframe tbody tr th {\n",
       "        vertical-align: top;\n",
       "    }\n",
       "\n",
       "    .dataframe thead th {\n",
       "        text-align: right;\n",
       "    }\n",
       "</style>\n",
       "<table border=\"1\" class=\"dataframe\">\n",
       "  <thead>\n",
       "    <tr style=\"text-align: right;\">\n",
       "      <th>Salary or Hourly</th>\n",
       "      <th>Hourly</th>\n",
       "      <th>Salary</th>\n",
       "    </tr>\n",
       "    <tr>\n",
       "      <th>Department</th>\n",
       "      <th></th>\n",
       "      <th></th>\n",
       "    </tr>\n",
       "  </thead>\n",
       "  <tbody>\n",
       "    <tr>\n",
       "      <th>STREETS &amp; SAN</th>\n",
       "      <td>1862</td>\n",
       "      <td>336</td>\n",
       "    </tr>\n",
       "  </tbody>\n",
       "</table>\n",
       "</div>"
      ],
      "text/plain": [
       "Salary or Hourly  Hourly  Salary\n",
       "Department                      \n",
       "STREETS & SAN       1862     336"
      ]
     },
     "execution_count": 202,
     "metadata": {},
     "output_type": "execute_result"
    }
   ],
   "source": [
    "# Your code here:\n",
    "hourly_salary=pd.crosstab(salaries['Department'],salaries['Salary or Hourly'])\n",
    "hourly_salary.sort_values(['Hourly'],ascending=False).head(1)"
   ]
  },
  {
   "cell_type": "markdown",
   "metadata": {},
   "source": [
    "The workers from the department with the most hourly workers have complained that their hourly wage is less than $35/hour. Using a one sample t-test, test this one-sided hypothesis at the 95% confidence level."
   ]
  },
  {
   "cell_type": "code",
   "execution_count": 203,
   "metadata": {},
   "outputs": [
    {
     "data": {
      "text/plain": [
       "33.72837808807734"
      ]
     },
     "execution_count": 203,
     "metadata": {},
     "output_type": "execute_result"
    }
   ],
   "source": [
    "# Your code here:\n",
    "salaries[salaries['Department']=='STREETS & SAN']['Hourly Rate'].dropna().mean()"
   ]
  },
  {
   "cell_type": "code",
   "execution_count": 225,
   "metadata": {},
   "outputs": [
    {
     "data": {
      "text/plain": [
       "5.735241841459235"
      ]
     },
     "execution_count": 225,
     "metadata": {},
     "output_type": "execute_result"
    }
   ],
   "source": [
    "salaries[salaries['Department']=='STREETS & SAN']['Hourly Rate'].dropna().std()"
   ]
  },
  {
   "cell_type": "code",
   "execution_count": 232,
   "metadata": {},
   "outputs": [
    {
     "data": {
      "text/plain": [
       "Ttest_1sampResult(statistic=-9.567447887848152, pvalue=3.3378530564707717e-21)"
      ]
     },
     "execution_count": 232,
     "metadata": {},
     "output_type": "execute_result"
    }
   ],
   "source": [
    "hourly_wage_t=salaries[salaries['Department']=='STREETS & SAN']['Hourly Rate'].dropna()\n",
    "ttest_1samp(hourly_wage_t,35)"
   ]
  },
  {
   "cell_type": "code",
   "execution_count": 233,
   "metadata": {},
   "outputs": [
    {
     "name": "stdout",
     "output_type": "stream",
     "text": [
      "Null hypothesis may be rejected. The salary is greater than last year.\n"
     ]
    }
   ],
   "source": [
    "hourly_wage_t=salaries[salaries['Department']=='STREETS & SAN']['Hourly Rate'].dropna()\n",
    "statistic=ttest_1samp(annual_salary_t,35)[0]\n",
    "p_value=ttest_1samp(annual_salary_t,35)[1]\n",
    "alpha=0.05\n",
    "if p_value/2 < alpha:\n",
    "    print(\"Null hypothesis may be rejected. The salary is greater than last year.\")\n",
    "else:\n",
    "    print(\"Null hypothesis may not be rejected. The salary is equal than last year.\")"
   ]
  },
  {
   "cell_type": "markdown",
   "metadata": {},
   "source": [
    "# Challenge 3 - Constructing Confidence Intervals\n",
    "\n",
    "While testing our hypothesis is a great way to gather empirical evidence for accepting or rejecting the hypothesis, another way to gather evidence is by creating a confidence interval. A confidence interval gives us information about the true mean of the population. So for a 95% confidence interval, we are 95% sure that the mean of the population is within the confidence interval. \n",
    ").\n",
    "\n",
    "To read more about confidence intervals, click [here](https://en.wikipedia.org/wiki/Confidence_interval).\n",
    "\n",
    "\n",
    "In the cell below, we will construct a 95% confidence interval for the mean hourly wage of all hourly workers. \n",
    "\n",
    "The confidence interval is computed in SciPy using the `t.interval` function. You can read more about this function [here](https://docs.scipy.org/doc/scipy-0.14.0/reference/generated/scipy.stats.t.html).\n",
    "\n",
    "To compute the confidence interval of the hourly wage, use the 0.95 for the confidence level, number of rows - 1 for degrees of freedom, the mean of the sample for the location parameter and the standard error for the scale. The standard error can be computed using [this](https://docs.scipy.org/doc/scipy/reference/generated/scipy.stats.sem.html) function in SciPy."
   ]
  },
  {
   "cell_type": "code",
   "execution_count": 256,
   "metadata": {},
   "outputs": [
    {
     "data": {
      "text/plain": [
       "(9.046248541993936, 56.53086689056654)"
      ]
     },
     "execution_count": 256,
     "metadata": {},
     "output_type": "execute_result"
    }
   ],
   "source": [
    "# Your code here:\n",
    "hourly_wage=salaries[salaries['Hourly Rate'].notna()]['Hourly Rate']\n",
    "deg_free=len(hourly_wage)-1\n",
    "std_error=sem(hourly_wage, ddof=deg_free)\n",
    "mean=hourly_wage.mean()\n",
    "t.interval(.95, deg_free, mean, std_error)"
   ]
  },
  {
   "cell_type": "markdown",
   "metadata": {},
   "source": [
    "Now construct the 95% confidence interval for all salaried employeed in the police in the cell below."
   ]
  },
  {
   "cell_type": "code",
   "execution_count": 257,
   "metadata": {},
   "outputs": [
    {
     "data": {
      "text/plain": [
       "(50671.60678895816, 122301.22221730862)"
      ]
     },
     "execution_count": 257,
     "metadata": {},
     "output_type": "execute_result"
    }
   ],
   "source": [
    "# Your code here:\n",
    "annual_salary=salaries[salaries['Department']=='POLICE']['Annual Salary'].dropna()\n",
    "deg_free=len(annual_salary)-1\n",
    "std_error=sem(annual_salary, ddof=deg_free)\n",
    "mean=annual_salary.mean()\n",
    "t.interval(.95, deg_free, mean, std_error)"
   ]
  },
  {
   "cell_type": "markdown",
   "metadata": {},
   "source": [
    "# Challenge 4 - Hypothesis Tests of Proportions\n",
    "\n",
    "Another type of one sample test is a hypothesis test of proportions. In this test, we examine whether the proportion of a group in our sample is significantly different than a fraction. \n",
    "\n",
    "You can read more about one sample proportion tests [here](http://sphweb.bumc.bu.edu/otlt/MPH-Modules/BS/SAS/SAS6-CategoricalData/SAS6-CategoricalData2.html).\n",
    "\n",
    "In the cell below, use the `proportions_ztest` function from `statsmodels` to perform a hypothesis test that will determine whether the number of hourly workers in the City of Chicago is significantly different from 25% at the 95% confidence level."
   ]
  },
  {
   "cell_type": "code",
   "execution_count": 273,
   "metadata": {},
   "outputs": [
    {
     "name": "stdout",
     "output_type": "stream",
     "text": [
      "Null hypothesis may be rejected. The hourly salary percentage is greater than 25%.\n"
     ]
    }
   ],
   "source": [
    "# Your code here:\n",
    "hourly=hourly_salary['Hourly'].sum()\n",
    "n=len(salaries['Salary or Hourly'])\n",
    "zstat=proportions_ztest(hourly, n, 0.25)[0]\n",
    "p_value=proportions_ztest(hourly, n, 0.25)[1]\n",
    "proportions_ztest(hourly, n, 0.25)\n",
    "alpha=0.05\n",
    "if p_value < alpha and zstat < 0:\n",
    "    print(\"Null hypothesis may be rejected. The hourly salary percentage is greater than 25%.\")\n",
    "else:\n",
    "    print(\"Null hypothesis may not be rejected. The salary is equal to 25%.\")"
   ]
  }
 ],
 "metadata": {
  "kernelspec": {
   "display_name": "Python 3",
   "language": "python",
   "name": "python3"
  },
  "language_info": {
   "codemirror_mode": {
    "name": "ipython",
    "version": 3
   },
   "file_extension": ".py",
   "mimetype": "text/x-python",
   "name": "python",
   "nbconvert_exporter": "python",
   "pygments_lexer": "ipython3",
   "version": "3.8.6"
  }
 },
 "nbformat": 4,
 "nbformat_minor": 2
}
