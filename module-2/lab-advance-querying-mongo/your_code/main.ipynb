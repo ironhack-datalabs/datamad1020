{
 "cells": [
  {
   "cell_type": "markdown",
   "metadata": {},
   "source": [
    "# Advanced Querying Mongo"
   ]
  },
  {
   "cell_type": "markdown",
   "metadata": {},
   "source": [
    "Importing libraries and setting up connection"
   ]
  },
  {
   "cell_type": "code",
   "execution_count": 1,
   "metadata": {},
   "outputs": [],
   "source": [
    "from pymongo import MongoClient\n",
    "client = MongoClient()"
   ]
  },
  {
   "cell_type": "code",
   "execution_count": 2,
   "metadata": {},
   "outputs": [],
   "source": [
    "db = client.get_database(\"companies\")"
   ]
  },
  {
   "cell_type": "markdown",
   "metadata": {},
   "source": [
    "### 1. All the companies whose name match 'Babelgum'. Retrieve only their `name` field."
   ]
  },
  {
   "cell_type": "code",
   "execution_count": 3,
   "metadata": {},
   "outputs": [
    {
     "name": "stdout",
     "output_type": "stream",
     "text": [
      "[{'_id': ObjectId('52cdef7c4bab8bd675297da0'), 'name': 'Babelgum'}]\n"
     ]
    }
   ],
   "source": [
    "e1 = list(db.companies.find({\"name\":\"Babelgum\"},{\"name\":1}))\n",
    "print(e1)"
   ]
  },
  {
   "cell_type": "markdown",
   "metadata": {},
   "source": [
    "### 2. All the companies that have more than 5000 employees. Limit the search to 20 companies and sort them by **number of employees**."
   ]
  },
  {
   "cell_type": "code",
   "execution_count": 19,
   "metadata": {},
   "outputs": [
    {
     "name": "stdout",
     "output_type": "stream",
     "text": [
      "20\n"
     ]
    }
   ],
   "source": [
    "e2 = list(db.companies.find({\"number_of_employees\":{\"$gt\":500}}\n",
    "                         ).sort([(\"number_of_employees\",1)]).limit(20))\n",
    "\n",
    "#I only print the length of the query, to prevent a monstruous print\n",
    "print(len(e2))"
   ]
  },
  {
   "cell_type": "markdown",
   "metadata": {},
   "source": [
    "### 3. All the companies founded between 2000 and 2005, both years included. Retrieve only the `name` and `founded_year` fields."
   ]
  },
  {
   "cell_type": "code",
   "execution_count": 5,
   "metadata": {},
   "outputs": [
    {
     "name": "stdout",
     "output_type": "stream",
     "text": [
      "[{'_id': ObjectId('52cdef7c4bab8bd675297d8a'), 'name': 'Wetpaint', 'founded_year': 2005}, {'_id': ObjectId('52cdef7c4bab8bd675297d8c'), 'name': 'Zoho', 'founded_year': 2005}, {'_id': ObjectId('52cdef7c4bab8bd675297d8f'), 'name': 'Omnidrive', 'founded_year': 2005}]\n"
     ]
    }
   ],
   "source": [
    "e3 = list(db.companies.find({\"founded_year\":{\"$gte\":2000, \"$lte\":2005}},\n",
    "                    {\"name\":1,\"founded_year\":1}))\n",
    "\n",
    "#To check, I only print the first 3\n",
    "print(e3[:3])"
   ]
  },
  {
   "cell_type": "markdown",
   "metadata": {},
   "source": [
    "### 4. All the companies that had a Valuation Amount of more than 100.000.000 and have been founded before 2010. Retrieve only the `name` and `ipo` fields."
   ]
  },
  {
   "cell_type": "code",
   "execution_count": 6,
   "metadata": {},
   "outputs": [
    {
     "name": "stdout",
     "output_type": "stream",
     "text": [
      "42\n"
     ]
    }
   ],
   "source": [
    "filter_q = {\"founded_year\":{\"$lt\":2010},\"ipo.valuation_amount\":{\"$gt\":100000000} }\n",
    "project_q = {\"name\":1,\"ipo\":1}\n",
    "e4 = list(db.companies.find(filter_q,project_q ))\n",
    "\n",
    "print(len(e4))"
   ]
  },
  {
   "cell_type": "markdown",
   "metadata": {},
   "source": [
    "### 5. All the companies that have less than 1000 employees and have been founded before 2005. Order them by the number of employees and limit the search to 10 companies."
   ]
  },
  {
   "cell_type": "code",
   "execution_count": 7,
   "metadata": {},
   "outputs": [
    {
     "name": "stdout",
     "output_type": "stream",
     "text": [
      "Fox Interactive Media 0 1979\n",
      "Skype 0 2003\n",
      "Ticketmaster 0 1976\n",
      "stylediary 0 2004\n",
      "MindTouch 0 2004\n",
      "Simpy 0 2004\n",
      "Eurekster 0 2004\n",
      "Compete 0 2000\n",
      "EditGrid 0 2003\n",
      "Monster 0 1994\n"
     ]
    }
   ],
   "source": [
    "filter_q = {\"founded_year\":{\"$lt\":2005},\"number_of_employees\":{\"$lt\":1000} }\n",
    "sort_q = [(\"number_of_employees\",1)]\n",
    "e5 = list(db.companies.find(filter_q).sort(sort_q).limit(10))\n",
    "\n",
    "#Printing the name, employee number and year of foundation of the selection\n",
    "for i in e5:\n",
    "    print(i[\"name\"],i[\"number_of_employees\"],i[\"founded_year\"])"
   ]
  },
  {
   "cell_type": "markdown",
   "metadata": {},
   "source": [
    "### 6. All the companies that don't include the `partners` field."
   ]
  },
  {
   "cell_type": "code",
   "execution_count": 8,
   "metadata": {},
   "outputs": [
    {
     "name": "stdout",
     "output_type": "stream",
     "text": [
      "18801\n"
     ]
    }
   ],
   "source": [
    "filter_q = {\"partners\":{\"$ne\":None} }\n",
    "e6 = list(db.companies.find(filter_q))\n",
    "print(len(e6))"
   ]
  },
  {
   "cell_type": "markdown",
   "metadata": {},
   "source": [
    "### 7. All the companies that have a null type of value on the `category_code` field."
   ]
  },
  {
   "cell_type": "code",
   "execution_count": 9,
   "metadata": {},
   "outputs": [
    {
     "name": "stdout",
     "output_type": "stream",
     "text": [
      "16050\n"
     ]
    }
   ],
   "source": [
    "filter_q = {\"category_code\":{\"$ne\":None} }\n",
    "e7 = list(db.companies.find(filter_q))\n",
    "print(len(e7))"
   ]
  },
  {
   "cell_type": "markdown",
   "metadata": {},
   "source": [
    "### 8. All the companies that have at least 100 employees but less than 1000. Retrieve only the `name` and `number of employees` fields."
   ]
  },
  {
   "cell_type": "code",
   "execution_count": 10,
   "metadata": {},
   "outputs": [
    {
     "name": "stdout",
     "output_type": "stream",
     "text": [
      "917\n"
     ]
    }
   ],
   "source": [
    "filter_q = {\"number_of_employees\":{\"$gte\":100,\"$lt\":1000}}\n",
    "project_q = {\"name\":1,\"number_of_employees\":1}\n",
    "e8 = list(db.companies.find(filter_q,project_q))\n",
    "print(len(e8))"
   ]
  },
  {
   "cell_type": "markdown",
   "metadata": {},
   "source": [
    "### 9. Order all the companies by their IPO price in a descending order."
   ]
  },
  {
   "cell_type": "code",
   "execution_count": 11,
   "metadata": {},
   "outputs": [
    {
     "name": "stdout",
     "output_type": "stream",
     "text": [
      "61\n"
     ]
    }
   ],
   "source": [
    "#I will put a limit of 40, just to execute this\n",
    "filter_q = {\"ipo.valuation_amount\":{\"$ne\":None}}\n",
    "e9 = list(db.companies.find(filter_q).sort([(\"ipo.valuation_amount\",-1)]) )\n",
    "print(len(e9))"
   ]
  },
  {
   "cell_type": "markdown",
   "metadata": {},
   "source": [
    "### 10. Retrieve the 10 companies with more employees, order by the `number of employees`"
   ]
  },
  {
   "cell_type": "code",
   "execution_count": 12,
   "metadata": {},
   "outputs": [
    {
     "name": "stdout",
     "output_type": "stream",
     "text": [
      "Siemens 405000\n",
      "IBM 388000\n",
      "Toyota 320000\n",
      "PayPal 300000\n",
      "Nippon Telegraph and Telephone Corporation 227000\n",
      "Samsung Electronics 221726\n",
      "Accenture 205000\n",
      "Tata Consultancy Services 200300\n",
      "Flextronics International 200000\n",
      "Safeway 186000\n"
     ]
    }
   ],
   "source": [
    "sort_q = [(\"number_of_employees\",-1)]\n",
    "e10 = list(db.companies.find({}).sort(sort_q).limit(10))\n",
    "\n",
    "#Printing the name and number of employees of the selection\n",
    "for i in e10:\n",
    "    print(i[\"name\"],i[\"number_of_employees\"])"
   ]
  },
  {
   "cell_type": "markdown",
   "metadata": {},
   "source": [
    "### 11. All the companies founded on the second semester of the year. Limit your search to 1000 companies."
   ]
  },
  {
   "cell_type": "code",
   "execution_count": 13,
   "metadata": {},
   "outputs": [],
   "source": [
    "filter_q = {\"founded_month\":{\"$gte\":6}}\n",
    "e11 = list(db.companies.find(filter_q,project_q).limit(1000))"
   ]
  },
  {
   "cell_type": "markdown",
   "metadata": {},
   "source": [
    "### 12. All the companies founded before 2000 that have an acquisition amount of more than 10.000.00"
   ]
  },
  {
   "cell_type": "code",
   "execution_count": 14,
   "metadata": {},
   "outputs": [
    {
     "name": "stdout",
     "output_type": "stream",
     "text": [
      "225\n"
     ]
    }
   ],
   "source": [
    "filter_q = {\"founded_year\":{\"$lt\":2000}, \"acquisition.price_amount\":{\"$gt\":100000}}\n",
    "e12 = list(db.companies.find(filter_q))\n",
    "print(len(e12))"
   ]
  },
  {
   "cell_type": "markdown",
   "metadata": {},
   "source": [
    "### 13. All the companies that have been acquired after 2010, order by the acquisition amount, and retrieve only their `name` and `acquisition` field."
   ]
  },
  {
   "cell_type": "code",
   "execution_count": 15,
   "metadata": {},
   "outputs": [
    {
     "name": "stdout",
     "output_type": "stream",
     "text": [
      "736\n"
     ]
    }
   ],
   "source": [
    "filter_q = {\"acquisition.acquired_year\":{\"$gt\":2010}}\n",
    "project_q = {\"name\":1,\"acquisition\":1}\n",
    "sort_q = [(\"acquisition.price_amount\",1)]\n",
    "e13 = list(db.companies.find(filter_q,project_q).sort(sort_q))\n",
    "print(len(e13))"
   ]
  },
  {
   "cell_type": "markdown",
   "metadata": {},
   "source": [
    "### 14. Order the companies by their `founded year`, retrieving only their `name` and `founded year`."
   ]
  },
  {
   "cell_type": "code",
   "execution_count": 21,
   "metadata": {},
   "outputs": [
    {
     "name": "stdout",
     "output_type": "stream",
     "text": [
      "Alstrasoft 1800\n",
      "SmallWorlds 1800\n",
      "US Army 1800\n",
      "DuPont 1802\n",
      "McKesson 1833\n",
      "Bachmann Industries 1833\n",
      "Bertelsmann 1835\n",
      "Accuity 1836\n",
      "CENTRA 1839\n",
      "WeGame 1840\n"
     ]
    }
   ],
   "source": [
    "#OperationFailure: Executor error during find command :: caused by :: \n",
    "#Sort operation used more than the maximum 33554432 bytes of RAM... \n",
    "\n",
    "#limit only the 10 first to run this exercise\n",
    "\n",
    "filter_q = {\"founded_year\":{\"$ne\":None}}\n",
    "project_q = {\"name\":1,\"founded_year\":1}\n",
    "sort_q = [(\"founded_year\",1)]\n",
    "e14 = list(db.companies.find(filter_q,project_q).sort(sort_q).limit(10))\n",
    "\n",
    "for el in e14:\n",
    "    print(el[\"name\"],el[\"founded_year\"])"
   ]
  },
  {
   "cell_type": "markdown",
   "metadata": {},
   "source": [
    "### 15. All the companies that have been founded on the first seven days of the month, including the seventh. Sort them by their `acquisition price` in a descending order. Limit the search to 10 documents."
   ]
  },
  {
   "cell_type": "code",
   "execution_count": 25,
   "metadata": {},
   "outputs": [
    {
     "name": "stdout",
     "output_type": "stream",
     "text": [
      "Netscape 4 4200000000\n",
      "PayPal 1 1500000000\n",
      "Zappos 1 1200000000\n",
      "Alibaba 1 1000000000\n",
      "Postini 2 625000000\n",
      "Danger 1 500000000\n",
      "Clearwell Systems 6 410000000\n",
      "PrimeSense 1 345000000\n",
      "Amobee 1 321000000\n",
      "BlueLithium 1 300000000\n"
     ]
    }
   ],
   "source": [
    "filter_q = {\"founded_day\":{\"$lte\":7}}\n",
    "sort_q = [(\"acquisition.price_amount\",-1)]\n",
    "e15 = list(db.companies.find(filter_q).sort(sort_q).limit(10))\n",
    "for el in e15:\n",
    "    print(el[\"name\"],el[\"founded_day\"],el[\"acquisition\"][\"price_amount\"])"
   ]
  },
  {
   "cell_type": "markdown",
   "metadata": {},
   "source": [
    "### 16. All the companies on the 'web' `category` that have more than 4000 employees. Sort them by the amount of employees in ascending order."
   ]
  },
  {
   "cell_type": "code",
   "execution_count": 31,
   "metadata": {},
   "outputs": [
    {
     "name": "stdout",
     "output_type": "stream",
     "text": [
      "Expedia 4400 web\n",
      "AOL 8000 web\n",
      "Webkinz 8657 web\n",
      "Rakuten 10000 web\n",
      "Los Angeles Times Media Group 10000 web\n",
      "Groupon 10000 web\n",
      "Yahoo! 13600 web\n",
      "eBay 15000 web\n",
      "Experian 15500 web\n"
     ]
    }
   ],
   "source": [
    "filter_q = {\"number_of_employees\":{\"$gt\":4000}, \"category_code\":\"web\"}\n",
    "sort_q = [(\"number_of_employees\",1)]\n",
    "e16 = list(db.companies.find(filter_q).sort(sort_q).limit(10))\n",
    "\n",
    "for el in e16:\n",
    "    print(el[\"name\"],el[\"number_of_employees\"],el[\"category_code\"])"
   ]
  },
  {
   "cell_type": "markdown",
   "metadata": {},
   "source": [
    "### 17. All the companies whose acquisition amount is more than 10.000.000, and currency is 'EUR'."
   ]
  },
  {
   "cell_type": "code",
   "execution_count": 40,
   "metadata": {},
   "outputs": [
    {
     "name": "stdout",
     "output_type": "stream",
     "text": [
      "ZYB 31500000 EUR\n",
      "Apertio 140000000 EUR\n",
      "Greenfield Online 40000000 EUR\n",
      "Webedia 70000000 EUR\n",
      "Wayfinder 24000000 EUR\n",
      "Tuenti Technologies 70000000 EUR\n",
      "BioMed Central 43400000 EUR\n"
     ]
    }
   ],
   "source": [
    "filter_q = {\"acquisition.price_amount\":{\"$gt\":10000000},\n",
    "            \"acquisition.price_currency_code\":\"EUR\"}\n",
    "e17 = list(db.companies.find(filter_q))\n",
    "\n",
    "\n",
    "for el in e17:\n",
    "    print(el[\"name\"],\n",
    "          el[\"acquisition\"][\"price_amount\"]\n",
    "          ,el[\"acquisition\"][\"price_currency_code\"])"
   ]
  },
  {
   "cell_type": "markdown",
   "metadata": {},
   "source": [
    "### 18. All the companies that have been acquired on the first trimester of the year. Limit the search to 10 companies, and retrieve only their `name` and `acquisition` fields."
   ]
  },
  {
   "cell_type": "code",
   "execution_count": 42,
   "metadata": {},
   "outputs": [
    {
     "name": "stdout",
     "output_type": "stream",
     "text": [
      "Kyte 1\n",
      "NetRatings 2\n",
      "blogTV 3\n",
      "Livestream 1\n",
      "iContact 2\n",
      "Coghead 2\n",
      "Dailymotion 2\n",
      "Netvibes 2\n",
      "BabyCenter 3\n",
      "Flickr 3\n"
     ]
    }
   ],
   "source": [
    "filter_q = {\"acquisition.acquired_month\":{\"$lte\":3}}\n",
    "project_q = {\"name\":1,\"acquisition\":1}\n",
    "e18 = list(db.companies.find(filter_q,project_q).limit(10))\n",
    "\n",
    "for el in e18:\n",
    "    print(el[\"name\"],el[\"acquisition\"][\"acquired_month\"])"
   ]
  },
  {
   "cell_type": "markdown",
   "metadata": {},
   "source": [
    "# Bonus\n",
    "### 19. All the companies that have been founded between 2000 and 2010, but have not been acquired before 2011."
   ]
  },
  {
   "cell_type": "code",
   "execution_count": 44,
   "metadata": {},
   "outputs": [
    {
     "name": "stdout",
     "output_type": "stream",
     "text": [
      "9943\n"
     ]
    }
   ],
   "source": [
    "filter_q = {\"founded_year\":{\"$gte\":2000,\"$lte\":2010},\n",
    "            \"acquisition.acquired_year\":{\"$not\":{\"$lt\":2011}}}\n",
    "e19 = list(db.companies.find(filter_q))\n",
    "\n",
    "print(len(e19))"
   ]
  },
  {
   "cell_type": "markdown",
   "metadata": {},
   "source": [
    "### 20. All the companies that have been 'deadpooled' after the third year."
   ]
  },
  {
   "cell_type": "code",
   "execution_count": 57,
   "metadata": {},
   "outputs": [
    {
     "name": "stdout",
     "output_type": "stream",
     "text": [
      "437\n",
      "437\n"
     ]
    }
   ],
   "source": [
    "filter_q = {\"$expr\":{\"$gt\":[{\"$subtract\":[\"$deadpooled_year\",\"$founded_year\"]},3]}} \n",
    "e20 = list(db.companies.find(filter_q))\n",
    "print(len(e20))\n",
    "\n",
    "\n",
    "#Checking\n",
    "count = 0\n",
    "for el in e20:\n",
    "    if (el[\"deadpooled_year\"] +3) > el[\"founded_year\"]:\n",
    "        count += 1\n",
    "\n",
    "print(count)"
   ]
  },
  {
   "cell_type": "code",
   "execution_count": null,
   "metadata": {},
   "outputs": [],
   "source": []
  }
 ],
 "metadata": {
  "kernelspec": {
   "display_name": "Python 3",
   "language": "python",
   "name": "python3"
  },
  "language_info": {
   "codemirror_mode": {
    "name": "ipython",
    "version": 3
   },
   "file_extension": ".py",
   "mimetype": "text/x-python",
   "name": "python",
   "nbconvert_exporter": "python",
   "pygments_lexer": "ipython3",
   "version": "3.8.5"
  }
 },
 "nbformat": 4,
 "nbformat_minor": 2
}
