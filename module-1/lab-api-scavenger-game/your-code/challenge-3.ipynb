{
 "cells": [
  {
   "cell_type": "markdown",
   "metadata": {},
   "source": [
    "# Challenge 3 - API scavenger game"
   ]
  },
  {
   "cell_type": "code",
   "execution_count": 1,
   "metadata": {},
   "outputs": [],
   "source": [
    "from dotenv import load_dotenv\n",
    "import os\n",
    "import requests\n",
    "import pandas as pd\n",
    "import base64"
   ]
  },
  {
   "cell_type": "code",
   "execution_count": 2,
   "metadata": {},
   "outputs": [
    {
     "data": {
      "text/plain": [
       "'57f'"
      ]
     },
     "execution_count": 2,
     "metadata": {},
     "output_type": "execute_result"
    }
   ],
   "source": [
    "load_dotenv()\n",
    "gtoken = os.getenv(\"GIT_PASS\")\n",
    "gtoken[-3:]"
   ]
  },
  {
   "cell_type": "code",
   "execution_count": 3,
   "metadata": {},
   "outputs": [
    {
     "data": {
      "text/plain": [
       "<Response [200]>"
      ]
     },
     "execution_count": 3,
     "metadata": {},
     "output_type": "execute_result"
    }
   ],
   "source": [
    "#\"https://api.github.com/search/code?q=extension:js+repo:vnation/NewsAggregator\"\n",
    "\n",
    "url = \"https://api.github.com\"\n",
    "\n",
    "#TOKEN\n",
    "headers = {\n",
    "    \"Authorization\": f\"token {gtoken}\"\n",
    "}\n",
    "#PARAMS\n",
    "parameters = {\n",
    "    \"state\":\"all\"\n",
    "}\n",
    "\n",
    "endpoint = \"/search/code?q=extension:scavengerhunt+repo:ironhack-datalabs/scavenger\"\n",
    "\n",
    "data = requests.get(url+endpoint, \n",
    "                    headers=headers,\n",
    "                    params=parameters)\n",
    "data\n"
   ]
  },
  {
   "cell_type": "code",
   "execution_count": 4,
   "metadata": {},
   "outputs": [],
   "source": [
    "data = data.json()"
   ]
  },
  {
   "cell_type": "code",
   "execution_count": 5,
   "metadata": {},
   "outputs": [],
   "source": [
    "teasure=[]\n",
    "names=[]\n",
    "for element in data[\"items\"]:\n",
    "    names.append(element[\"name\"])\n",
    "    teasure.append(element[\"url\"])\n"
   ]
  },
  {
   "cell_type": "code",
   "execution_count": 6,
   "metadata": {},
   "outputs": [],
   "source": [
    "mensage=[]\n",
    "for link in teasure:\n",
    "    data = requests.get(link, headers=headers,params=parameters).json()\n",
    "    content = data['content']\n",
    "    mensage.append(base64.b64decode(content))"
   ]
  },
  {
   "cell_type": "code",
   "execution_count": 7,
   "metadata": {},
   "outputs": [],
   "source": [
    "df=pd.DataFrame({\"name\":names, \"mensage\":mensage})\n",
    "df.sort_values(\"name\", inplace=True)"
   ]
  },
  {
   "cell_type": "code",
   "execution_count": 8,
   "metadata": {},
   "outputs": [],
   "source": [
    "wisdom=[x.decode(\"ascii\") for x in df[\"mensage\"].values]\n",
    "words_of_wisdom=\"\"\n",
    "words_of_wisdom=words_of_wisdom.join(wisdom).replace(\"\\n\",\" \")"
   ]
  },
  {
   "cell_type": "code",
   "execution_count": 9,
   "metadata": {},
   "outputs": [
    {
     "name": "stdout",
     "output_type": "stream",
     "text": [
      "In data science, 80 percent of time spent is preparing data, 20 percent of time is spent complaining about the need to prepare data. \n"
     ]
    }
   ],
   "source": [
    "print(words_of_wisdom)"
   ]
  },
  {
   "cell_type": "code",
   "execution_count": null,
   "metadata": {},
   "outputs": [],
   "source": []
  },
  {
   "cell_type": "code",
   "execution_count": null,
   "metadata": {},
   "outputs": [],
   "source": []
  }
 ],
 "metadata": {
  "kernelspec": {
   "display_name": "Python 3",
   "language": "python",
   "name": "python3"
  },
  "language_info": {
   "codemirror_mode": {
    "name": "ipython",
    "version": 3
   },
   "file_extension": ".py",
   "mimetype": "text/x-python",
   "name": "python",
   "nbconvert_exporter": "python",
   "pygments_lexer": "ipython3",
   "version": "3.8.5"
  }
 },
 "nbformat": 4,
 "nbformat_minor": 4
}
