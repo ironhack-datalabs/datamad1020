{
 "cells": [
  {
   "cell_type": "markdown",
   "metadata": {},
   "source": [
    "# Supervised Learning Model Evaluation Lab\n",
    "\n",
    "Complete the exercises below to solidify your knowledge and understanding of supervised learning model evaluation."
   ]
  },
  {
   "cell_type": "code",
   "execution_count": 1,
   "metadata": {},
   "outputs": [],
   "source": [
    "import pandas as pd\n",
    "import matplotlib.pyplot as plt"
   ]
  },
  {
   "cell_type": "markdown",
   "metadata": {},
   "source": [
    "## Regression Model Evaluation"
   ]
  },
  {
   "cell_type": "code",
   "execution_count": 2,
   "metadata": {},
   "outputs": [],
   "source": [
    "from sklearn.datasets import load_boston\n",
    "\n",
    "data = load_boston()\n",
    "\n",
    "X = pd.DataFrame(data[\"data\"], columns=data[\"feature_names\"])\n",
    "y = pd.DataFrame(data[\"target\"], columns=['MEDV'])\n",
    "\n",
    "data = pd.concat([X, y], axis=1)"
   ]
  },
  {
   "cell_type": "markdown",
   "metadata": {},
   "source": [
    "## 1. Split this data set into training (80%) and testing (20%) sets.\n",
    "\n",
    "The `MEDV` field represents the median value of owner-occupied homes (in $1000's) and is the target variable that we will want to predict."
   ]
  },
  {
   "cell_type": "code",
   "execution_count": 3,
   "metadata": {},
   "outputs": [],
   "source": [
    "from sklearn.model_selection import train_test_split\n",
    "\n",
    "X_train, X_test, y_train, y_test = train_test_split(X,y,train_size=0.8 )\n"
   ]
  },
  {
   "cell_type": "markdown",
   "metadata": {},
   "source": [
    "## 2. Train a `LinearRegression` model on this data set and generate predictions on both the training and the testing set."
   ]
  },
  {
   "cell_type": "code",
   "execution_count": 4,
   "metadata": {},
   "outputs": [],
   "source": [
    "from sklearn import linear_model\n",
    "boston_model = linear_model.LinearRegression().fit(X_train, y_train)"
   ]
  },
  {
   "cell_type": "markdown",
   "metadata": {},
   "source": [
    "## 3. Calculate and print R-squared for both the training and the testing set."
   ]
  },
  {
   "cell_type": "code",
   "execution_count": 5,
   "metadata": {
    "scrolled": true
   },
   "outputs": [
    {
     "name": "stdout",
     "output_type": "stream",
     "text": [
      "R**2 (train) = 0.7638542127072072\n",
      "R**2 (test) = 0.6355948712727195\n"
     ]
    }
   ],
   "source": [
    "y_pred_train = boston_model.predict(X_train)\n",
    "from sklearn.metrics import r2_score\n",
    "r_squared_train = r2_score(y_train, y_pred_train)\n",
    "print(\"R**2 (train) =\",r_squared_train)\n",
    "\n",
    "y_pred_test = boston_model.predict(X_test)\n",
    "r_squared_test = r2_score(y_test, y_pred_test)\n",
    "print(\"R**2 (test) =\",r_squared_test)"
   ]
  },
  {
   "cell_type": "markdown",
   "metadata": {},
   "source": [
    "## 4. Calculate and print mean squared error for both the training and the testing set."
   ]
  },
  {
   "cell_type": "code",
   "execution_count": 6,
   "metadata": {},
   "outputs": [
    {
     "name": "stdout",
     "output_type": "stream",
     "text": [
      "RMSE (train) = 4.377413348509003\n",
      "RMSE (test) = 5.92358094151925\n"
     ]
    }
   ],
   "source": [
    "from sklearn.metrics import mean_squared_error\n",
    "\n",
    "print(\"RMSE (train) =\",mean_squared_error(y_train, y_pred_train, squared=False))\n",
    "\n",
    "print(\"RMSE (test) =\",mean_squared_error(y_test, y_pred_test, squared=False))"
   ]
  },
  {
   "cell_type": "markdown",
   "metadata": {},
   "source": [
    "## 5. Calculate and print mean absolute error for both the training and the testing set."
   ]
  },
  {
   "cell_type": "code",
   "execution_count": 7,
   "metadata": {
    "scrolled": true
   },
   "outputs": [
    {
     "name": "stdout",
     "output_type": "stream",
     "text": [
      "MAE (train) = 3.060252817075481\n",
      "MAE (test) = 3.9179340412005192\n"
     ]
    }
   ],
   "source": [
    "from sklearn.metrics import mean_absolute_error\n",
    "\n",
    "print(\"MAE (train) =\",mean_absolute_error(y_train, y_pred_train))\n",
    "\n",
    "print(\"MAE (test) =\",mean_absolute_error(y_test, y_pred_test))"
   ]
  },
  {
   "cell_type": "markdown",
   "metadata": {},
   "source": [
    "## Classification Model Evaluation"
   ]
  },
  {
   "cell_type": "code",
   "execution_count": 8,
   "metadata": {},
   "outputs": [],
   "source": [
    "from sklearn.datasets import load_iris\n",
    "\n",
    "data = load_iris()\n",
    "\n",
    "X = pd.DataFrame(data[\"data\"], columns=data[\"feature_names\"])\n",
    "y = pd.DataFrame(data[\"target\"], columns=[\"class\"])\n",
    "\n",
    "data = pd.concat([X, y], axis=1)"
   ]
  },
  {
   "cell_type": "markdown",
   "metadata": {},
   "source": [
    "## 6. Split this data set into training (80%) and testing (20%) sets.\n",
    "\n",
    "The `class` field represents the type of flower and is the target variable that we will want to predict."
   ]
  },
  {
   "cell_type": "code",
   "execution_count": 9,
   "metadata": {},
   "outputs": [],
   "source": [
    "X_train, X_test, y_train, y_test = train_test_split(X,y,train_size=0.8 )"
   ]
  },
  {
   "cell_type": "markdown",
   "metadata": {},
   "source": [
    "## 7. Train a `LogisticRegression` model on this data set and generate predictions on both the training and the testing set."
   ]
  },
  {
   "cell_type": "code",
   "execution_count": 10,
   "metadata": {},
   "outputs": [],
   "source": [
    "from sklearn.linear_model import LogisticRegression\n",
    "model_fit = LogisticRegression(random_state=0,max_iter=500).fit(X_train, y_train.values.ravel())"
   ]
  },
  {
   "cell_type": "markdown",
   "metadata": {},
   "source": [
    "## 8. Calculate and print the accuracy score for both the training and the testing set."
   ]
  },
  {
   "cell_type": "code",
   "execution_count": 11,
   "metadata": {},
   "outputs": [
    {
     "name": "stdout",
     "output_type": "stream",
     "text": [
      "Accuracy score (train):  0.9666666666666667\n",
      "Accuracy score (test):  0.9666666666666667\n"
     ]
    }
   ],
   "source": [
    "from sklearn.metrics import confusion_matrix\n",
    "from sklearn.metrics import accuracy_score\n",
    "\n",
    "y_pred_train = model_fit.predict(X_train)\n",
    "print(\"Accuracy score (train): \",accuracy_score(y_train, y_pred_train))\n",
    "y_pred_test = model_fit.predict(X_test)\n",
    "print(\"Accuracy score (test): \",accuracy_score(y_test, y_pred_test))\n"
   ]
  },
  {
   "cell_type": "markdown",
   "metadata": {},
   "source": [
    "## 9. Calculate and print the balanced accuracy score for both the training and the testing set."
   ]
  },
  {
   "cell_type": "code",
   "execution_count": 12,
   "metadata": {},
   "outputs": [
    {
     "name": "stdout",
     "output_type": "stream",
     "text": [
      "Balanced accuracy score (train):  0.9666666666666667\n",
      "Balanced accuracy score (test):  0.9666666666666667\n"
     ]
    }
   ],
   "source": [
    "from sklearn.metrics import balanced_accuracy_score\n",
    "\n",
    "\n",
    "print(\"Balanced accuracy score (train): \",accuracy_score(y_train, y_pred_train))\n",
    "print(\"Balanced accuracy score (test): \",accuracy_score(y_test, y_pred_test))"
   ]
  },
  {
   "cell_type": "markdown",
   "metadata": {},
   "source": [
    "## 10. Calculate and print the precision score for both the training and the testing set."
   ]
  },
  {
   "cell_type": "code",
   "execution_count": 13,
   "metadata": {},
   "outputs": [
    {
     "name": "stdout",
     "output_type": "stream",
     "text": [
      "For each category:\n",
      "Precision score (train):  [1.         0.975      0.92682927]\n",
      "Precision score (test):  [1.         0.88888889 1.        ]\n",
      "Counting the total true positives, false negatives and false positives:\n",
      "Precision score (train):  0.9666666666666667\n",
      "Precision score (test):  0.9666666666666667\n"
     ]
    }
   ],
   "source": [
    "from sklearn.metrics import precision_score\n",
    "print(\"For each category:\")\n",
    "print(\"Precision score (train): \",precision_score(y_train, y_pred_train, average=None))\n",
    "print(\"Precision score (test): \",precision_score(y_test, y_pred_test, average=None))\n",
    "\n",
    "print(\"Counting the total true positives, false negatives and false positives:\")\n",
    "print(\"Precision score (train): \",precision_score(y_train, y_pred_train, average=\"micro\"))\n",
    "print(\"Precision score (test): \",precision_score(y_test, y_pred_test, average=\"micro\"))"
   ]
  },
  {
   "cell_type": "markdown",
   "metadata": {},
   "source": [
    "## 11. Calculate and print the recall score for both the training and the testing set."
   ]
  },
  {
   "cell_type": "code",
   "execution_count": 14,
   "metadata": {},
   "outputs": [
    {
     "name": "stdout",
     "output_type": "stream",
     "text": [
      "For each category:\n",
      "Recall score (train):  [1.         0.92857143 0.97435897]\n",
      "Recall score (test):  [1.         1.         0.90909091]\n",
      "Counting the total true positives, false negatives and false positives:\n",
      "Precision score (train):  0.9666666666666667\n",
      "Precision score (test):  0.9666666666666667\n"
     ]
    }
   ],
   "source": [
    "from sklearn.metrics import recall_score\n",
    "print(\"For each category:\")\n",
    "print(\"Recall score (train): \",recall_score(y_train, y_pred_train, average=None))\n",
    "print(\"Recall score (test): \",recall_score(y_test, y_pred_test, average=None))\n",
    "\n",
    "print(\"Counting the total true positives, false negatives and false positives:\")\n",
    "print(\"Precision score (train): \",recall_score(y_train, y_pred_train, average=\"micro\"))\n",
    "print(\"Precision score (test): \",recall_score(y_test, y_pred_test, average=\"micro\"))"
   ]
  },
  {
   "cell_type": "markdown",
   "metadata": {},
   "source": [
    "## 12. Calculate and print the F1 score for both the training and the testing set."
   ]
  },
  {
   "cell_type": "code",
   "execution_count": 15,
   "metadata": {},
   "outputs": [
    {
     "name": "stdout",
     "output_type": "stream",
     "text": [
      "For each category:\n",
      "F1 score score (train):  [1.         0.95121951 0.95      ]\n",
      "F1 score score (test):  [1.         0.94117647 0.95238095]\n",
      "Counting the total true positives, false negatives and false positives:\n",
      "F1 score score (train):  0.9666666666666667\n",
      "F1 score score (test):  0.9666666666666667\n"
     ]
    }
   ],
   "source": [
    "from sklearn.metrics import f1_score\n",
    "\n",
    "print(\"For each category:\")\n",
    "print(\"F1 score score (train): \",f1_score(y_train, y_pred_train, average=None))\n",
    "print(\"F1 score score (test): \",f1_score(y_test, y_pred_test, average=None))\n",
    "\n",
    "print(\"Counting the total true positives, false negatives and false positives:\")\n",
    "print(\"F1 score score (train): \",f1_score(y_train, y_pred_train, average=\"micro\"))\n",
    "print(\"F1 score score (test): \",f1_score(y_test, y_pred_test, average=\"micro\"))"
   ]
  },
  {
   "cell_type": "markdown",
   "metadata": {},
   "source": [
    "## 13. Generate confusion matrices for both the training and the testing set."
   ]
  },
  {
   "cell_type": "code",
   "execution_count": 16,
   "metadata": {},
   "outputs": [
    {
     "name": "stdout",
     "output_type": "stream",
     "text": [
      "Confusion matrix (train): \n",
      "[[39  0  0]\n",
      " [ 0 39  3]\n",
      " [ 0  1 38]]\n"
     ]
    }
   ],
   "source": [
    "from sklearn.metrics import confusion_matrix\n",
    "print(\"Confusion matrix (train): \")\n",
    "print(confusion_matrix(y_train, y_pred_train))"
   ]
  },
  {
   "cell_type": "code",
   "execution_count": 17,
   "metadata": {},
   "outputs": [
    {
     "name": "stdout",
     "output_type": "stream",
     "text": [
      "Confusion matrix (test): \n",
      "[[11  0  0]\n",
      " [ 0  8  0]\n",
      " [ 0  1 10]]\n"
     ]
    }
   ],
   "source": [
    "print(\"Confusion matrix (test): \")\n",
    "print(confusion_matrix(y_test, y_pred_test))"
   ]
  },
  {
   "cell_type": "markdown",
   "metadata": {},
   "source": [
    "## Bonus: For each of the data sets in this lab, try training with some of the other models you have learned about, recalculate the evaluation metrics, and compare to determine which models perform best on each data set."
   ]
  },
  {
   "cell_type": "markdown",
   "metadata": {},
   "source": [
    "## Regression Model Evaluation  ----  KNN"
   ]
  },
  {
   "cell_type": "markdown",
   "metadata": {},
   "source": [
    "## 1. Split this data set into training (80%) and testing (20%) sets.\n",
    "\n",
    "The `MEDV` field represents the median value of owner-occupied homes (in $1000's) and is the target variable that we will want to predict."
   ]
  },
  {
   "cell_type": "code",
   "execution_count": 18,
   "metadata": {},
   "outputs": [],
   "source": [
    "data = load_boston()\n",
    "\n",
    "X = pd.DataFrame(data[\"data\"], columns=data[\"feature_names\"])\n",
    "y = pd.DataFrame(data[\"target\"], columns=['MEDV'])\n",
    "\n",
    "data = pd.concat([X, y], axis=1)\n",
    "\n",
    "from sklearn.model_selection import train_test_split\n",
    "\n",
    "X_train, X_test, y_train, y_test = train_test_split(X,y,train_size=0.8 )\n",
    "\n"
   ]
  },
  {
   "cell_type": "markdown",
   "metadata": {},
   "source": [
    "## 2. Train a `LinearRegression` model on this data set and generate predictions on both the training and the testing set."
   ]
  },
  {
   "cell_type": "code",
   "execution_count": 19,
   "metadata": {},
   "outputs": [],
   "source": [
    "import statsmodels.api as smf\n",
    "\n",
    "X_train_c = smf.add_constant(X_train)\n",
    "multi_lm = smf.OLS(y_train,X_train_c).fit()"
   ]
  },
  {
   "cell_type": "markdown",
   "metadata": {},
   "source": [
    "## 3. Calculate and print R-squared for both the training and the testing set."
   ]
  },
  {
   "cell_type": "code",
   "execution_count": 20,
   "metadata": {
    "scrolled": true
   },
   "outputs": [
    {
     "name": "stdout",
     "output_type": "stream",
     "text": [
      "R**2 (train) = 0.7452812028552834\n",
      "R**2 (test) = 0.7095417462392397\n"
     ]
    }
   ],
   "source": [
    "y_pred_train = multi_lm.predict(X_train_c)\n",
    "r_squared_train = r2_score(y_train, y_pred_train)\n",
    "print(\"R**2 (train) =\",r_squared_train)\n",
    "\n",
    "y_pred_test = multi_lm.predict(smf.add_constant(X_test))\n",
    "r_squared_test = r2_score(y_test, y_pred_test)\n",
    "print(\"R**2 (test) =\",r_squared_test)"
   ]
  },
  {
   "cell_type": "markdown",
   "metadata": {},
   "source": [
    "## 4. Calculate and print mean squared error for both the training and the testing set."
   ]
  },
  {
   "cell_type": "code",
   "execution_count": 21,
   "metadata": {},
   "outputs": [
    {
     "name": "stdout",
     "output_type": "stream",
     "text": [
      "RMSE (train) = 4.708142518641453\n",
      "RMSE (test) = 4.6341098131166065\n"
     ]
    }
   ],
   "source": [
    "\n",
    "print(\"RMSE (train) =\",mean_squared_error(y_train, y_pred_train, squared=False))\n",
    "\n",
    "print(\"RMSE (test) =\",mean_squared_error(y_test, y_pred_test, squared=False))"
   ]
  },
  {
   "cell_type": "markdown",
   "metadata": {},
   "source": [
    "## 5. Calculate and print mean absolute error for both the training and the testing set."
   ]
  },
  {
   "cell_type": "code",
   "execution_count": 22,
   "metadata": {
    "scrolled": false
   },
   "outputs": [
    {
     "name": "stdout",
     "output_type": "stream",
     "text": [
      "MAE (train) = 3.333363064541086\n",
      "MAE (test) = 3.016980595686538\n"
     ]
    }
   ],
   "source": [
    "\n",
    "print(\"MAE (train) =\",mean_absolute_error(y_train, y_pred_train))\n",
    "\n",
    "print(\"MAE (test) =\",mean_absolute_error(y_test, y_pred_test))"
   ]
  },
  {
   "cell_type": "markdown",
   "metadata": {},
   "source": [
    "## Classification Model Evaluation  ------ Random Tree"
   ]
  },
  {
   "cell_type": "markdown",
   "metadata": {},
   "source": [
    "## 6. Split this data set into training (80%) and testing (20%) sets.\n",
    "\n",
    "The `class` field represents the type of flower and is the target variable that we will want to predict."
   ]
  },
  {
   "cell_type": "code",
   "execution_count": 23,
   "metadata": {},
   "outputs": [],
   "source": [
    "from sklearn.datasets import load_iris\n",
    "\n",
    "data = load_iris()\n",
    "\n",
    "X = pd.DataFrame(data[\"data\"], columns=data[\"feature_names\"])\n",
    "y = pd.DataFrame(data[\"target\"], columns=[\"class\"])\n",
    "\n",
    "data = pd.concat([X, y], axis=1)\n",
    "\n",
    "X_train, X_test, y_train, y_test = train_test_split(X,y,train_size=0.8 )"
   ]
  },
  {
   "cell_type": "markdown",
   "metadata": {},
   "source": [
    "## 7. Train a `LogisticRegression` model on this data set and generate predictions on both the training and the testing set."
   ]
  },
  {
   "cell_type": "code",
   "execution_count": 24,
   "metadata": {},
   "outputs": [
    {
     "name": "stdout",
     "output_type": "stream",
     "text": [
      "Fitting 5 folds for each of 2000 candidates, totalling 10000 fits\n"
     ]
    },
    {
     "name": "stderr",
     "output_type": "stream",
     "text": [
      "[Parallel(n_jobs=1)]: Using backend SequentialBackend with 1 concurrent workers.\n",
      "[Parallel(n_jobs=1)]: Done 10000 out of 10000 | elapsed:   48.8s finished\n"
     ]
    },
    {
     "data": {
      "text/plain": [
       "0       0.666667\n",
       "272     0.666667\n",
       "271     0.666667\n",
       "270     0.666667\n",
       "269     0.666667\n",
       "          ...   \n",
       "927     0.933333\n",
       "926     0.933333\n",
       "936     0.933333\n",
       "1999    0.933333\n",
       "1204    0.941667\n",
       "Name: mean_test_score, Length: 2000, dtype: float64"
      ]
     },
     "execution_count": 24,
     "metadata": {},
     "output_type": "execute_result"
    }
   ],
   "source": [
    "from sklearn.tree import DecisionTreeClassifier\n",
    "from sklearn.model_selection import GridSearchCV\n",
    "import numpy as np\n",
    "\n",
    "params = {'min_samples_leaf':np.arange(2,22,2),\n",
    "          'min_samples_split':np.arange(2,22,2),\n",
    "          'max_depth':np.arange(1,6),\n",
    "          'min_weight_fraction_leaf':np.arange(0,0.4,0.1)}\n",
    "\n",
    "grid = GridSearchCV(\n",
    "     estimator=DecisionTreeClassifier(),\n",
    "     param_grid=params,\n",
    "     verbose=1,\n",
    "     scoring=\"accuracy\",\n",
    "     return_train_score=True\n",
    ")\n",
    "\n",
    "grid.fit(X_train,y_train)\n",
    "\n",
    "pd.DataFrame(grid.cv_results_)[\"mean_test_score\"].sort_values()"
   ]
  },
  {
   "cell_type": "code",
   "execution_count": 26,
   "metadata": {},
   "outputs": [
    {
     "data": {
      "text/plain": [
       "mean_fit_time                                                             0.0023952\n",
       "std_fit_time                                                            0.000226915\n",
       "mean_score_time                                                          0.00107532\n",
       "std_score_time                                                           6.4301e-05\n",
       "param_max_depth                                                                   4\n",
       "param_min_samples_leaf                                                            2\n",
       "param_min_samples_split                                                           4\n",
       "param_min_weight_fraction_leaf                                                    0\n",
       "params                            {'max_depth': 4, 'min_samples_leaf': 2, 'min_s...\n",
       "split0_test_score                                                                 1\n",
       "split1_test_score                                                          0.916667\n",
       "split2_test_score                                                                 1\n",
       "split3_test_score                                                             0.875\n",
       "split4_test_score                                                          0.916667\n",
       "mean_test_score                                                            0.941667\n",
       "std_test_score                                                                 0.05\n",
       "rank_test_score                                                                   1\n",
       "split0_train_score                                                          0.96875\n",
       "split1_train_score                                                         0.979167\n",
       "split2_train_score                                                          0.96875\n",
       "split3_train_score                                                         0.989583\n",
       "split4_train_score                                                         0.958333\n",
       "mean_train_score                                                           0.972917\n",
       "std_train_score                                                            0.010623\n",
       "Name: 1204, dtype: object"
      ]
     },
     "execution_count": 26,
     "metadata": {},
     "output_type": "execute_result"
    }
   ],
   "source": [
    "df=pd.DataFrame(grid.cv_results_)\n",
    "df.loc[1204]"
   ]
  },
  {
   "cell_type": "code",
   "execution_count": 28,
   "metadata": {},
   "outputs": [
    {
     "data": {
      "image/png": "[encoded data removed]",
      "text/plain": [
       "<Figure size 1080x1080 with 1 Axes>"
      ]
     },
     "metadata": {
      "needs_background": "light"
     },
     "output_type": "display_data"
    }
   ],
   "source": [
    "tree = DecisionTreeClassifier(max_depth=4,min_samples_leaf=2,min_samples_split=4,min_weight_fraction_leaf=0)\n",
    "tree.fit(X_train, y_train)\n",
    "from sklearn.tree import plot_tree\n",
    "plt.figure(figsize=(15,15))\n",
    "plot_tree(tree, feature_names=X_train.columns, filled=True);"
   ]
  },
  {
   "cell_type": "markdown",
   "metadata": {},
   "source": [
    "## 8. Calculate and print the accuracy score for both the training and the testing set."
   ]
  },
  {
   "cell_type": "code",
   "execution_count": 29,
   "metadata": {},
   "outputs": [
    {
     "name": "stdout",
     "output_type": "stream",
     "text": [
      "Accuracy score (train):  0.975\n",
      "Accuracy score (test):  0.9666666666666667\n"
     ]
    }
   ],
   "source": [
    "\n",
    "y_pred_train = tree.predict(X_train)\n",
    "print(\"Accuracy score (train): \",accuracy_score(y_train, y_pred_train))\n",
    "y_pred_test = tree.predict(X_test)\n",
    "print(\"Accuracy score (test): \",accuracy_score(y_test, y_pred_test))\n"
   ]
  },
  {
   "cell_type": "markdown",
   "metadata": {},
   "source": [
    "## 9. Calculate and print the balanced accuracy score for both the training and the testing set."
   ]
  },
  {
   "cell_type": "code",
   "execution_count": 30,
   "metadata": {},
   "outputs": [
    {
     "name": "stdout",
     "output_type": "stream",
     "text": [
      "Balanced accuracy score (train):  0.975\n",
      "Balanced accuracy score (test):  0.9666666666666667\n"
     ]
    }
   ],
   "source": [
    "\n",
    "print(\"Balanced accuracy score (train): \",accuracy_score(y_train, y_pred_train))\n",
    "print(\"Balanced accuracy score (test): \",accuracy_score(y_test, y_pred_test))"
   ]
  },
  {
   "cell_type": "markdown",
   "metadata": {},
   "source": [
    "## 10. Calculate and print the precision score for both the training and the testing set."
   ]
  },
  {
   "cell_type": "code",
   "execution_count": 31,
   "metadata": {},
   "outputs": [
    {
     "name": "stdout",
     "output_type": "stream",
     "text": [
      "For each category:\n",
      "Precision score (train):  [1.         0.93023256 1.        ]\n",
      "Precision score (test):  [1.         0.90909091 1.        ]\n",
      "Counting the total true positives, false negatives and false positives:\n",
      "Precision score (train):  0.975\n",
      "Precision score (test):  0.9666666666666667\n"
     ]
    }
   ],
   "source": [
    "\n",
    "print(\"For each category:\")\n",
    "print(\"Precision score (train): \",precision_score(y_train, y_pred_train, average=None))\n",
    "print(\"Precision score (test): \",precision_score(y_test, y_pred_test, average=None))\n",
    "\n",
    "print(\"Counting the total true positives, false negatives and false positives:\")\n",
    "print(\"Precision score (train): \",precision_score(y_train, y_pred_train, average=\"micro\"))\n",
    "print(\"Precision score (test): \",precision_score(y_test, y_pred_test, average=\"micro\"))"
   ]
  },
  {
   "cell_type": "markdown",
   "metadata": {},
   "source": [
    "## 11. Calculate and print the recall score for both the training and the testing set."
   ]
  },
  {
   "cell_type": "code",
   "execution_count": 32,
   "metadata": {},
   "outputs": [
    {
     "name": "stdout",
     "output_type": "stream",
     "text": [
      "For each category:\n",
      "Recall score (train):  [1.    1.    0.925]\n",
      "Recall score (test):  [1.  1.  0.9]\n",
      "Counting the total true positives, false negatives and false positives:\n",
      "Precision score (train):  0.975\n",
      "Precision score (test):  0.9666666666666667\n"
     ]
    }
   ],
   "source": [
    "\n",
    "print(\"For each category:\")\n",
    "print(\"Recall score (train): \",recall_score(y_train, y_pred_train, average=None))\n",
    "print(\"Recall score (test): \",recall_score(y_test, y_pred_test, average=None))\n",
    "\n",
    "print(\"Counting the total true positives, false negatives and false positives:\")\n",
    "print(\"Precision score (train): \",recall_score(y_train, y_pred_train, average=\"micro\"))\n",
    "print(\"Precision score (test): \",recall_score(y_test, y_pred_test, average=\"micro\"))"
   ]
  },
  {
   "cell_type": "markdown",
   "metadata": {},
   "source": [
    "## 12. Calculate and print the F1 score for both the training and the testing set."
   ]
  },
  {
   "cell_type": "code",
   "execution_count": 33,
   "metadata": {},
   "outputs": [
    {
     "name": "stdout",
     "output_type": "stream",
     "text": [
      "For each category:\n",
      "F1 score score (train):  [1.         0.96385542 0.96103896]\n",
      "F1 score score (test):  [1.         0.95238095 0.94736842]\n",
      "Counting the total true positives, false negatives and false positives:\n",
      "F1 score score (train):  0.975\n",
      "F1 score score (test):  0.9666666666666667\n"
     ]
    }
   ],
   "source": [
    "\n",
    "\n",
    "print(\"For each category:\")\n",
    "print(\"F1 score score (train): \",f1_score(y_train, y_pred_train, average=None))\n",
    "print(\"F1 score score (test): \",f1_score(y_test, y_pred_test, average=None))\n",
    "\n",
    "print(\"Counting the total true positives, false negatives and false positives:\")\n",
    "print(\"F1 score score (train): \",f1_score(y_train, y_pred_train, average=\"micro\"))\n",
    "print(\"F1 score score (test): \",f1_score(y_test, y_pred_test, average=\"micro\"))"
   ]
  },
  {
   "cell_type": "markdown",
   "metadata": {},
   "source": [
    "## 13. Generate confusion matrices for both the training and the testing set."
   ]
  },
  {
   "cell_type": "code",
   "execution_count": 34,
   "metadata": {},
   "outputs": [
    {
     "name": "stdout",
     "output_type": "stream",
     "text": [
      "Confusion matrix (train): \n",
      "[[40  0  0]\n",
      " [ 0 40  0]\n",
      " [ 0  3 37]]\n"
     ]
    }
   ],
   "source": [
    "\n",
    "print(\"Confusion matrix (train): \")\n",
    "print(confusion_matrix(y_train, y_pred_train))"
   ]
  },
  {
   "cell_type": "code",
   "execution_count": 35,
   "metadata": {},
   "outputs": [
    {
     "name": "stdout",
     "output_type": "stream",
     "text": [
      "Confusion matrix (test): \n",
      "[[10  0  0]\n",
      " [ 0 10  0]\n",
      " [ 0  1  9]]\n"
     ]
    }
   ],
   "source": [
    "print(\"Confusion matrix (test): \")\n",
    "print(confusion_matrix(y_test, y_pred_test))"
   ]
  },
  {
   "cell_type": "code",
   "execution_count": null,
   "metadata": {},
   "outputs": [],
   "source": []
  },
  {
   "cell_type": "markdown",
   "metadata": {},
   "source": [
    "## Regression Model Evaluation  ----  K Neares Neighbors Regression"
   ]
  },
  {
   "cell_type": "markdown",
   "metadata": {},
   "source": [
    "## 1. Split this data set into training (80%) and testing (20%) sets.\n",
    "\n",
    "The `MEDV` field represents the median value of owner-occupied homes (in $1000's) and is the target variable that we will want to predict."
   ]
  },
  {
   "cell_type": "code",
   "execution_count": 36,
   "metadata": {},
   "outputs": [
    {
     "name": "stdout",
     "output_type": "stream",
     "text": [
      "Fitting 5 folds for each of 7 candidates, totalling 35 fits\n"
     ]
    },
    {
     "name": "stderr",
     "output_type": "stream",
     "text": [
      "[Parallel(n_jobs=1)]: Using backend SequentialBackend with 1 concurrent workers.\n",
      "[Parallel(n_jobs=1)]: Done  35 out of  35 | elapsed:    0.3s finished\n"
     ]
    },
    {
     "data": {
      "text/plain": [
       "0   -58.624255\n",
       "6   -51.595080\n",
       "5   -49.149101\n",
       "4   -47.786954\n",
       "3   -46.923997\n",
       "2   -45.508049\n",
       "1   -43.343404\n",
       "Name: mean_test_score, dtype: float64"
      ]
     },
     "execution_count": 36,
     "metadata": {},
     "output_type": "execute_result"
    }
   ],
   "source": [
    "data = load_boston()\n",
    "\n",
    "X = pd.DataFrame(data[\"data\"], columns=data[\"feature_names\"])\n",
    "y = pd.DataFrame(data[\"target\"], columns=['MEDV'])\n",
    "\n",
    "data = pd.concat([X, y], axis=1)\n",
    "\n",
    "\n",
    "\n",
    "X_train, X_test, y_train, y_test = train_test_split(X,y,train_size=0.8 )\n",
    "\n",
    "from sklearn.neighbors import KNeighborsClassifier\n",
    "from sklearn.neighbors import KNeighborsRegressor\n",
    "\n",
    "params = {'n_neighbors':np.arange(1,15,2)}\n",
    "\n",
    "grid = GridSearchCV(\n",
    "     estimator=KNeighborsRegressor(),\n",
    "     param_grid=params,\n",
    "     verbose=1,\n",
    "     scoring=\"neg_mean_squared_error\",\n",
    "     return_train_score=True\n",
    ")\n",
    "\n",
    "grid.fit(X_train,y_train)\n",
    "\n",
    "pd.DataFrame(grid.cv_results_)[\"mean_test_score\"].sort_values()"
   ]
  },
  {
   "cell_type": "code",
   "execution_count": 37,
   "metadata": {},
   "outputs": [
    {
     "data": {
      "text/plain": [
       "mean_fit_time                 0.00244551\n",
       "std_fit_time                 0.000145264\n",
       "mean_score_time               0.00272503\n",
       "std_score_time               0.000674207\n",
       "param_n_neighbors                      3\n",
       "params                {'n_neighbors': 3}\n",
       "split0_test_score               -44.3605\n",
       "split1_test_score                -39.345\n",
       "split2_test_score               -44.2162\n",
       "split3_test_score               -41.0044\n",
       "split4_test_score                -47.791\n",
       "mean_test_score                 -43.3434\n",
       "std_test_score                   2.93382\n",
       "rank_test_score                        1\n",
       "split0_train_score               -19.495\n",
       "split1_train_score              -21.9489\n",
       "split2_train_score              -20.3632\n",
       "split3_train_score              -20.5706\n",
       "split4_train_score              -18.1497\n",
       "mean_train_score                -20.1055\n",
       "std_train_score                  1.25528\n",
       "Name: 1, dtype: object"
      ]
     },
     "execution_count": 37,
     "metadata": {},
     "output_type": "execute_result"
    }
   ],
   "source": [
    "df=pd.DataFrame(grid.cv_results_)\n",
    "df.loc[1]"
   ]
  },
  {
   "cell_type": "code",
   "execution_count": null,
   "metadata": {},
   "outputs": [],
   "source": []
  },
  {
   "cell_type": "markdown",
   "metadata": {},
   "source": [
    "## 2. Train a `LinearRegression` model on this data set and generate predictions on both the training and the testing set."
   ]
  },
  {
   "cell_type": "code",
   "execution_count": 38,
   "metadata": {},
   "outputs": [
    {
     "data": {
      "text/plain": [
       "KNeighborsRegressor(n_neighbors=3)"
      ]
     },
     "execution_count": 38,
     "metadata": {},
     "output_type": "execute_result"
    }
   ],
   "source": [
    "\n",
    "knn = KNeighborsRegressor(3)\n",
    "knn.fit(X_train,y_train)"
   ]
  },
  {
   "cell_type": "markdown",
   "metadata": {},
   "source": [
    "## 3. Calculate and print R-squared for both the training and the testing set."
   ]
  },
  {
   "cell_type": "code",
   "execution_count": 39,
   "metadata": {
    "scrolled": true
   },
   "outputs": [
    {
     "name": "stdout",
     "output_type": "stream",
     "text": [
      "R**2 (train) = 0.7823911468979835\n",
      "R**2 (test) = 0.6899697987071066\n"
     ]
    }
   ],
   "source": [
    "y_pred_train = knn.predict(X_train)\n",
    "r_squared_train = r2_score(y_train, y_pred_train)\n",
    "print(\"R**2 (train) =\",r_squared_train)\n",
    "\n",
    "y_pred_test = knn.predict(X_test)\n",
    "r_squared_test = r2_score(y_test, y_pred_test)\n",
    "print(\"R**2 (test) =\",r_squared_test)"
   ]
  },
  {
   "cell_type": "markdown",
   "metadata": {},
   "source": [
    "## 4. Calculate and print mean squared error for both the training and the testing set."
   ]
  },
  {
   "cell_type": "code",
   "execution_count": 40,
   "metadata": {},
   "outputs": [
    {
     "name": "stdout",
     "output_type": "stream",
     "text": [
      "RMSE (train) = 4.221625008426397\n",
      "RMSE (test) = 5.382082150884274\n"
     ]
    }
   ],
   "source": [
    "\n",
    "print(\"RMSE (train) =\",mean_squared_error(y_train, y_pred_train, squared=False))\n",
    "\n",
    "print(\"RMSE (test) =\",mean_squared_error(y_test, y_pred_test, squared=False))"
   ]
  },
  {
   "cell_type": "markdown",
   "metadata": {},
   "source": [
    "## 5. Calculate and print mean absolute error for both the training and the testing set."
   ]
  },
  {
   "cell_type": "code",
   "execution_count": 41,
   "metadata": {
    "scrolled": false
   },
   "outputs": [
    {
     "name": "stdout",
     "output_type": "stream",
     "text": [
      "MAE (train) = 2.8613861386138613\n",
      "MAE (test) = 3.9539215686274507\n"
     ]
    }
   ],
   "source": [
    "\n",
    "print(\"MAE (train) =\",mean_absolute_error(y_train, y_pred_train))\n",
    "\n",
    "print(\"MAE (test) =\",mean_absolute_error(y_test, y_pred_test))"
   ]
  },
  {
   "cell_type": "code",
   "execution_count": null,
   "metadata": {},
   "outputs": [],
   "source": []
  }
 ],
 "metadata": {
  "kernelspec": {
   "display_name": "Python 3",
   "language": "python",
   "name": "python3"
  },
  "language_info": {
   "codemirror_mode": {
    "name": "ipython",
    "version": 3
   },
   "file_extension": ".py",
   "mimetype": "text/x-python",
   "name": "python",
   "nbconvert_exporter": "python",
   "pygments_lexer": "ipython3",
   "version": "3.8.5"
  }
 },
 "nbformat": 4,
 "nbformat_minor": 2
}
